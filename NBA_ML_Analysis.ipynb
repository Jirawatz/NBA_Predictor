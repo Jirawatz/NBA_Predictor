{
 "cells": [
  {
   "cell_type": "markdown",
   "id": "9d8f17a3",
   "metadata": {},
   "source": [
    " ### Discuss what ML tools will be used and the relevant assumptions required to apply each.\n",
    " One of the algorithm that will be used in this project to predict future NBA stars is K-Nearest-Neighbor algorithm. Which will be used to train the NBA player college career statistic and predict if given a new college basketball player, will the player become a NBA star? In order to used KNN classifier, we must first examine the importance of each features, or basically what are the features of all NBA star have in common, and which features are irrelevant in prediction. Hence, a random forest algorithm may be used to help us identify those common features between all NBA player during their college career, in order to come up with more accurate KNN classifer.\n",
    " \n",
    " Another ML tools that we will be using is the confusion matrix and Kfold cross-validation algorithm, which will be used to evaluate the accuracy of the classifier. To evaluate the performance of our KNN, we will be calculating accuracy per group of classification. This will ensure that we can identify strength and weakness of our KNN model, and eventually come up with a way to strengthen the model, by adding more data, features or etc.\n",
    " \n",
    " Although we have mentioned KNN as a main classifier model, we can also try decision tree algorithm as a classifier, since decision tree may help us to come up with a certain threshold for each important features, instead of finding the closet matches between an NBA star and non-NBA star, which may be useful for us in predicting a NBA star.\n",
    " \n",
    " To conclude, we will be mainly using machine learning classification algorithm as a primary way to come up with the prediction, instead of other types of machine learning algorithm such as regression or clustering."
   ]
  },
  {
   "cell_type": "code",
   "execution_count": null,
   "id": "ef8d5068",
   "metadata": {},
   "outputs": [],
   "source": []
  }
 ],
 "metadata": {
  "kernelspec": {
   "display_name": "Python 3 (ipykernel)",
   "language": "python",
   "name": "python3"
  },
  "language_info": {
   "codemirror_mode": {
    "name": "ipython",
    "version": 3
   },
   "file_extension": ".py",
   "mimetype": "text/x-python",
   "name": "python",
   "nbconvert_exporter": "python",
   "pygments_lexer": "ipython3",
   "version": "3.9.5"
  }
 },
 "nbformat": 4,
 "nbformat_minor": 5
}
