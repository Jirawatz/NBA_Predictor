{
 "cells": [
  {
   "cell_type": "markdown",
   "id": "eec6f12c",
   "metadata": {},
   "source": [
    "# Data and Analysis Plan: College Basketball to NBA: Star Prediction\n",
    "## Team-13\n",
    "\n",
    "- Amaan Bhojani (bhojani.a@northeastern.edu)\n",
    "- Jirawat Zhou (zhou.jir@northeastern.edu)\n",
    "- Joshua Newstadt (newstadt.j@northeastern.edu)\n",
    "- Jarrett Anderson (anderson.jar@northeastern.edu)\n",
    "\n",
    "\n",
    "## Project Goal:\n",
    "Our motivation for the project is to try and see if we can predict which current college basketball players will have successful NBA players. Even today, certain college players seem like they will be stars in the league and they end up being busts, we aim to shed some light as to whose skills will properly translate at the next level. "
   ]
  },
  {
   "cell_type": "markdown",
   "id": "306a8ed4",
   "metadata": {},
   "source": [
    "## Overview:\n",
    "We will scrape our data from two separate websites. \n",
    "\n",
    "#### Basketball Reference\n",
    "The first site we will scrape is basketball-reference.com which will give us a [list of all Players](https://www.basketball-reference.com/leagues/NBA_2021_totals.html) for a given season which we can reference to find their [college stats](https://www.basketball-reference.com/players).\n",
    "\n",
    "<img src=\"https://lh3.googleusercontent.com/zcmiuxLfVzrc1x2NzxZ4mbuQ7-2mMAMpgnx7-EPHwu0mZrW3_gnMZ3R2gLu6X8-8nP448wiK724nJdltPsGonYT8dRD-_0zd_U9KOLlDs0NT-NeEQffvXjTxxlihJGLPeeMXgAs4ECU=w2400\" width=800px/>\n",
    "\n",
    "From the list of players we can obtain:\n",
    "- name\n",
    "- url to specific player page\n",
    "\n",
    "<img src=\"https://lh3.googleusercontent.com/LvO1eGKEqjfSLe_OZeXCA4zjDx6-ifVXGq9YeXSAc7b_Qf-lee-QMWrM-3RZpS_h1a0u8u-BXKGzrPFbtciSqm-YnrVbUHtJLk6yb7yLUMSkaaZsSxDPey71r_qjr3TqyyZWiZ-7EWM=w2400\">\n",
    "\n",
    "Upon visiting an individual player's page we can find their college stats.\n",
    "\n",
    "<img src=\"https://lh3.googleusercontent.com/pk68MH39TLKlwvPJQTZnZPVHbiWC55S3LNfZrivqDA0RZQSDGYliGO-xOIfUpN6D4Er3Yz9a6B2-zgLVHbmA_XG4FukDrPaAjzzzcggQWBralbFjgkl7CEMersioOxbPrY-S4Z4ZplQ=w2400\">\n",
    "\n",
    "This is the table we are targeting as it contains the:\n",
    "- season\n",
    "- age\n",
    "- college\n",
    "- total stats for the season\n",
    "\n",
    "Some players will have played multiple college seasons while other only one. To simplify our analysis, each player's college stats will be reduced to their total college career averages across every category.  \n",
    "\n",
    "\n",
    "#### Fantasy Pros\n",
    "The second site that we will scrape is fantasypros.com which will give us a [list of all Players including their Fantasy Points](https://www.fantasypros.com/nba/stats/overall.php) for a given season.\n",
    "\n",
    "<img src=\"https://lh3.googleusercontent.com/kwNP7yD1RCmmBpr7ws4jNgE_AY1JV4TFnacpKohGnlt9bn-JlL5ujDX0aEWubOrXgDeP1wcfTuhaZ0QVuuAKJkeOkSe4Yud2Z-yszUzAfvOhWvsC_uVS4ahGFjO-p8A6-dxa5Lx9py4=w2400\">\n",
    "\n",
    "This table is targeted as it provides each NBA player's total accrued Fantasy Points for a given season."
   ]
  },
  {
   "cell_type": "markdown",
   "id": "63e013cc",
   "metadata": {},
   "source": [
    "## Pipeline Overview\n",
    "We will accomplish this task by creating various functions. \n",
    "\n",
    "#### Basketball Reference\n",
    "To get each player's total college career stats we will use eight functions:\n",
    "- `get_nba_player_html(year)`\n",
    "    - returns the raw html webscrapped from [basketball-reference.com](https://www.basketball-reference.com/leagues/NBA_2021_totals.html) \n",
    "- `extract_nba_player(html_player)` \n",
    "    - returns a DataFrame of the webscrapped NBA Player's and their respective NBA Stat Page URLs \n",
    "- `get_nba_collegestat(player_url)`\n",
    "    - returns the raw html webscrapped from the NBA Player's Stat Page\n",
    "- `extract_nba_collegestat(html_stat)`\n",
    "    - returns a Dictionary of the NBA Player's College Stats by season\n",
    "- `build_nba_college(df_player)`\n",
    "    - returns a DataFrame of the all the NBA Player's College Stats by season\n",
    "- `get_multiple_years(df_college_stats)`\n",
    "    -  returns a GroupBy Object representing the grouping of an NBA Player and their individual seasons of college play\n",
    "- `avg_college_stats(df_multiples)`\n",
    "    - returns a DataFrame of an NBA player and their Average College Career Stats\n",
    "- `build_final_college(df_college_avg, df_college_stats)`\n",
    "    - returns all the college stats, one player per fow, multi-year stats averaged \n",
    "    \n",
    "#### Fantasy Pros\n",
    "To get each player's total fantasy points we will use 2 functions:\n",
    "- `get_fantasy_stat(year)`\n",
    "    - returns the raw html webscraped from [fantasypros.com](https://www.fantasypros.com/nba/stats/overall.php)\n",
    "- `extract_nba_stat(nba_html)`\n",
    "    - returns a DataFrame of NBA Player's Total Fantasy Points and Season Stats\n",
    "\n",
    "As well as three scripts:\n",
    "- **Scrape List of Player's and their College Stats:** use `get_nba_player(year)` and `extract_nba_player(html_player)` to get all the NBA Players and their Player Page URLs, populating a DataFrame `df_player`. From there use `build_nba_college(df_player)` on the DataFrame `df_player`, which populates a DataFrame `df_college_stats`. \n",
    "- **Clean the College Data:**  Use `get_multiple_years(df_college_stats)` on `df_college_stats`, which populates a DataFrame `df_multiples`. From there use `avg_college_stats(df_multiples)` on `df_multiples`, populating a DataFrame `df_college_avg`. Then we use `build_final_college(df_college_avg, df_college_stats)` on the `df_college_avg` and `df_college_stats` DataFrames. This reduces these two DataFrames, populating a new DataFrame `df_final_college`.\n",
    "- **Scrape List of Player's and their Fantasy Points:** use `get_fantasy_stat(year)` and `extract_nba_stat(nba_html)` populating a DataFrame `df_nba_stat`\n",
    "- **Combine Player's Fantasy Points and their Average College Stats:** use `get_fantasy_points(df_nba_stat, df_final_college)` on `df_nba_stat` and `df_final_college` to get the fantasy poitns for only players with college stats, populating a Dictionary `fantasy_dict`. Then use `build_all_stats(fantasy_dict, df_final_college)` on `fantasy_dict` and `df_final_college` to build a DataFrame of all college stats and fantasy points. Save this new DataFrame as `df_all_stats`. "
   ]
  },
  {
   "cell_type": "markdown",
   "id": "b18a6d82",
   "metadata": {},
   "source": [
    "## Pipeline"
   ]
  },
  {
   "cell_type": "code",
   "execution_count": 3,
   "id": "2b07f60d",
   "metadata": {},
   "outputs": [],
   "source": [
    "import requests\n",
    "import pandas as pd\n",
    "from bs4 import BeautifulSoup\n",
    "import numpy as np"
   ]
  },
  {
   "cell_type": "markdown",
   "id": "cc9e41d4",
   "metadata": {},
   "source": [
    "### Basketball Reference"
   ]
  },
  {
   "cell_type": "code",
   "execution_count": 4,
   "id": "c217c713",
   "metadata": {},
   "outputs": [],
   "source": [
    "def get_nba_player_html(year):\n",
    "    \"\"\" Web scrapping https://www.basketball-reference.com/leagues/NBA_2021_totals.html\n",
    "        to retrieve NBA player college statistic\n",
    "        \n",
    "        Args:\n",
    "            year (int) : Represent year in yyyy format (e.g. 2021)\n",
    "        \n",
    "        Return:\n",
    "            html_player (html) : raw html webscrapped from basketball-reference.com\n",
    "    \"\"\"\n",
    "    nba_player = f'https://www.basketball-reference.com/leagues/NBA_{year}_totals.html'\n",
    "    html_player = requests.get(nba_player)\n",
    "    status = html_player.status_code\n",
    "    \n",
    "    # If page load correctly\n",
    "    if status == 200:\n",
    "        return html_player.text"
   ]
  },
  {
   "cell_type": "code",
   "execution_count": 5,
   "id": "29c46aa2",
   "metadata": {},
   "outputs": [],
   "source": [
    "def extract_nba_player(html_player):\n",
    "    \"\"\" Extract the NBA player from the crawled webpage in order to retrieve stat\n",
    "    \n",
    "        Args:\n",
    "            html_player (String) : Represent the crawled league webpage\n",
    "            \n",
    "        Return:\n",
    "            df_player (DataFrame) : Represent list of player and corresponding stat URL\n",
    "    \"\"\"\n",
    "    base_url = 'https://www.basketball-reference.com'\n",
    "    soup = BeautifulSoup(html_player)\n",
    "    df_player = pd.DataFrame()\n",
    "    \n",
    "    # Find all player with stat URL\n",
    "    for player in soup.find_all('td', {'data-stat': 'player'}):\n",
    "        link = player.find_all('a')[0]\n",
    "        \n",
    "        # Construct Dict that contain Player Name and URL to player stat\n",
    "        dict_player = {'player_name' : player.text,\n",
    "                      'url' : base_url + link.attrs['href']}\n",
    "        \n",
    "        df_player = df_player.append(dict_player, ignore_index=True)\n",
    "        \n",
    "    \n",
    "    # Drop any duplicate and retain the first entries\n",
    "    df_player.drop_duplicates(subset='player_name', keep='first', inplace=True)\n",
    "        \n",
    "    return df_player"
   ]
  },
  {
   "cell_type": "code",
   "execution_count": 6,
   "id": "8b045781",
   "metadata": {},
   "outputs": [],
   "source": [
    "def get_nba_collegestat(player_url):\n",
    "    \"\"\" Web Scrapping https://www.basketball-reference.com/players and retrive player's\n",
    "        college statistic\n",
    "        \n",
    "        Args:\n",
    "            player_url (String) : Represent URL that contain player stat\n",
    "            \n",
    "        Return:\n",
    "            html_stat (String) : Represent the stat for all NBA player in HTML\n",
    "    \"\"\"\n",
    "    html_stat = requests.get(player_url)\n",
    "    status = html_stat.status_code\n",
    "    \n",
    "    # If page load correctly\n",
    "    if status == 200:\n",
    "        return html_stat.text"
   ]
  },
  {
   "cell_type": "code",
   "execution_count": 7,
   "id": "1c8672c3",
   "metadata": {},
   "outputs": [],
   "source": [
    "def extract_nba_collegestat(html_stat):\n",
    "    \"\"\" Extract college stat from NBA player\n",
    "    \n",
    "        Args:\n",
    "            html_stat (String) : Represent the crawled player stat webpage\n",
    "            \n",
    "        Return:\n",
    "            dict_stat (Dictionary) : Represent the player college stat\n",
    "    \"\"\"\n",
    "    soup = BeautifulSoup(html_stat)\n",
    "    \n",
    "    # Clean up hidden scripts\n",
    "    stat_wcomment = soup.find_all('div', {'id':'all_all_college_stats'})\n",
    "    \n",
    "    if not stat_wcomment:\n",
    "        dict_stat = {}\n",
    "        return dict_stat\n",
    "    else:\n",
    "        str_stat = str(stat_wcomment[0]).replace('<!--','').replace('-->','')\n",
    "    \n",
    "        soup = BeautifulSoup(str_stat)\n",
    "        stat_body = soup.find('tbody')\n",
    "\n",
    "        # Initalize Dict\n",
    "        dict_stat = {}\n",
    "\n",
    "        # Add year\n",
    "        for year in stat_body.find_all('th'):\n",
    "            # Get Year and Value\n",
    "            key = year.get('data-stat')\n",
    "            value = year.text\n",
    "\n",
    "            if key not in dict_stat.keys():\n",
    "                dict_stat[key] = [value]\n",
    "            else:\n",
    "                dict_stat[key] = dict_stat[key] + [value]\n",
    "\n",
    "\n",
    "        # Add Stat Information\n",
    "        for stat in stat_body.find_all('td'):\n",
    "            # Get Metric and Value\n",
    "            key = stat.get('data-stat')\n",
    "            value = stat.text\n",
    "\n",
    "            if key not in dict_stat.keys():\n",
    "                dict_stat[key] = [value]\n",
    "            else:\n",
    "                dict_stat[key] = dict_stat[key] + [value]\n",
    "    \n",
    "        return dict_stat"
   ]
  },
  {
   "cell_type": "code",
   "execution_count": 8,
   "id": "f37c4ee2",
   "metadata": {},
   "outputs": [],
   "source": [
    "def build_nba_college(df_player):\n",
    "    \"\"\" Build the NBA college Data given list of player and URL\n",
    "    \n",
    "        Args:\n",
    "            df_player (DataFrame) : Represent list of Player and corresponding stat URL\n",
    "            \n",
    "        Return:\n",
    "            df_nba_collegestat (DataFrame) : Represent the NBA Player college stat\n",
    "    \"\"\"\n",
    "    df_nba_collegestat = pd.DataFrame()\n",
    "    \n",
    "    # iterate through each player and url in dataframe\n",
    "    for idx, row in df_player.iterrows():\n",
    "        player = row['player_name']\n",
    "        url = row['url']\n",
    "        \n",
    "        # get player stats as dictionary\n",
    "        player_stat_url = get_nba_collegestat(url)\n",
    "        dict_player_stat = extract_nba_collegestat(player_stat_url)\n",
    "        \n",
    "        # convert dictionary to dataframe\n",
    "        df_player_temp = pd.DataFrame(dict_player_stat)\n",
    "        df_player_temp['player_name'] = player\n",
    "        \n",
    "        # adds player dataframe to full stats dataframe\n",
    "        df_nba_collegestat = df_nba_collegestat.append(df_player_temp)\n",
    "        \n",
    "    return df_nba_collegestat "
   ]
  },
  {
   "cell_type": "code",
   "execution_count": 9,
   "id": "ccbacad0",
   "metadata": {},
   "outputs": [],
   "source": [
    "def get_multiple_years(df_college_stats):\n",
    "    \"\"\" Gets dataframe of players who played multiple years\n",
    "\n",
    "        Args:\n",
    "            df_college_stats (pd.DataFrame): all college player statistics\n",
    "        \n",
    "        Returns:\n",
    "            df_multiples (pd.GroupBy): all statistics of multiple year players\n",
    "                                            grouped by player\n",
    "    \"\"\"\n",
    "    # removes duplicates and groups them by player\n",
    "    x = df_college_stats.duplicated(['player_name'],keep=False)\n",
    "    df_multiples = df_college_stats[x].groupby('player_name',sort=False)\n",
    "    \n",
    "    return(df_multiples)"
   ]
  },
  {
   "cell_type": "code",
   "execution_count": 10,
   "id": "62b81a43",
   "metadata": {},
   "outputs": [],
   "source": [
    "def avg_college_stats(df_multiples):\n",
    "    \"\"\" Gets average of college career stats\n",
    "    \n",
    "    Args:\n",
    "        df_multiples (pd.GroupBy): all statistics of multiple year players\n",
    "                                            grouped by player\n",
    "    \n",
    "    Returns:\n",
    "        df_college_avg (pd.DataFrame): average of each multi-year player's college career\n",
    "    \"\"\"\n",
    "    # the columns names of averagable stats\n",
    "    mean_column_list = list(df_college_stats.columns)[3:-1]\n",
    "    \n",
    "    # initalize list to collect each Series\n",
    "    all_college_stats = []\n",
    "    \n",
    "    # iterates through players that have multi-year college careers\n",
    "    for player in df_multiples:\n",
    "        name, stats = player[0], player[1]\n",
    "        \n",
    "        # creates series of just averagable stats\n",
    "        stats_to_avg = stats.loc[:,mean_column_list]\n",
    "        \n",
    "        # removes potential errors\n",
    "        stats_to_avg.replace('',0.0,inplace=True)\n",
    "        \n",
    "        # converts strings to floats\n",
    "        for column in stats_to_avg.columns:\n",
    "            for idx in stats_to_avg[column].index: \n",
    "                stats_to_avg[column][idx] = float(stats_to_avg[column][idx])\n",
    "        \n",
    "        # averages college stats\n",
    "        avg_stats = round(stats_to_avg.mean(axis=0), 2)\n",
    "\n",
    "        # creates new career duration data\n",
    "        career_season = stats['season'].iloc[0][:4]+'-'+stats['season'].iloc[-1][:4]\n",
    "        \n",
    "        # adds career duration and player name to series\n",
    "        avg_stats['season'] = career_season\n",
    "        avg_stats['player_name'] = name\n",
    "        \n",
    "        # appends series to list\n",
    "        all_college_stats.append(avg_stats)\n",
    "        \n",
    "    # builds dataframe from list\n",
    "    df_college_avg = pd.DataFrame(all_college_stats)\n",
    "    \n",
    "    return(df_college_avg)"
   ]
  },
  {
   "cell_type": "code",
   "execution_count": 11,
   "id": "850b5aa5",
   "metadata": {},
   "outputs": [],
   "source": [
    "def build_final_college(df_college_avg, df_college_stats):\n",
    "    \"\"\" Combines dataframes of single year players with avg multi-year players\n",
    "    \n",
    "    Args:\n",
    "        df_college_avg (pd.Dataframe): averaged stats of multi-year players\n",
    "        df_college_stats (pd.DataFrame): stats for all players, each row a year\n",
    "        \n",
    "    Returns:\n",
    "        df_final_college (pd.DataFrame): all college stats, one player per row\n",
    "                                            multi-year stats averaged\n",
    "    \"\"\"\n",
    "    # get multi-year players\n",
    "    multiples = df_college_stats.duplicated(['player_name'],keep=False)\n",
    "    \n",
    "    # keeps just single year players\n",
    "    df_college = df_college_stats[~multiples].drop(['college_id','age'],axis=1)\n",
    "    \n",
    "    # append averaged multi-years to dataframe of single years\n",
    "    df_final_college = df_college.append(df_college_avg)\n",
    "    \n",
    "    # cleans indicies\n",
    "    df_final_college.reset_index(inplace=True)\n",
    "    df_final_college.drop('index',axis=1,inplace=True)\n",
    "    \n",
    "    return(df_final_college)"
   ]
  },
  {
   "cell_type": "markdown",
   "id": "227c74f4",
   "metadata": {},
   "source": [
    "#### Scrape List of Player's and their College Stats:"
   ]
  },
  {
   "cell_type": "code",
   "execution_count": 12,
   "id": "a507920c",
   "metadata": {},
   "outputs": [],
   "source": [
    "html_player = get_nba_player_html(2021)\n",
    "df_player = extract_nba_player(html_player)"
   ]
  },
  {
   "cell_type": "code",
   "execution_count": 13,
   "id": "9191d082",
   "metadata": {
    "scrolled": true
   },
   "outputs": [
    {
     "data": {
      "text/html": [
       "<div>\n",
       "<style scoped>\n",
       "    .dataframe tbody tr th:only-of-type {\n",
       "        vertical-align: middle;\n",
       "    }\n",
       "\n",
       "    .dataframe tbody tr th {\n",
       "        vertical-align: top;\n",
       "    }\n",
       "\n",
       "    .dataframe thead th {\n",
       "        text-align: right;\n",
       "    }\n",
       "</style>\n",
       "<table border=\"1\" class=\"dataframe\">\n",
       "  <thead>\n",
       "    <tr style=\"text-align: right;\">\n",
       "      <th></th>\n",
       "      <th>player_name</th>\n",
       "      <th>url</th>\n",
       "    </tr>\n",
       "  </thead>\n",
       "  <tbody>\n",
       "    <tr>\n",
       "      <th>0</th>\n",
       "      <td>Precious Achiuwa</td>\n",
       "      <td>https://www.basketball-reference.com/players/a...</td>\n",
       "    </tr>\n",
       "    <tr>\n",
       "      <th>1</th>\n",
       "      <td>Jaylen Adams</td>\n",
       "      <td>https://www.basketball-reference.com/players/a...</td>\n",
       "    </tr>\n",
       "    <tr>\n",
       "      <th>2</th>\n",
       "      <td>Steven Adams</td>\n",
       "      <td>https://www.basketball-reference.com/players/a...</td>\n",
       "    </tr>\n",
       "    <tr>\n",
       "      <th>3</th>\n",
       "      <td>Bam Adebayo</td>\n",
       "      <td>https://www.basketball-reference.com/players/a...</td>\n",
       "    </tr>\n",
       "    <tr>\n",
       "      <th>4</th>\n",
       "      <td>LaMarcus Aldridge</td>\n",
       "      <td>https://www.basketball-reference.com/players/a...</td>\n",
       "    </tr>\n",
       "  </tbody>\n",
       "</table>\n",
       "</div>"
      ],
      "text/plain": [
       "         player_name                                                url\n",
       "0   Precious Achiuwa  https://www.basketball-reference.com/players/a...\n",
       "1       Jaylen Adams  https://www.basketball-reference.com/players/a...\n",
       "2       Steven Adams  https://www.basketball-reference.com/players/a...\n",
       "3        Bam Adebayo  https://www.basketball-reference.com/players/a...\n",
       "4  LaMarcus Aldridge  https://www.basketball-reference.com/players/a..."
      ]
     },
     "execution_count": 13,
     "metadata": {},
     "output_type": "execute_result"
    }
   ],
   "source": [
    "df_player.head()"
   ]
  },
  {
   "cell_type": "code",
   "execution_count": 14,
   "id": "f748d565",
   "metadata": {},
   "outputs": [
    {
     "data": {
      "text/plain": [
       "{'season': ['2019-20'],\n",
       " 'age': ['20'],\n",
       " 'college_id': ['MEMPHIS'],\n",
       " 'g': ['31'],\n",
       " 'mp': ['943'],\n",
       " 'fg': ['182'],\n",
       " 'fga': ['369'],\n",
       " 'fg3': ['13'],\n",
       " 'fg3a': ['40'],\n",
       " 'ft': ['112'],\n",
       " 'fta': ['187'],\n",
       " 'orb': ['93'],\n",
       " 'trb': ['334'],\n",
       " 'ast': ['30'],\n",
       " 'stl': ['34'],\n",
       " 'blk': ['58'],\n",
       " 'tov': ['87'],\n",
       " 'pf': ['73'],\n",
       " 'pts': ['489'],\n",
       " 'fg_pct': ['.493'],\n",
       " 'fg3_pct': ['.325'],\n",
       " 'ft_pct': ['.599'],\n",
       " 'mp_per_g': ['30.4'],\n",
       " 'pts_per_g': ['15.8'],\n",
       " 'trb_per_g': ['10.8'],\n",
       " 'ast_per_g': ['1.0']}"
      ]
     },
     "execution_count": 14,
     "metadata": {},
     "output_type": "execute_result"
    }
   ],
   "source": [
    "url = df_player.loc[0,'url']\n",
    "html_stat = get_nba_collegestat(url)\n",
    "extract_nba_collegestat(html_stat)"
   ]
  },
  {
   "cell_type": "markdown",
   "id": "6a7bbe03",
   "metadata": {},
   "source": [
    "### Label on Column\n",
    "- g : represent number of games the player had participated\n",
    "- mp : represent number of minutes that the players has played\n",
    "- fg : represent number of field goal\n",
    "- fga : represent the number of field goal attempts\n",
    "- fg3 : represent the number of 3-point field goal\n",
    "- fg3a : represent the number of 3-point field goal attempts\n",
    "- ft : represent the number of free throws\n",
    "- fta : represent the number of free throws attempt\n",
    "- orb : represent the number of offensive rebound\n",
    "- trb : represent the total number of rebound\n",
    "- ast : represent the number of asist\n",
    "- stl : represent the number of steals\n",
    "- blk : represent the number block player successfully blocked\n",
    "- tov : represent the number of turnover\n",
    "- pf : represent the number of personal foul\n",
    "- pts : represent the number of points earned\n",
    "- fg_pct : represent the number of successful field goal in term of percentage\n",
    "- fg3_pct : represent the number of successful 3-points field goal in term of percentage\n",
    "- ft_pct : represent the number of successful free throw in term of percentage\n",
    "- mp_per_g : represent the number of minutes played per game\n",
    "- pts_per_g : represent the number of points earned per game\n",
    "- trb_per_g : represent the number of total rebounds per game\n",
    "- ast_per_g : represent the number of assist per game"
   ]
  },
  {
   "cell_type": "code",
   "execution_count": 15,
   "id": "7533b6d3",
   "metadata": {},
   "outputs": [],
   "source": [
    "df_college_stats = build_nba_college(df_player)"
   ]
  },
  {
   "cell_type": "code",
   "execution_count": 16,
   "id": "7d269700",
   "metadata": {
    "scrolled": true
   },
   "outputs": [
    {
     "data": {
      "text/html": [
       "<div>\n",
       "<style scoped>\n",
       "    .dataframe tbody tr th:only-of-type {\n",
       "        vertical-align: middle;\n",
       "    }\n",
       "\n",
       "    .dataframe tbody tr th {\n",
       "        vertical-align: top;\n",
       "    }\n",
       "\n",
       "    .dataframe thead th {\n",
       "        text-align: right;\n",
       "    }\n",
       "</style>\n",
       "<table border=\"1\" class=\"dataframe\">\n",
       "  <thead>\n",
       "    <tr style=\"text-align: right;\">\n",
       "      <th></th>\n",
       "      <th>season</th>\n",
       "      <th>age</th>\n",
       "      <th>college_id</th>\n",
       "      <th>g</th>\n",
       "      <th>mp</th>\n",
       "      <th>fg</th>\n",
       "      <th>fga</th>\n",
       "      <th>fg3</th>\n",
       "      <th>fg3a</th>\n",
       "      <th>ft</th>\n",
       "      <th>...</th>\n",
       "      <th>pf</th>\n",
       "      <th>pts</th>\n",
       "      <th>fg_pct</th>\n",
       "      <th>fg3_pct</th>\n",
       "      <th>ft_pct</th>\n",
       "      <th>mp_per_g</th>\n",
       "      <th>pts_per_g</th>\n",
       "      <th>trb_per_g</th>\n",
       "      <th>ast_per_g</th>\n",
       "      <th>player_name</th>\n",
       "    </tr>\n",
       "  </thead>\n",
       "  <tbody>\n",
       "    <tr>\n",
       "      <th>0</th>\n",
       "      <td>2019-20</td>\n",
       "      <td>20</td>\n",
       "      <td>MEMPHIS</td>\n",
       "      <td>31</td>\n",
       "      <td>943</td>\n",
       "      <td>182</td>\n",
       "      <td>369</td>\n",
       "      <td>13</td>\n",
       "      <td>40</td>\n",
       "      <td>112</td>\n",
       "      <td>...</td>\n",
       "      <td>73</td>\n",
       "      <td>489</td>\n",
       "      <td>.493</td>\n",
       "      <td>.325</td>\n",
       "      <td>.599</td>\n",
       "      <td>30.4</td>\n",
       "      <td>15.8</td>\n",
       "      <td>10.8</td>\n",
       "      <td>1.0</td>\n",
       "      <td>Precious Achiuwa</td>\n",
       "    </tr>\n",
       "    <tr>\n",
       "      <th>0</th>\n",
       "      <td>2014-15</td>\n",
       "      <td>18</td>\n",
       "      <td>STBONNY</td>\n",
       "      <td>22</td>\n",
       "      <td>714</td>\n",
       "      <td>61</td>\n",
       "      <td>158</td>\n",
       "      <td>34</td>\n",
       "      <td>105</td>\n",
       "      <td>65</td>\n",
       "      <td>...</td>\n",
       "      <td>47</td>\n",
       "      <td>221</td>\n",
       "      <td>.386</td>\n",
       "      <td>.324</td>\n",
       "      <td>.783</td>\n",
       "      <td>32.5</td>\n",
       "      <td>10.0</td>\n",
       "      <td>2.5</td>\n",
       "      <td>4.5</td>\n",
       "      <td>Jaylen Adams</td>\n",
       "    </tr>\n",
       "    <tr>\n",
       "      <th>1</th>\n",
       "      <td>2015-16</td>\n",
       "      <td>19</td>\n",
       "      <td>STBONNY</td>\n",
       "      <td>30</td>\n",
       "      <td>1125</td>\n",
       "      <td>150</td>\n",
       "      <td>337</td>\n",
       "      <td>84</td>\n",
       "      <td>192</td>\n",
       "      <td>153</td>\n",
       "      <td>...</td>\n",
       "      <td>80</td>\n",
       "      <td>537</td>\n",
       "      <td>.445</td>\n",
       "      <td>.438</td>\n",
       "      <td>.874</td>\n",
       "      <td>37.5</td>\n",
       "      <td>17.9</td>\n",
       "      <td>3.7</td>\n",
       "      <td>5.0</td>\n",
       "      <td>Jaylen Adams</td>\n",
       "    </tr>\n",
       "    <tr>\n",
       "      <th>2</th>\n",
       "      <td>2016-17</td>\n",
       "      <td>20</td>\n",
       "      <td>STBONNY</td>\n",
       "      <td>30</td>\n",
       "      <td>1123</td>\n",
       "      <td>168</td>\n",
       "      <td>401</td>\n",
       "      <td>77</td>\n",
       "      <td>216</td>\n",
       "      <td>206</td>\n",
       "      <td>...</td>\n",
       "      <td>84</td>\n",
       "      <td>619</td>\n",
       "      <td>.419</td>\n",
       "      <td>.356</td>\n",
       "      <td>.821</td>\n",
       "      <td>37.4</td>\n",
       "      <td>20.6</td>\n",
       "      <td>3.7</td>\n",
       "      <td>6.5</td>\n",
       "      <td>Jaylen Adams</td>\n",
       "    </tr>\n",
       "    <tr>\n",
       "      <th>3</th>\n",
       "      <td>2017-18</td>\n",
       "      <td>21</td>\n",
       "      <td>STBONNY</td>\n",
       "      <td>28</td>\n",
       "      <td>1036</td>\n",
       "      <td>153</td>\n",
       "      <td>350</td>\n",
       "      <td>75</td>\n",
       "      <td>172</td>\n",
       "      <td>154</td>\n",
       "      <td>...</td>\n",
       "      <td>80</td>\n",
       "      <td>535</td>\n",
       "      <td>.437</td>\n",
       "      <td>.436</td>\n",
       "      <td>.851</td>\n",
       "      <td>37.0</td>\n",
       "      <td>19.1</td>\n",
       "      <td>3.4</td>\n",
       "      <td>5.2</td>\n",
       "      <td>Jaylen Adams</td>\n",
       "    </tr>\n",
       "  </tbody>\n",
       "</table>\n",
       "<p>5 rows × 27 columns</p>\n",
       "</div>"
      ],
      "text/plain": [
       "    season age college_id   g    mp   fg  fga fg3 fg3a   ft  ...  pf  pts  \\\n",
       "0  2019-20  20    MEMPHIS  31   943  182  369  13   40  112  ...  73  489   \n",
       "0  2014-15  18    STBONNY  22   714   61  158  34  105   65  ...  47  221   \n",
       "1  2015-16  19    STBONNY  30  1125  150  337  84  192  153  ...  80  537   \n",
       "2  2016-17  20    STBONNY  30  1123  168  401  77  216  206  ...  84  619   \n",
       "3  2017-18  21    STBONNY  28  1036  153  350  75  172  154  ...  80  535   \n",
       "\n",
       "  fg_pct fg3_pct ft_pct mp_per_g pts_per_g trb_per_g ast_per_g  \\\n",
       "0   .493    .325   .599     30.4      15.8      10.8       1.0   \n",
       "0   .386    .324   .783     32.5      10.0       2.5       4.5   \n",
       "1   .445    .438   .874     37.5      17.9       3.7       5.0   \n",
       "2   .419    .356   .821     37.4      20.6       3.7       6.5   \n",
       "3   .437    .436   .851     37.0      19.1       3.4       5.2   \n",
       "\n",
       "        player_name  \n",
       "0  Precious Achiuwa  \n",
       "0      Jaylen Adams  \n",
       "1      Jaylen Adams  \n",
       "2      Jaylen Adams  \n",
       "3      Jaylen Adams  \n",
       "\n",
       "[5 rows x 27 columns]"
      ]
     },
     "execution_count": 16,
     "metadata": {},
     "output_type": "execute_result"
    }
   ],
   "source": [
    "df_college_stats.head()"
   ]
  },
  {
   "cell_type": "markdown",
   "id": "4d5cff61",
   "metadata": {},
   "source": [
    "#### Clean the College Data:"
   ]
  },
  {
   "cell_type": "code",
   "execution_count": 17,
   "id": "b581c966",
   "metadata": {},
   "outputs": [
    {
     "data": {
      "text/html": [
       "<div>\n",
       "<style scoped>\n",
       "    .dataframe tbody tr th:only-of-type {\n",
       "        vertical-align: middle;\n",
       "    }\n",
       "\n",
       "    .dataframe tbody tr th {\n",
       "        vertical-align: top;\n",
       "    }\n",
       "\n",
       "    .dataframe thead th {\n",
       "        text-align: right;\n",
       "    }\n",
       "</style>\n",
       "<table border=\"1\" class=\"dataframe\">\n",
       "  <thead>\n",
       "    <tr style=\"text-align: right;\">\n",
       "      <th></th>\n",
       "      <th>season</th>\n",
       "      <th>age</th>\n",
       "      <th>college_id</th>\n",
       "      <th>g</th>\n",
       "      <th>mp</th>\n",
       "      <th>fg</th>\n",
       "      <th>fga</th>\n",
       "      <th>fg3</th>\n",
       "      <th>fg3a</th>\n",
       "      <th>ft</th>\n",
       "      <th>...</th>\n",
       "      <th>pf</th>\n",
       "      <th>pts</th>\n",
       "      <th>fg_pct</th>\n",
       "      <th>fg3_pct</th>\n",
       "      <th>ft_pct</th>\n",
       "      <th>mp_per_g</th>\n",
       "      <th>pts_per_g</th>\n",
       "      <th>trb_per_g</th>\n",
       "      <th>ast_per_g</th>\n",
       "      <th>player_name</th>\n",
       "    </tr>\n",
       "  </thead>\n",
       "  <tbody>\n",
       "    <tr>\n",
       "      <th>0</th>\n",
       "      <td>2014-15</td>\n",
       "      <td>18</td>\n",
       "      <td>STBONNY</td>\n",
       "      <td>22</td>\n",
       "      <td>714</td>\n",
       "      <td>61</td>\n",
       "      <td>158</td>\n",
       "      <td>34</td>\n",
       "      <td>105</td>\n",
       "      <td>65</td>\n",
       "      <td>...</td>\n",
       "      <td>47</td>\n",
       "      <td>221</td>\n",
       "      <td>.386</td>\n",
       "      <td>.324</td>\n",
       "      <td>.783</td>\n",
       "      <td>32.5</td>\n",
       "      <td>10.0</td>\n",
       "      <td>2.5</td>\n",
       "      <td>4.5</td>\n",
       "      <td>Jaylen Adams</td>\n",
       "    </tr>\n",
       "    <tr>\n",
       "      <th>1</th>\n",
       "      <td>2015-16</td>\n",
       "      <td>19</td>\n",
       "      <td>STBONNY</td>\n",
       "      <td>30</td>\n",
       "      <td>1125</td>\n",
       "      <td>150</td>\n",
       "      <td>337</td>\n",
       "      <td>84</td>\n",
       "      <td>192</td>\n",
       "      <td>153</td>\n",
       "      <td>...</td>\n",
       "      <td>80</td>\n",
       "      <td>537</td>\n",
       "      <td>.445</td>\n",
       "      <td>.438</td>\n",
       "      <td>.874</td>\n",
       "      <td>37.5</td>\n",
       "      <td>17.9</td>\n",
       "      <td>3.7</td>\n",
       "      <td>5.0</td>\n",
       "      <td>Jaylen Adams</td>\n",
       "    </tr>\n",
       "    <tr>\n",
       "      <th>2</th>\n",
       "      <td>2016-17</td>\n",
       "      <td>20</td>\n",
       "      <td>STBONNY</td>\n",
       "      <td>30</td>\n",
       "      <td>1123</td>\n",
       "      <td>168</td>\n",
       "      <td>401</td>\n",
       "      <td>77</td>\n",
       "      <td>216</td>\n",
       "      <td>206</td>\n",
       "      <td>...</td>\n",
       "      <td>84</td>\n",
       "      <td>619</td>\n",
       "      <td>.419</td>\n",
       "      <td>.356</td>\n",
       "      <td>.821</td>\n",
       "      <td>37.4</td>\n",
       "      <td>20.6</td>\n",
       "      <td>3.7</td>\n",
       "      <td>6.5</td>\n",
       "      <td>Jaylen Adams</td>\n",
       "    </tr>\n",
       "    <tr>\n",
       "      <th>3</th>\n",
       "      <td>2017-18</td>\n",
       "      <td>21</td>\n",
       "      <td>STBONNY</td>\n",
       "      <td>28</td>\n",
       "      <td>1036</td>\n",
       "      <td>153</td>\n",
       "      <td>350</td>\n",
       "      <td>75</td>\n",
       "      <td>172</td>\n",
       "      <td>154</td>\n",
       "      <td>...</td>\n",
       "      <td>80</td>\n",
       "      <td>535</td>\n",
       "      <td>.437</td>\n",
       "      <td>.436</td>\n",
       "      <td>.851</td>\n",
       "      <td>37.0</td>\n",
       "      <td>19.1</td>\n",
       "      <td>3.4</td>\n",
       "      <td>5.2</td>\n",
       "      <td>Jaylen Adams</td>\n",
       "    </tr>\n",
       "    <tr>\n",
       "      <th>0</th>\n",
       "      <td>2004-05</td>\n",
       "      <td>19</td>\n",
       "      <td>TEXAS</td>\n",
       "      <td>16</td>\n",
       "      <td>355</td>\n",
       "      <td>57</td>\n",
       "      <td>86</td>\n",
       "      <td>0</td>\n",
       "      <td>0</td>\n",
       "      <td>44</td>\n",
       "      <td>...</td>\n",
       "      <td></td>\n",
       "      <td>158</td>\n",
       "      <td>.663</td>\n",
       "      <td></td>\n",
       "      <td>.657</td>\n",
       "      <td>22.2</td>\n",
       "      <td>9.9</td>\n",
       "      <td>5.9</td>\n",
       "      <td>0.9</td>\n",
       "      <td>LaMarcus Aldridge</td>\n",
       "    </tr>\n",
       "    <tr>\n",
       "      <th>...</th>\n",
       "      <td>...</td>\n",
       "      <td>...</td>\n",
       "      <td>...</td>\n",
       "      <td>...</td>\n",
       "      <td>...</td>\n",
       "      <td>...</td>\n",
       "      <td>...</td>\n",
       "      <td>...</td>\n",
       "      <td>...</td>\n",
       "      <td>...</td>\n",
       "      <td>...</td>\n",
       "      <td>...</td>\n",
       "      <td>...</td>\n",
       "      <td>...</td>\n",
       "      <td>...</td>\n",
       "      <td>...</td>\n",
       "      <td>...</td>\n",
       "      <td>...</td>\n",
       "      <td>...</td>\n",
       "      <td>...</td>\n",
       "      <td>...</td>\n",
       "    </tr>\n",
       "    <tr>\n",
       "      <th>1</th>\n",
       "      <td>2019-20</td>\n",
       "      <td>20</td>\n",
       "      <td>MISSST</td>\n",
       "      <td>31</td>\n",
       "      <td>1025</td>\n",
       "      <td>136</td>\n",
       "      <td>275</td>\n",
       "      <td>30</td>\n",
       "      <td>70</td>\n",
       "      <td>50</td>\n",
       "      <td>...</td>\n",
       "      <td>58</td>\n",
       "      <td>352</td>\n",
       "      <td>.495</td>\n",
       "      <td>.429</td>\n",
       "      <td>.641</td>\n",
       "      <td>33.1</td>\n",
       "      <td>11.4</td>\n",
       "      <td>6.5</td>\n",
       "      <td>1.3</td>\n",
       "      <td>Robert Woodard II</td>\n",
       "    </tr>\n",
       "    <tr>\n",
       "      <th>0</th>\n",
       "      <td>2013-14</td>\n",
       "      <td>21</td>\n",
       "      <td>UTAH</td>\n",
       "      <td>33</td>\n",
       "      <td>1202</td>\n",
       "      <td>174</td>\n",
       "      <td>310</td>\n",
       "      <td>12</td>\n",
       "      <td>54</td>\n",
       "      <td>153</td>\n",
       "      <td>...</td>\n",
       "      <td>61</td>\n",
       "      <td>513</td>\n",
       "      <td>.561</td>\n",
       "      <td>.222</td>\n",
       "      <td>.793</td>\n",
       "      <td>36.4</td>\n",
       "      <td>15.5</td>\n",
       "      <td>6.8</td>\n",
       "      <td>5.3</td>\n",
       "      <td>Delon Wright</td>\n",
       "    </tr>\n",
       "    <tr>\n",
       "      <th>1</th>\n",
       "      <td>2014-15</td>\n",
       "      <td>22</td>\n",
       "      <td>UTAH</td>\n",
       "      <td>35</td>\n",
       "      <td>1165</td>\n",
       "      <td>165</td>\n",
       "      <td>324</td>\n",
       "      <td>26</td>\n",
       "      <td>73</td>\n",
       "      <td>153</td>\n",
       "      <td>...</td>\n",
       "      <td>49</td>\n",
       "      <td>509</td>\n",
       "      <td>.509</td>\n",
       "      <td>.356</td>\n",
       "      <td>.836</td>\n",
       "      <td>33.3</td>\n",
       "      <td>14.5</td>\n",
       "      <td>4.9</td>\n",
       "      <td>5.1</td>\n",
       "      <td>Delon Wright</td>\n",
       "    </tr>\n",
       "    <tr>\n",
       "      <th>0</th>\n",
       "      <td>2011-12</td>\n",
       "      <td>19</td>\n",
       "      <td>INDIANA</td>\n",
       "      <td>36</td>\n",
       "      <td>1025</td>\n",
       "      <td>200</td>\n",
       "      <td>321</td>\n",
       "      <td>0</td>\n",
       "      <td>0</td>\n",
       "      <td>163</td>\n",
       "      <td>...</td>\n",
       "      <td>97</td>\n",
       "      <td>563</td>\n",
       "      <td>.623</td>\n",
       "      <td></td>\n",
       "      <td>.755</td>\n",
       "      <td>28.5</td>\n",
       "      <td>15.6</td>\n",
       "      <td>6.6</td>\n",
       "      <td>1.3</td>\n",
       "      <td>Cody Zeller</td>\n",
       "    </tr>\n",
       "    <tr>\n",
       "      <th>1</th>\n",
       "      <td>2012-13</td>\n",
       "      <td>20</td>\n",
       "      <td>INDIANA</td>\n",
       "      <td>36</td>\n",
       "      <td>1062</td>\n",
       "      <td>199</td>\n",
       "      <td>353</td>\n",
       "      <td>0</td>\n",
       "      <td>2</td>\n",
       "      <td>196</td>\n",
       "      <td>...</td>\n",
       "      <td>80</td>\n",
       "      <td>594</td>\n",
       "      <td>.564</td>\n",
       "      <td>.000</td>\n",
       "      <td>.757</td>\n",
       "      <td>29.5</td>\n",
       "      <td>16.5</td>\n",
       "      <td>8.0</td>\n",
       "      <td>1.3</td>\n",
       "      <td>Cody Zeller</td>\n",
       "    </tr>\n",
       "  </tbody>\n",
       "</table>\n",
       "<p>1005 rows × 27 columns</p>\n",
       "</div>"
      ],
      "text/plain": [
       "     season age college_id   g    mp   fg  fga fg3 fg3a   ft  ...  pf  pts  \\\n",
       "0   2014-15  18    STBONNY  22   714   61  158  34  105   65  ...  47  221   \n",
       "1   2015-16  19    STBONNY  30  1125  150  337  84  192  153  ...  80  537   \n",
       "2   2016-17  20    STBONNY  30  1123  168  401  77  216  206  ...  84  619   \n",
       "3   2017-18  21    STBONNY  28  1036  153  350  75  172  154  ...  80  535   \n",
       "0   2004-05  19      TEXAS  16   355   57   86   0    0   44  ...      158   \n",
       "..      ...  ..        ...  ..   ...  ...  ...  ..  ...  ...  ...  ..  ...   \n",
       "1   2019-20  20     MISSST  31  1025  136  275  30   70   50  ...  58  352   \n",
       "0   2013-14  21       UTAH  33  1202  174  310  12   54  153  ...  61  513   \n",
       "1   2014-15  22       UTAH  35  1165  165  324  26   73  153  ...  49  509   \n",
       "0   2011-12  19    INDIANA  36  1025  200  321   0    0  163  ...  97  563   \n",
       "1   2012-13  20    INDIANA  36  1062  199  353   0    2  196  ...  80  594   \n",
       "\n",
       "   fg_pct fg3_pct ft_pct mp_per_g pts_per_g trb_per_g ast_per_g  \\\n",
       "0    .386    .324   .783     32.5      10.0       2.5       4.5   \n",
       "1    .445    .438   .874     37.5      17.9       3.7       5.0   \n",
       "2    .419    .356   .821     37.4      20.6       3.7       6.5   \n",
       "3    .437    .436   .851     37.0      19.1       3.4       5.2   \n",
       "0    .663           .657     22.2       9.9       5.9       0.9   \n",
       "..    ...     ...    ...      ...       ...       ...       ...   \n",
       "1    .495    .429   .641     33.1      11.4       6.5       1.3   \n",
       "0    .561    .222   .793     36.4      15.5       6.8       5.3   \n",
       "1    .509    .356   .836     33.3      14.5       4.9       5.1   \n",
       "0    .623           .755     28.5      15.6       6.6       1.3   \n",
       "1    .564    .000   .757     29.5      16.5       8.0       1.3   \n",
       "\n",
       "          player_name  \n",
       "0        Jaylen Adams  \n",
       "1        Jaylen Adams  \n",
       "2        Jaylen Adams  \n",
       "3        Jaylen Adams  \n",
       "0   LaMarcus Aldridge  \n",
       "..                ...  \n",
       "1   Robert Woodard II  \n",
       "0        Delon Wright  \n",
       "1        Delon Wright  \n",
       "0         Cody Zeller  \n",
       "1         Cody Zeller  \n",
       "\n",
       "[1005 rows x 27 columns]"
      ]
     },
     "execution_count": 17,
     "metadata": {},
     "output_type": "execute_result"
    }
   ],
   "source": [
    "df_multiples = get_multiple_years(df_college_stats)\n",
    "df_multiples.head()"
   ]
  },
  {
   "cell_type": "code",
   "execution_count": 18,
   "id": "ed9516c1",
   "metadata": {
    "scrolled": true
   },
   "outputs": [
    {
     "name": "stderr",
     "output_type": "stream",
     "text": [
      "/var/folders/qz/55_xb7cn65bfhh753gdt_j9w0000gn/T/ipykernel_1163/1339992317.py:30: SettingWithCopyWarning: \n",
      "A value is trying to be set on a copy of a slice from a DataFrame\n",
      "\n",
      "See the caveats in the documentation: https://pandas.pydata.org/pandas-docs/stable/user_guide/indexing.html#returning-a-view-versus-a-copy\n",
      "  stats_to_avg[column][idx] = float(stats_to_avg[column][idx])\n"
     ]
    },
    {
     "data": {
      "text/html": [
       "<div>\n",
       "<style scoped>\n",
       "    .dataframe tbody tr th:only-of-type {\n",
       "        vertical-align: middle;\n",
       "    }\n",
       "\n",
       "    .dataframe tbody tr th {\n",
       "        vertical-align: top;\n",
       "    }\n",
       "\n",
       "    .dataframe thead th {\n",
       "        text-align: right;\n",
       "    }\n",
       "</style>\n",
       "<table border=\"1\" class=\"dataframe\">\n",
       "  <thead>\n",
       "    <tr style=\"text-align: right;\">\n",
       "      <th></th>\n",
       "      <th>g</th>\n",
       "      <th>mp</th>\n",
       "      <th>fg</th>\n",
       "      <th>fga</th>\n",
       "      <th>fg3</th>\n",
       "      <th>fg3a</th>\n",
       "      <th>ft</th>\n",
       "      <th>fta</th>\n",
       "      <th>orb</th>\n",
       "      <th>trb</th>\n",
       "      <th>...</th>\n",
       "      <th>pts</th>\n",
       "      <th>fg_pct</th>\n",
       "      <th>fg3_pct</th>\n",
       "      <th>ft_pct</th>\n",
       "      <th>mp_per_g</th>\n",
       "      <th>pts_per_g</th>\n",
       "      <th>trb_per_g</th>\n",
       "      <th>ast_per_g</th>\n",
       "      <th>season</th>\n",
       "      <th>player_name</th>\n",
       "    </tr>\n",
       "  </thead>\n",
       "  <tbody>\n",
       "    <tr>\n",
       "      <th>0</th>\n",
       "      <td>27.50</td>\n",
       "      <td>999.50</td>\n",
       "      <td>133.00</td>\n",
       "      <td>311.50</td>\n",
       "      <td>67.50</td>\n",
       "      <td>171.25</td>\n",
       "      <td>144.50</td>\n",
       "      <td>172.50</td>\n",
       "      <td>14.75</td>\n",
       "      <td>93.0</td>\n",
       "      <td>...</td>\n",
       "      <td>478.00</td>\n",
       "      <td>0.42</td>\n",
       "      <td>0.39</td>\n",
       "      <td>0.83</td>\n",
       "      <td>36.10</td>\n",
       "      <td>16.90</td>\n",
       "      <td>3.32</td>\n",
       "      <td>5.30</td>\n",
       "      <td>2014-2017</td>\n",
       "      <td>Jaylen Adams</td>\n",
       "    </tr>\n",
       "    <tr>\n",
       "      <th>1</th>\n",
       "      <td>26.50</td>\n",
       "      <td>801.00</td>\n",
       "      <td>138.00</td>\n",
       "      <td>235.50</td>\n",
       "      <td>0.00</td>\n",
       "      <td>0.00</td>\n",
       "      <td>80.50</td>\n",
       "      <td>124.00</td>\n",
       "      <td>0.00</td>\n",
       "      <td>217.0</td>\n",
       "      <td>...</td>\n",
       "      <td>356.50</td>\n",
       "      <td>0.62</td>\n",
       "      <td>0.00</td>\n",
       "      <td>0.65</td>\n",
       "      <td>27.95</td>\n",
       "      <td>12.45</td>\n",
       "      <td>7.55</td>\n",
       "      <td>0.70</td>\n",
       "      <td>2004-2005</td>\n",
       "      <td>LaMarcus Aldridge</td>\n",
       "    </tr>\n",
       "    <tr>\n",
       "      <th>2</th>\n",
       "      <td>32.67</td>\n",
       "      <td>922.67</td>\n",
       "      <td>133.33</td>\n",
       "      <td>319.00</td>\n",
       "      <td>70.00</td>\n",
       "      <td>188.33</td>\n",
       "      <td>77.00</td>\n",
       "      <td>94.67</td>\n",
       "      <td>10.33</td>\n",
       "      <td>120.0</td>\n",
       "      <td>...</td>\n",
       "      <td>413.67</td>\n",
       "      <td>0.42</td>\n",
       "      <td>0.37</td>\n",
       "      <td>0.79</td>\n",
       "      <td>28.33</td>\n",
       "      <td>12.70</td>\n",
       "      <td>3.70</td>\n",
       "      <td>2.27</td>\n",
       "      <td>2017-2019</td>\n",
       "      <td>Ty-Shon Alexander</td>\n",
       "    </tr>\n",
       "    <tr>\n",
       "      <th>3</th>\n",
       "      <td>33.50</td>\n",
       "      <td>1003.00</td>\n",
       "      <td>157.00</td>\n",
       "      <td>338.50</td>\n",
       "      <td>58.00</td>\n",
       "      <td>151.50</td>\n",
       "      <td>79.00</td>\n",
       "      <td>103.50</td>\n",
       "      <td>19.50</td>\n",
       "      <td>133.0</td>\n",
       "      <td>...</td>\n",
       "      <td>451.00</td>\n",
       "      <td>0.46</td>\n",
       "      <td>0.38</td>\n",
       "      <td>0.75</td>\n",
       "      <td>29.85</td>\n",
       "      <td>13.45</td>\n",
       "      <td>3.95</td>\n",
       "      <td>2.75</td>\n",
       "      <td>2017-2018</td>\n",
       "      <td>Nickeil Alexander-Walker</td>\n",
       "    </tr>\n",
       "    <tr>\n",
       "      <th>4</th>\n",
       "      <td>35.50</td>\n",
       "      <td>991.25</td>\n",
       "      <td>151.50</td>\n",
       "      <td>352.25</td>\n",
       "      <td>72.75</td>\n",
       "      <td>191.50</td>\n",
       "      <td>123.25</td>\n",
       "      <td>147.75</td>\n",
       "      <td>19.00</td>\n",
       "      <td>112.5</td>\n",
       "      <td>...</td>\n",
       "      <td>499.00</td>\n",
       "      <td>0.43</td>\n",
       "      <td>0.37</td>\n",
       "      <td>0.84</td>\n",
       "      <td>27.75</td>\n",
       "      <td>14.00</td>\n",
       "      <td>3.15</td>\n",
       "      <td>3.00</td>\n",
       "      <td>2014-2017</td>\n",
       "      <td>Grayson Allen</td>\n",
       "    </tr>\n",
       "  </tbody>\n",
       "</table>\n",
       "<p>5 rows × 25 columns</p>\n",
       "</div>"
      ],
      "text/plain": [
       "       g       mp      fg     fga    fg3    fg3a      ft     fta    orb  \\\n",
       "0  27.50   999.50  133.00  311.50  67.50  171.25  144.50  172.50  14.75   \n",
       "1  26.50   801.00  138.00  235.50   0.00    0.00   80.50  124.00   0.00   \n",
       "2  32.67   922.67  133.33  319.00  70.00  188.33   77.00   94.67  10.33   \n",
       "3  33.50  1003.00  157.00  338.50  58.00  151.50   79.00  103.50  19.50   \n",
       "4  35.50   991.25  151.50  352.25  72.75  191.50  123.25  147.75  19.00   \n",
       "\n",
       "     trb  ...     pts  fg_pct  fg3_pct  ft_pct  mp_per_g  pts_per_g  \\\n",
       "0   93.0  ...  478.00    0.42     0.39    0.83     36.10      16.90   \n",
       "1  217.0  ...  356.50    0.62     0.00    0.65     27.95      12.45   \n",
       "2  120.0  ...  413.67    0.42     0.37    0.79     28.33      12.70   \n",
       "3  133.0  ...  451.00    0.46     0.38    0.75     29.85      13.45   \n",
       "4  112.5  ...  499.00    0.43     0.37    0.84     27.75      14.00   \n",
       "\n",
       "   trb_per_g  ast_per_g     season               player_name  \n",
       "0       3.32       5.30  2014-2017              Jaylen Adams  \n",
       "1       7.55       0.70  2004-2005         LaMarcus Aldridge  \n",
       "2       3.70       2.27  2017-2019         Ty-Shon Alexander  \n",
       "3       3.95       2.75  2017-2018  Nickeil Alexander-Walker  \n",
       "4       3.15       3.00  2014-2017             Grayson Allen  \n",
       "\n",
       "[5 rows x 25 columns]"
      ]
     },
     "execution_count": 18,
     "metadata": {},
     "output_type": "execute_result"
    }
   ],
   "source": [
    "df_college_avg = avg_college_stats(df_multiples)\n",
    "df_college_avg.head()"
   ]
  },
  {
   "cell_type": "code",
   "execution_count": 19,
   "id": "654b11da",
   "metadata": {},
   "outputs": [
    {
     "data": {
      "text/html": [
       "<div>\n",
       "<style scoped>\n",
       "    .dataframe tbody tr th:only-of-type {\n",
       "        vertical-align: middle;\n",
       "    }\n",
       "\n",
       "    .dataframe tbody tr th {\n",
       "        vertical-align: top;\n",
       "    }\n",
       "\n",
       "    .dataframe thead th {\n",
       "        text-align: right;\n",
       "    }\n",
       "</style>\n",
       "<table border=\"1\" class=\"dataframe\">\n",
       "  <thead>\n",
       "    <tr style=\"text-align: right;\">\n",
       "      <th></th>\n",
       "      <th>season</th>\n",
       "      <th>g</th>\n",
       "      <th>mp</th>\n",
       "      <th>fg</th>\n",
       "      <th>fga</th>\n",
       "      <th>fg3</th>\n",
       "      <th>fg3a</th>\n",
       "      <th>ft</th>\n",
       "      <th>fta</th>\n",
       "      <th>orb</th>\n",
       "      <th>...</th>\n",
       "      <th>pf</th>\n",
       "      <th>pts</th>\n",
       "      <th>fg_pct</th>\n",
       "      <th>fg3_pct</th>\n",
       "      <th>ft_pct</th>\n",
       "      <th>mp_per_g</th>\n",
       "      <th>pts_per_g</th>\n",
       "      <th>trb_per_g</th>\n",
       "      <th>ast_per_g</th>\n",
       "      <th>player_name</th>\n",
       "    </tr>\n",
       "  </thead>\n",
       "  <tbody>\n",
       "    <tr>\n",
       "      <th>0</th>\n",
       "      <td>2019-20</td>\n",
       "      <td>31</td>\n",
       "      <td>943</td>\n",
       "      <td>182</td>\n",
       "      <td>369</td>\n",
       "      <td>13</td>\n",
       "      <td>40</td>\n",
       "      <td>112</td>\n",
       "      <td>187</td>\n",
       "      <td>93</td>\n",
       "      <td>...</td>\n",
       "      <td>73</td>\n",
       "      <td>489</td>\n",
       "      <td>.493</td>\n",
       "      <td>.325</td>\n",
       "      <td>.599</td>\n",
       "      <td>30.4</td>\n",
       "      <td>15.8</td>\n",
       "      <td>10.8</td>\n",
       "      <td>1.0</td>\n",
       "      <td>Precious Achiuwa</td>\n",
       "    </tr>\n",
       "    <tr>\n",
       "      <th>1</th>\n",
       "      <td>2012-13</td>\n",
       "      <td>32</td>\n",
       "      <td>749</td>\n",
       "      <td>100</td>\n",
       "      <td>175</td>\n",
       "      <td>0</td>\n",
       "      <td>0</td>\n",
       "      <td>31</td>\n",
       "      <td>70</td>\n",
       "      <td>90</td>\n",
       "      <td>...</td>\n",
       "      <td>52</td>\n",
       "      <td>231</td>\n",
       "      <td>.571</td>\n",
       "      <td></td>\n",
       "      <td>.443</td>\n",
       "      <td>23.4</td>\n",
       "      <td>7.2</td>\n",
       "      <td>6.3</td>\n",
       "      <td>0.6</td>\n",
       "      <td>Steven Adams</td>\n",
       "    </tr>\n",
       "    <tr>\n",
       "      <th>2</th>\n",
       "      <td>2016-17</td>\n",
       "      <td>38</td>\n",
       "      <td>1145</td>\n",
       "      <td>170</td>\n",
       "      <td>284</td>\n",
       "      <td>0</td>\n",
       "      <td>0</td>\n",
       "      <td>154</td>\n",
       "      <td>236</td>\n",
       "      <td>118</td>\n",
       "      <td>...</td>\n",
       "      <td>99</td>\n",
       "      <td>494</td>\n",
       "      <td>.599</td>\n",
       "      <td></td>\n",
       "      <td>.653</td>\n",
       "      <td>30.1</td>\n",
       "      <td>13.0</td>\n",
       "      <td>8.0</td>\n",
       "      <td>0.8</td>\n",
       "      <td>Bam Adebayo</td>\n",
       "    </tr>\n",
       "    <tr>\n",
       "      <th>3</th>\n",
       "      <td>2016-17</td>\n",
       "      <td>33</td>\n",
       "      <td>1061</td>\n",
       "      <td>179</td>\n",
       "      <td>316</td>\n",
       "      <td>0</td>\n",
       "      <td>7</td>\n",
       "      <td>84</td>\n",
       "      <td>149</td>\n",
       "      <td>100</td>\n",
       "      <td>...</td>\n",
       "      <td>68</td>\n",
       "      <td>442</td>\n",
       "      <td>.566</td>\n",
       "      <td>.000</td>\n",
       "      <td>.564</td>\n",
       "      <td>32.2</td>\n",
       "      <td>13.4</td>\n",
       "      <td>8.4</td>\n",
       "      <td>0.8</td>\n",
       "      <td>Jarrett Allen</td>\n",
       "    </tr>\n",
       "    <tr>\n",
       "      <th>4</th>\n",
       "      <td>2017-18</td>\n",
       "      <td>29</td>\n",
       "      <td>438</td>\n",
       "      <td>58</td>\n",
       "      <td>101</td>\n",
       "      <td>2</td>\n",
       "      <td>15</td>\n",
       "      <td>33</td>\n",
       "      <td>64</td>\n",
       "      <td>24</td>\n",
       "      <td>...</td>\n",
       "      <td>66</td>\n",
       "      <td>151</td>\n",
       "      <td>.574</td>\n",
       "      <td>.133</td>\n",
       "      <td>.516</td>\n",
       "      <td>15.1</td>\n",
       "      <td>5.2</td>\n",
       "      <td>2.9</td>\n",
       "      <td>0.4</td>\n",
       "      <td>Kostas Antetokounmpo</td>\n",
       "    </tr>\n",
       "  </tbody>\n",
       "</table>\n",
       "<p>5 rows × 25 columns</p>\n",
       "</div>"
      ],
      "text/plain": [
       "    season   g    mp   fg  fga fg3 fg3a   ft  fta  orb  ...  pf  pts fg_pct  \\\n",
       "0  2019-20  31   943  182  369  13   40  112  187   93  ...  73  489   .493   \n",
       "1  2012-13  32   749  100  175   0    0   31   70   90  ...  52  231   .571   \n",
       "2  2016-17  38  1145  170  284   0    0  154  236  118  ...  99  494   .599   \n",
       "3  2016-17  33  1061  179  316   0    7   84  149  100  ...  68  442   .566   \n",
       "4  2017-18  29   438   58  101   2   15   33   64   24  ...  66  151   .574   \n",
       "\n",
       "  fg3_pct ft_pct mp_per_g pts_per_g trb_per_g ast_per_g           player_name  \n",
       "0    .325   .599     30.4      15.8      10.8       1.0      Precious Achiuwa  \n",
       "1           .443     23.4       7.2       6.3       0.6          Steven Adams  \n",
       "2           .653     30.1      13.0       8.0       0.8           Bam Adebayo  \n",
       "3    .000   .564     32.2      13.4       8.4       0.8         Jarrett Allen  \n",
       "4    .133   .516     15.1       5.2       2.9       0.4  Kostas Antetokounmpo  \n",
       "\n",
       "[5 rows x 25 columns]"
      ]
     },
     "execution_count": 19,
     "metadata": {},
     "output_type": "execute_result"
    }
   ],
   "source": [
    "df_final_college = build_final_college(df_college_avg, df_college_stats)\n",
    "df_final_college.head()"
   ]
  },
  {
   "cell_type": "markdown",
   "id": "78205d08",
   "metadata": {},
   "source": [
    "### Fantasy Pros"
   ]
  },
  {
   "cell_type": "code",
   "execution_count": 20,
   "id": "5889a75b",
   "metadata": {},
   "outputs": [],
   "source": [
    "def get_fantasy_stat(year):\n",
    "    \"\"\" Get all NBA Player Stat from https://www.fantasypros.com/nba/stats/overall.php\n",
    "    \n",
    "        Args:\n",
    "            year (int) : Represent year in yyyy which NBA data will be extracted \n",
    "            \n",
    "        Return:\n",
    "            nba_html (string) : Represent the NBA stat in HTML Representation\n",
    "    \"\"\"\n",
    "    nba_url = f'https://www.fantasypros.com/nba/stats/overall.php?year={year}'\n",
    "    nba_html = requests.get(nba_url)\n",
    "    status = nba_html.status_code\n",
    "    \n",
    "    # If page load correctly\n",
    "    if status == 200:\n",
    "        return nba_html.text"
   ]
  },
  {
   "cell_type": "code",
   "execution_count": 21,
   "id": "1de04f22",
   "metadata": {},
   "outputs": [],
   "source": [
    "def extract_nba_stat(nba_html):\n",
    "    \"\"\" Extract NBA Stat from the fantasypros website\n",
    "    \n",
    "        Args:\n",
    "            nba_html (string) : Represent the NBA stat in HTML Representation\n",
    "            \n",
    "        Return:\n",
    "            df_nba_stat (DataFrame) : Represent the dataframe contain NBA stat\n",
    "    \n",
    "    \"\"\"\n",
    "    dict_nba_stat = {'Player' : [], \n",
    "                    'PTS' : [],\n",
    "                    'REB' : [],\n",
    "                    'AST' : [],\n",
    "                    'BLK' : [],\n",
    "                    'STL' : [],\n",
    "                    'FG%' : [],\n",
    "                    'FT%' : [],\n",
    "                    '3PM' : [],\n",
    "                    'TO' : [],\n",
    "                    'GP' : [],\n",
    "                    'MIN' : [],\n",
    "                    'FTM' : [],\n",
    "                    '2PM' :[],\n",
    "                    'A/TO' : [],\n",
    "                    'PF':[]}\n",
    "    df_nba_stat = pd.DataFrame(dict_nba_stat)\n",
    "    soup = BeautifulSoup(nba_html)\n",
    "    \n",
    "    # Extract all Information\n",
    "    for row in soup.find('tbody').find_all('tr'):\n",
    "        arr = np.array([i.text for i in row.find_all('td')])\n",
    "        \n",
    "        df_nba_stat = df_nba_stat.append(pd.DataFrame(arr.reshape(1,-1), columns=list(df_nba_stat)), ignore_index=True)\n",
    "        \n",
    "    return df_nba_stat"
   ]
  },
  {
   "cell_type": "markdown",
   "id": "a4c87203",
   "metadata": {},
   "source": [
    "#### Scrape List of Player's and their Fantasy Points:"
   ]
  },
  {
   "cell_type": "code",
   "execution_count": 22,
   "id": "8e8db57a",
   "metadata": {
    "scrolled": true
   },
   "outputs": [
    {
     "data": {
      "text/html": [
       "<div>\n",
       "<style scoped>\n",
       "    .dataframe tbody tr th:only-of-type {\n",
       "        vertical-align: middle;\n",
       "    }\n",
       "\n",
       "    .dataframe tbody tr th {\n",
       "        vertical-align: top;\n",
       "    }\n",
       "\n",
       "    .dataframe thead th {\n",
       "        text-align: right;\n",
       "    }\n",
       "</style>\n",
       "<table border=\"1\" class=\"dataframe\">\n",
       "  <thead>\n",
       "    <tr style=\"text-align: right;\">\n",
       "      <th></th>\n",
       "      <th>Player</th>\n",
       "      <th>PTS</th>\n",
       "      <th>REB</th>\n",
       "      <th>AST</th>\n",
       "      <th>BLK</th>\n",
       "      <th>STL</th>\n",
       "      <th>FG%</th>\n",
       "      <th>FT%</th>\n",
       "      <th>3PM</th>\n",
       "      <th>TO</th>\n",
       "      <th>GP</th>\n",
       "      <th>MIN</th>\n",
       "      <th>FTM</th>\n",
       "      <th>2PM</th>\n",
       "      <th>A/TO</th>\n",
       "      <th>PF</th>\n",
       "    </tr>\n",
       "  </thead>\n",
       "  <tbody>\n",
       "    <tr>\n",
       "      <th>0</th>\n",
       "      <td>Trae Young (ATL - PG) DTD</td>\n",
       "      <td>2,155</td>\n",
       "      <td>284</td>\n",
       "      <td>738</td>\n",
       "      <td>7</td>\n",
       "      <td>73</td>\n",
       "      <td>.461</td>\n",
       "      <td>.904</td>\n",
       "      <td>233</td>\n",
       "      <td>303</td>\n",
       "      <td>76</td>\n",
       "      <td>2,652</td>\n",
       "      <td>500</td>\n",
       "      <td>478</td>\n",
       "      <td>2.44</td>\n",
       "      <td>128</td>\n",
       "    </tr>\n",
       "    <tr>\n",
       "      <th>1</th>\n",
       "      <td>DeMar DeRozan (CHI - SF,PF,SG) DTD</td>\n",
       "      <td>2,118</td>\n",
       "      <td>391</td>\n",
       "      <td>374</td>\n",
       "      <td>24</td>\n",
       "      <td>68</td>\n",
       "      <td>.504</td>\n",
       "      <td>.877</td>\n",
       "      <td>50</td>\n",
       "      <td>180</td>\n",
       "      <td>76</td>\n",
       "      <td>2,743</td>\n",
       "      <td>520</td>\n",
       "      <td>724</td>\n",
       "      <td>2.08</td>\n",
       "      <td>178</td>\n",
       "    </tr>\n",
       "    <tr>\n",
       "      <th>2</th>\n",
       "      <td>Joel Embiid (PHI - PF,C) DTD</td>\n",
       "      <td>2,079</td>\n",
       "      <td>795</td>\n",
       "      <td>284</td>\n",
       "      <td>99</td>\n",
       "      <td>77</td>\n",
       "      <td>.499</td>\n",
       "      <td>.814</td>\n",
       "      <td>93</td>\n",
       "      <td>214</td>\n",
       "      <td>68</td>\n",
       "      <td>2,297</td>\n",
       "      <td>654</td>\n",
       "      <td>573</td>\n",
       "      <td>1.33</td>\n",
       "      <td>181</td>\n",
       "    </tr>\n",
       "    <tr>\n",
       "      <th>3</th>\n",
       "      <td>Jayson Tatum (BOS - SF,PF) DTD</td>\n",
       "      <td>2,046</td>\n",
       "      <td>609</td>\n",
       "      <td>334</td>\n",
       "      <td>48</td>\n",
       "      <td>75</td>\n",
       "      <td>.453</td>\n",
       "      <td>.853</td>\n",
       "      <td>230</td>\n",
       "      <td>217</td>\n",
       "      <td>76</td>\n",
       "      <td>2,731</td>\n",
       "      <td>400</td>\n",
       "      <td>478</td>\n",
       "      <td>1.54</td>\n",
       "      <td>174</td>\n",
       "    </tr>\n",
       "    <tr>\n",
       "      <th>4</th>\n",
       "      <td>Nikola Jokic (DEN - PF,C) DTD</td>\n",
       "      <td>2,004</td>\n",
       "      <td>1,018</td>\n",
       "      <td>584</td>\n",
       "      <td>64</td>\n",
       "      <td>108</td>\n",
       "      <td>.583</td>\n",
       "      <td>.810</td>\n",
       "      <td>97</td>\n",
       "      <td>280</td>\n",
       "      <td>74</td>\n",
       "      <td>2,476</td>\n",
       "      <td>379</td>\n",
       "      <td>667</td>\n",
       "      <td>2.09</td>\n",
       "      <td>191</td>\n",
       "    </tr>\n",
       "  </tbody>\n",
       "</table>\n",
       "</div>"
      ],
      "text/plain": [
       "                                Player    PTS    REB  AST BLK  STL   FG%  \\\n",
       "0           Trae Young (ATL - PG) DTD   2,155    284  738   7   73  .461   \n",
       "1  DeMar DeRozan (CHI - SF,PF,SG) DTD   2,118    391  374  24   68  .504   \n",
       "2        Joel Embiid (PHI - PF,C) DTD   2,079    795  284  99   77  .499   \n",
       "3      Jayson Tatum (BOS - SF,PF) DTD   2,046    609  334  48   75  .453   \n",
       "4       Nikola Jokic (DEN - PF,C) DTD   2,004  1,018  584  64  108  .583   \n",
       "\n",
       "    FT%  3PM   TO  GP    MIN  FTM  2PM  A/TO   PF  \n",
       "0  .904  233  303  76  2,652  500  478  2.44  128  \n",
       "1  .877   50  180  76  2,743  520  724  2.08  178  \n",
       "2  .814   93  214  68  2,297  654  573  1.33  181  \n",
       "3  .853  230  217  76  2,731  400  478  1.54  174  \n",
       "4  .810   97  280  74  2,476  379  667  2.09  191  "
      ]
     },
     "execution_count": 22,
     "metadata": {},
     "output_type": "execute_result"
    }
   ],
   "source": [
    "nba_html = get_fantasy_stat(2021)\n",
    "df_nba_stat = extract_nba_stat(nba_html)\n",
    "df_nba_stat.head()"
   ]
  },
  {
   "cell_type": "markdown",
   "id": "8c8679af",
   "metadata": {},
   "source": [
    "#### Combine Player's Fantasy Points and their Average College Stats:"
   ]
  },
  {
   "cell_type": "code",
   "execution_count": 23,
   "id": "099e6b89",
   "metadata": {},
   "outputs": [],
   "source": [
    "contain_within = ['2019-20', '2016-17', '2017-18', '2018-19', '2017-2019', '2017-2018', '2016-2019' \n",
    "                  ,'2016-2017', '2018-2019', '2014-2018', '2016-2018', '2013-2017']\n",
    "\n",
    "df_college_stats = pd.DataFrame()\n",
    "\n",
    "for season in contain_within:\n",
    "    filter_df = df_final_college[df_final_college['season'].str.contains(season)==True]\n",
    "    df_college_stats = df_college_stats.append(filter_df, ignore_index=True)\n"
   ]
  },
  {
   "cell_type": "code",
   "execution_count": 24,
   "id": "39c88cd8",
   "metadata": {},
   "outputs": [],
   "source": [
    "def get_fantasy_points(df_nba_stat, df_final_college):\n",
    "    \"\"\" Gets fantasy points for only players with college stats\n",
    "    \n",
    "    Args: \n",
    "        df_nba_stat (pd.Dataframe): Dataframe contains NBA stat and fantasy points\n",
    "        df_final_college (pd.Dataframe): all college stats, one player per row\n",
    "        \n",
    "    Returns:\n",
    "        fantasy_dict (Dictionary): Player name as keys, fantasy points as values\n",
    "    \"\"\"\n",
    "    # initalize dictionary to collect fantasy points\n",
    "    fantasy_dict = {}\n",
    "    \n",
    "    # itterates through NBA stat dataframe\n",
    "    for idx in df_nba_stat.index:\n",
    "        \n",
    "        # collects player name as keys and fantasy points as values\n",
    "        name = df_nba_stat.loc[idx,'Player'].split('(')[0].strip()\n",
    "        points = df_nba_stat.loc[idx,'PTS']\n",
    "    \n",
    "        # doesn't include players missing college data\n",
    "        if name in list(df_final_college['player_name']):\n",
    "            fantasy_dict[name] = points\n",
    "    \n",
    "    return(fantasy_dict)"
   ]
  },
  {
   "cell_type": "code",
   "execution_count": 25,
   "id": "44268eda",
   "metadata": {},
   "outputs": [],
   "source": [
    "fantasy_dict = get_fantasy_points(df_nba_stat, df_college_stats)"
   ]
  },
  {
   "cell_type": "code",
   "execution_count": 26,
   "id": "534a1223",
   "metadata": {},
   "outputs": [],
   "source": [
    "def build_all_stats(fantasy_dict, df_final_college):\n",
    "    \"\"\" Builds dataframe of all college stats and fantasy points\n",
    "    \n",
    "    Args:\n",
    "        fantasy_dict (Dictionary): Player name as keys, fantasy points as values\n",
    "        df_final_college (pd.Dataframe): all college stats, one player per row\n",
    "        \n",
    "    Returns:\n",
    "        df_all_stats (pd.Dataframe): Dataframe of college stats and fantasy points\n",
    "                                        one player per row\n",
    "    \"\"\"\n",
    "\n",
    "    df_college_temp = df_final_college.set_index('player_name')\n",
    "    \n",
    "    # drop players that don't have fantasy point stats\n",
    "    for name in df_college_temp.index:\n",
    "        if name not in list(fantasy_dict.keys()):\n",
    "            df_college_temp = df_college_temp.drop(name,axis=0)\n",
    "    \n",
    "    # initalize list for Series of player\n",
    "    final_stats_list = []\n",
    "    \n",
    "    # itterate through college data\n",
    "    for name in df_college_temp.index:\n",
    "        \n",
    "        # create series of player stats and add fantasy points\n",
    "        player_series = df_college_temp.loc[name,:]\n",
    "        player_series['f_PTS'] = fantasy_dict[name]\n",
    "        \n",
    "        # append to list of player series\n",
    "        final_stats_list.append(player_series)\n",
    "    \n",
    "    # assemble dataframe from list\n",
    "    df_all_stats = pd.DataFrame(final_stats_list)\n",
    "    \n",
    "    return(df_all_stats)"
   ]
  },
  {
   "cell_type": "code",
   "execution_count": 27,
   "id": "ed2e3063",
   "metadata": {},
   "outputs": [
    {
     "data": {
      "text/html": [
       "<div>\n",
       "<style scoped>\n",
       "    .dataframe tbody tr th:only-of-type {\n",
       "        vertical-align: middle;\n",
       "    }\n",
       "\n",
       "    .dataframe tbody tr th {\n",
       "        vertical-align: top;\n",
       "    }\n",
       "\n",
       "    .dataframe thead th {\n",
       "        text-align: right;\n",
       "    }\n",
       "</style>\n",
       "<table border=\"1\" class=\"dataframe\">\n",
       "  <thead>\n",
       "    <tr style=\"text-align: right;\">\n",
       "      <th></th>\n",
       "      <th>season</th>\n",
       "      <th>g</th>\n",
       "      <th>mp</th>\n",
       "      <th>fg</th>\n",
       "      <th>fga</th>\n",
       "      <th>fg3</th>\n",
       "      <th>fg3a</th>\n",
       "      <th>ft</th>\n",
       "      <th>fta</th>\n",
       "      <th>orb</th>\n",
       "      <th>...</th>\n",
       "      <th>pf</th>\n",
       "      <th>pts</th>\n",
       "      <th>fg_pct</th>\n",
       "      <th>fg3_pct</th>\n",
       "      <th>ft_pct</th>\n",
       "      <th>mp_per_g</th>\n",
       "      <th>pts_per_g</th>\n",
       "      <th>trb_per_g</th>\n",
       "      <th>ast_per_g</th>\n",
       "      <th>f_PTS</th>\n",
       "    </tr>\n",
       "  </thead>\n",
       "  <tbody>\n",
       "    <tr>\n",
       "      <th>Precious Achiuwa</th>\n",
       "      <td>2019-20</td>\n",
       "      <td>31</td>\n",
       "      <td>943</td>\n",
       "      <td>182</td>\n",
       "      <td>369</td>\n",
       "      <td>13</td>\n",
       "      <td>40</td>\n",
       "      <td>112</td>\n",
       "      <td>187</td>\n",
       "      <td>93</td>\n",
       "      <td>...</td>\n",
       "      <td>73</td>\n",
       "      <td>489</td>\n",
       "      <td>.493</td>\n",
       "      <td>.325</td>\n",
       "      <td>.599</td>\n",
       "      <td>30.4</td>\n",
       "      <td>15.8</td>\n",
       "      <td>10.8</td>\n",
       "      <td>1.0</td>\n",
       "      <td>664</td>\n",
       "    </tr>\n",
       "    <tr>\n",
       "      <th>Cole Anthony</th>\n",
       "      <td>2019-20</td>\n",
       "      <td>22</td>\n",
       "      <td>768</td>\n",
       "      <td>131</td>\n",
       "      <td>345</td>\n",
       "      <td>49</td>\n",
       "      <td>141</td>\n",
       "      <td>96</td>\n",
       "      <td>128</td>\n",
       "      <td>10</td>\n",
       "      <td>...</td>\n",
       "      <td>64</td>\n",
       "      <td>407</td>\n",
       "      <td>.380</td>\n",
       "      <td>.348</td>\n",
       "      <td>.750</td>\n",
       "      <td>34.9</td>\n",
       "      <td>18.5</td>\n",
       "      <td>5.7</td>\n",
       "      <td>4.0</td>\n",
       "      <td>1,062</td>\n",
       "    </tr>\n",
       "    <tr>\n",
       "      <th>Vernon Carey Jr.</th>\n",
       "      <td>2019-20</td>\n",
       "      <td>31</td>\n",
       "      <td>772</td>\n",
       "      <td>199</td>\n",
       "      <td>345</td>\n",
       "      <td>8</td>\n",
       "      <td>21</td>\n",
       "      <td>146</td>\n",
       "      <td>218</td>\n",
       "      <td>83</td>\n",
       "      <td>...</td>\n",
       "      <td>85</td>\n",
       "      <td>552</td>\n",
       "      <td>.577</td>\n",
       "      <td>.381</td>\n",
       "      <td>.670</td>\n",
       "      <td>24.9</td>\n",
       "      <td>17.8</td>\n",
       "      <td>8.8</td>\n",
       "      <td>1.0</td>\n",
       "      <td>20</td>\n",
       "    </tr>\n",
       "    <tr>\n",
       "      <th>Anthony Edwards</th>\n",
       "      <td>2019-20</td>\n",
       "      <td>32</td>\n",
       "      <td>1057</td>\n",
       "      <td>203</td>\n",
       "      <td>505</td>\n",
       "      <td>72</td>\n",
       "      <td>245</td>\n",
       "      <td>132</td>\n",
       "      <td>171</td>\n",
       "      <td>24</td>\n",
       "      <td>...</td>\n",
       "      <td>70</td>\n",
       "      <td>610</td>\n",
       "      <td>.402</td>\n",
       "      <td>.294</td>\n",
       "      <td>.772</td>\n",
       "      <td>33.0</td>\n",
       "      <td>19.1</td>\n",
       "      <td>5.2</td>\n",
       "      <td>2.8</td>\n",
       "      <td>1,533</td>\n",
       "    </tr>\n",
       "    <tr>\n",
       "      <th>Josh Green</th>\n",
       "      <td>2019-20</td>\n",
       "      <td>30</td>\n",
       "      <td>926</td>\n",
       "      <td>122</td>\n",
       "      <td>288</td>\n",
       "      <td>30</td>\n",
       "      <td>83</td>\n",
       "      <td>85</td>\n",
       "      <td>109</td>\n",
       "      <td>39</td>\n",
       "      <td>...</td>\n",
       "      <td>73</td>\n",
       "      <td>359</td>\n",
       "      <td>.424</td>\n",
       "      <td>.361</td>\n",
       "      <td>.780</td>\n",
       "      <td>30.9</td>\n",
       "      <td>12.0</td>\n",
       "      <td>4.6</td>\n",
       "      <td>2.6</td>\n",
       "      <td>319</td>\n",
       "    </tr>\n",
       "  </tbody>\n",
       "</table>\n",
       "<p>5 rows × 25 columns</p>\n",
       "</div>"
      ],
      "text/plain": [
       "                   season   g    mp   fg  fga fg3 fg3a   ft  fta orb  ...  pf  \\\n",
       "Precious Achiuwa  2019-20  31   943  182  369  13   40  112  187  93  ...  73   \n",
       "Cole Anthony      2019-20  22   768  131  345  49  141   96  128  10  ...  64   \n",
       "Vernon Carey Jr.  2019-20  31   772  199  345   8   21  146  218  83  ...  85   \n",
       "Anthony Edwards   2019-20  32  1057  203  505  72  245  132  171  24  ...  70   \n",
       "Josh Green        2019-20  30   926  122  288  30   83   85  109  39  ...  73   \n",
       "\n",
       "                  pts fg_pct fg3_pct ft_pct mp_per_g pts_per_g trb_per_g  \\\n",
       "Precious Achiuwa  489   .493    .325   .599     30.4      15.8      10.8   \n",
       "Cole Anthony      407   .380    .348   .750     34.9      18.5       5.7   \n",
       "Vernon Carey Jr.  552   .577    .381   .670     24.9      17.8       8.8   \n",
       "Anthony Edwards   610   .402    .294   .772     33.0      19.1       5.2   \n",
       "Josh Green        359   .424    .361   .780     30.9      12.0       4.6   \n",
       "\n",
       "                 ast_per_g  f_PTS  \n",
       "Precious Achiuwa       1.0    664  \n",
       "Cole Anthony           4.0  1,062  \n",
       "Vernon Carey Jr.       1.0     20  \n",
       "Anthony Edwards        2.8  1,533  \n",
       "Josh Green             2.6    319  \n",
       "\n",
       "[5 rows x 25 columns]"
      ]
     },
     "execution_count": 27,
     "metadata": {},
     "output_type": "execute_result"
    }
   ],
   "source": [
    "df_all_stats = build_all_stats(fantasy_dict, df_college_stats)\n",
    "df_all_stats.head()"
   ]
  },
  {
   "cell_type": "code",
   "execution_count": 26,
   "id": "e9d93288",
   "metadata": {},
   "outputs": [],
   "source": [
    "### Run to save to .csv\n",
    "df_all_stats.replace('','NaN').to_csv('nba_player_stats.csv')"
   ]
  },
  {
   "cell_type": "markdown",
   "id": "b873d324",
   "metadata": {},
   "source": [
    "## Visualizations\n",
    "Our graphs were made using Tableau.\n",
    "\n",
    "#### Current NBA Players and Their College Stats\n",
    "\n",
    "<img src=\"https://lh3.googleusercontent.com/uzzGQLVkKpgItQLyAUFSJSx2E1aGN0u5KEAlM9F044JgsbTUgUI3ZE-xeqXsmgtdNDOJRW16pvC3NBE36Syg3y32Hl-G3Pb9pWADPt2Lz975ovS9sjMfApX8RccfU_k6_lFNRm9lQKY=w2400\">\n",
    "\n",
    "\n",
    "The graph above shows a snippet of current NBA and their main 3 stats tracked in college- points, rebounds, and assists (all per game). \n",
    "\n",
    "#### Current Season NBA Performance per Draft Class\n",
    "<img src=\"https://lh3.googleusercontent.com/KKuTl7txziLdD--A7sgcC2RQVw7Nk5vPhLCTP9sAyL7r6XqUmuO0WCPliWVEi4efcqBGPoumVV764GFpWkBxLQGwM07iYMn30r22D0Dv6nZk7wD2AkH0TfLm6fcAwfUHx1KCk1vtmcc=w2400\">\n",
    "\n",
    "The graph above shows how each draft class has been performing as a whole this NBA season. Performance is based on fantasy points on the season and done by averaging the total fantasy points per player in each class.\n",
    "\n"
   ]
  },
  {
   "cell_type": "markdown",
   "id": "d396d290",
   "metadata": {},
   "source": [
    "## Analysis Plan\n",
    "Our expectation is that players with similar college stats might express similar stats and fanatasy stat totals in the NBA. \n",
    "\n",
    "Algorithms that we will be using in this project to predict future NBA stars are classification algorithm (e.g. K-Nearest Neighbours, Random Forest Classifier, Decision Tree Classifier) Using these algorithms we will be able to predict if given a new college basketball players stats would this player be an NBA Star (ie. scoring above 1500 points in any given season) \n",
    "\n",
    "Bucket of Fantasy Points\n",
    "- 0 - 750 points\n",
    "- 750 - 1500 points\n",
    "- 750 - 2250 points (NBA Star)\n",
    "\n",
    "To evaluate the performance of our classifier we will be using is the confusion matrix and Kfold cross-validation algorithm, which will be used to evaluate the accuracy of the classifier. To evaluate the performance of our KNN, we will be calculating accuracy per group of classification. This will ensure that we can identify strength and weakness of our KNN model, and eventually come up with a way to strengthen the model, by adding more data, features or etc.\n",
    "\n",
    "Although we have mentioned KNN as a main classifier model, we can also try random forest algorithm as a classifier, since decision tree may help us to come up with a certain threshold for each important features, instead of finding the closet matches between an NBA star and non-NBA star, which may be useful for us in predicting a NBA star.\n",
    "\n",
    "To conclude, we will be mainly using machine learning classification algorithm as a primary way to come up with the prediction, instead of other types of machine learning algorithm such as regression or clustering. We will test each of these algorithms to see which works best on our dataset. "
   ]
  },
  {
   "cell_type": "markdown",
   "id": "ec6d2b1b",
   "metadata": {},
   "source": [
    "### Preprocess Data\n",
    "\n",
    "The KNN Classifier and RandomForestClassifier are valid methods since we would like to differentiate NBA-Star and Non-NBA Star from their corresponding college career statistic. However there are some assumptions that come with the classifier, where there must exists some correlation between college career stats and their current season fantasy points. To ensure that there are correlation, we have plotted the correlation heat map that show features correlation with other feature. Although from initial observation there are little correlation between every feature with their correpsonding current season fantasy point, however after we have extracted and removed data that may be irrelevant to the classifer we have seen an improve in correlation between those features and current season fantasy points.\n",
    "\n",
    "Here we will described the criteria that which is used to remove the data points.\n",
    "- **College Career Stats that before 2016** The reason why removed those player who have their college career stats before 2016 is that there are huge unexplained temporal gaps between their college career stats and their current performance.\n",
    "- **Player with Fantasy Point of 0** Since our objective is predicting an NBA star and Non NBA Star we a player who did not participate in the current season data points should be excluded since it may heavily bias player with high fantasy points who have similar college career stats.\n",
    "\n",
    "By Removing those data points that matched the criteria, the heat_map of the correlation between college stats and current season fantasy point improve significantly as illustrated below.\n",
    "\n",
    "\n"
   ]
  },
  {
   "cell_type": "markdown",
   "id": "5c6a651c",
   "metadata": {},
   "source": [
    "### Dropping Player with Non Relevant College Career\n",
    "Dropping player with college carrer that further than 2016\n",
    "\n",
    "```python\n",
    "contain_within = ['2019-20', '2016-17', '2017-18', '2018-19', '2017-2019', '2017-2018', '2016-2019' \n",
    "                  ,'2016-2017', '2018-2019', '2014-2018', '2016-2018', '2013-2017']\n",
    "\n",
    "df_college_stats = pd.DataFrame()\n",
    "\n",
    "for season in contain_within:\n",
    "    filter_df = df_final_college[df_final_college['season'].str.contains(season)==True]\n",
    "    df_college_stats = df_college_stats.append(filter_df, ignore_index=True)\n",
    "\n",
    "```"
   ]
  },
  {
   "cell_type": "markdown",
   "id": "bc5cedad",
   "metadata": {},
   "source": [
    "Unremoved Data Points Correlation             |  Removed Data Points Correlation\n",
    ":-------------------------:|:-------------------------:\n",
    "![](https://frameindex.s3.ap-southeast-1.amazonaws.com/Correlation_Heat_Map_with_unremoved_data_points.png)  |  ![](https://frameindex.s3.ap-southeast-1.amazonaws.com/Correlation_Heat_Map_with_removed_data_points.png)\n",
    "\n",
    "Where the heatmap color the lighter has higher positive correlation and darker has negative correlation. From the heatmap aboved after removing data points that matches criteria, the heatmap clearly intensify which implies that the correlation between all features in the college career dataset and fanstasy point of the current season become stronger.\n",
    "\n",
    "## Principal Component Analysis\n",
    "We will implement PCA on all our of features so that redundant features for example fg (Field Goal), fga (Field Goal Attempts), and fg_pct (Field Goal Percentage) will be condense down to 2-dimensional features, which effectively reduce the over counting of similar features or features that are closely correlated.\n",
    "\n",
    "Furthermore before we can pass our basketball stats data to a classifier we will ensure that all features are weight equally by ensuring every feature has equal variance."
   ]
  },
  {
   "cell_type": "code",
   "execution_count": 28,
   "id": "28344b8f",
   "metadata": {},
   "outputs": [],
   "source": [
    "# Create Bucket of N size\n",
    "n = 500\n",
    "\n",
    "def assignBucket(f_pts, n_bucket):\n",
    "    \"\"\"\n",
    "    Given a fantasy Point assign a bucket to the player\n",
    "    \n",
    "    Args:\n",
    "        f_pts (int) : Represent the fantasy point for each player\n",
    "        n_bucket (int) : Represent the range of integer of each buckets\n",
    "    \n",
    "    Return:\n",
    "        bucket (string) : Represent the assigned bucket of the player\n",
    "    \"\"\"\n",
    "    # Get the bucket range\n",
    "    remainder = f_pts % n_bucket\n",
    "    \n",
    "    if remainder == 0:\n",
    "        # Assign previous bucket\n",
    "        \n",
    "        if f_pts == 0:\n",
    "            return f'0 f_pts'\n",
    "        \n",
    "        floor = f_pts - n_bucket\n",
    "        ceiling = f_pts\n",
    "    else:\n",
    "        # Assign the current bucket\n",
    "        floor = f_pts - remainder\n",
    "        ceiling = floor + n_bucket\n",
    "        \n",
    "    return f'{floor} < f_pts <= {ceiling}'"
   ]
  },
  {
   "cell_type": "code",
   "execution_count": 29,
   "id": "97c3a0db",
   "metadata": {},
   "outputs": [],
   "source": [
    "def convertFTS2Int(f_pts):\n",
    "    \"\"\"\n",
    "    Given abirtary object that contain fantasy point convert to integer\n",
    "    \n",
    "    Args:\n",
    "        f_pts (String) : Represent the fantasy point for each player\n",
    "    \n",
    "    Return:\n",
    "        f_pts_int (int) : Represent the fantasy point of each player in integer\n",
    "    \n",
    "    \"\"\"\n",
    "    \n",
    "    return int(f_pts.replace(',',''))"
   ]
  },
  {
   "cell_type": "code",
   "execution_count": 30,
   "id": "81ccfbd0",
   "metadata": {},
   "outputs": [
    {
     "data": {
      "text/html": [
       "<div>\n",
       "<style scoped>\n",
       "    .dataframe tbody tr th:only-of-type {\n",
       "        vertical-align: middle;\n",
       "    }\n",
       "\n",
       "    .dataframe tbody tr th {\n",
       "        vertical-align: top;\n",
       "    }\n",
       "\n",
       "    .dataframe thead th {\n",
       "        text-align: right;\n",
       "    }\n",
       "</style>\n",
       "<table border=\"1\" class=\"dataframe\">\n",
       "  <thead>\n",
       "    <tr style=\"text-align: right;\">\n",
       "      <th></th>\n",
       "      <th>season</th>\n",
       "      <th>g</th>\n",
       "      <th>mp</th>\n",
       "      <th>fg</th>\n",
       "      <th>fga</th>\n",
       "      <th>fg3</th>\n",
       "      <th>fg3a</th>\n",
       "      <th>ft</th>\n",
       "      <th>fta</th>\n",
       "      <th>orb</th>\n",
       "      <th>...</th>\n",
       "      <th>pf</th>\n",
       "      <th>pts</th>\n",
       "      <th>fg_pct</th>\n",
       "      <th>fg3_pct</th>\n",
       "      <th>ft_pct</th>\n",
       "      <th>mp_per_g</th>\n",
       "      <th>pts_per_g</th>\n",
       "      <th>trb_per_g</th>\n",
       "      <th>ast_per_g</th>\n",
       "      <th>f_PTS</th>\n",
       "    </tr>\n",
       "  </thead>\n",
       "  <tbody>\n",
       "    <tr>\n",
       "      <th>Precious Achiuwa</th>\n",
       "      <td>2019-20</td>\n",
       "      <td>31</td>\n",
       "      <td>943</td>\n",
       "      <td>182</td>\n",
       "      <td>369</td>\n",
       "      <td>13</td>\n",
       "      <td>40</td>\n",
       "      <td>112</td>\n",
       "      <td>187</td>\n",
       "      <td>93</td>\n",
       "      <td>...</td>\n",
       "      <td>73</td>\n",
       "      <td>489</td>\n",
       "      <td>.493</td>\n",
       "      <td>.325</td>\n",
       "      <td>.599</td>\n",
       "      <td>30.4</td>\n",
       "      <td>15.8</td>\n",
       "      <td>10.8</td>\n",
       "      <td>1.0</td>\n",
       "      <td>664</td>\n",
       "    </tr>\n",
       "    <tr>\n",
       "      <th>Cole Anthony</th>\n",
       "      <td>2019-20</td>\n",
       "      <td>22</td>\n",
       "      <td>768</td>\n",
       "      <td>131</td>\n",
       "      <td>345</td>\n",
       "      <td>49</td>\n",
       "      <td>141</td>\n",
       "      <td>96</td>\n",
       "      <td>128</td>\n",
       "      <td>10</td>\n",
       "      <td>...</td>\n",
       "      <td>64</td>\n",
       "      <td>407</td>\n",
       "      <td>.380</td>\n",
       "      <td>.348</td>\n",
       "      <td>.750</td>\n",
       "      <td>34.9</td>\n",
       "      <td>18.5</td>\n",
       "      <td>5.7</td>\n",
       "      <td>4.0</td>\n",
       "      <td>1,062</td>\n",
       "    </tr>\n",
       "    <tr>\n",
       "      <th>Vernon Carey Jr.</th>\n",
       "      <td>2019-20</td>\n",
       "      <td>31</td>\n",
       "      <td>772</td>\n",
       "      <td>199</td>\n",
       "      <td>345</td>\n",
       "      <td>8</td>\n",
       "      <td>21</td>\n",
       "      <td>146</td>\n",
       "      <td>218</td>\n",
       "      <td>83</td>\n",
       "      <td>...</td>\n",
       "      <td>85</td>\n",
       "      <td>552</td>\n",
       "      <td>.577</td>\n",
       "      <td>.381</td>\n",
       "      <td>.670</td>\n",
       "      <td>24.9</td>\n",
       "      <td>17.8</td>\n",
       "      <td>8.8</td>\n",
       "      <td>1.0</td>\n",
       "      <td>20</td>\n",
       "    </tr>\n",
       "    <tr>\n",
       "      <th>Anthony Edwards</th>\n",
       "      <td>2019-20</td>\n",
       "      <td>32</td>\n",
       "      <td>1057</td>\n",
       "      <td>203</td>\n",
       "      <td>505</td>\n",
       "      <td>72</td>\n",
       "      <td>245</td>\n",
       "      <td>132</td>\n",
       "      <td>171</td>\n",
       "      <td>24</td>\n",
       "      <td>...</td>\n",
       "      <td>70</td>\n",
       "      <td>610</td>\n",
       "      <td>.402</td>\n",
       "      <td>.294</td>\n",
       "      <td>.772</td>\n",
       "      <td>33.0</td>\n",
       "      <td>19.1</td>\n",
       "      <td>5.2</td>\n",
       "      <td>2.8</td>\n",
       "      <td>1,533</td>\n",
       "    </tr>\n",
       "    <tr>\n",
       "      <th>Josh Green</th>\n",
       "      <td>2019-20</td>\n",
       "      <td>30</td>\n",
       "      <td>926</td>\n",
       "      <td>122</td>\n",
       "      <td>288</td>\n",
       "      <td>30</td>\n",
       "      <td>83</td>\n",
       "      <td>85</td>\n",
       "      <td>109</td>\n",
       "      <td>39</td>\n",
       "      <td>...</td>\n",
       "      <td>73</td>\n",
       "      <td>359</td>\n",
       "      <td>.424</td>\n",
       "      <td>.361</td>\n",
       "      <td>.780</td>\n",
       "      <td>30.9</td>\n",
       "      <td>12.0</td>\n",
       "      <td>4.6</td>\n",
       "      <td>2.6</td>\n",
       "      <td>319</td>\n",
       "    </tr>\n",
       "    <tr>\n",
       "      <th>...</th>\n",
       "      <td>...</td>\n",
       "      <td>...</td>\n",
       "      <td>...</td>\n",
       "      <td>...</td>\n",
       "      <td>...</td>\n",
       "      <td>...</td>\n",
       "      <td>...</td>\n",
       "      <td>...</td>\n",
       "      <td>...</td>\n",
       "      <td>...</td>\n",
       "      <td>...</td>\n",
       "      <td>...</td>\n",
       "      <td>...</td>\n",
       "      <td>...</td>\n",
       "      <td>...</td>\n",
       "      <td>...</td>\n",
       "      <td>...</td>\n",
       "      <td>...</td>\n",
       "      <td>...</td>\n",
       "      <td>...</td>\n",
       "      <td>...</td>\n",
       "    </tr>\n",
       "    <tr>\n",
       "      <th>Ty Jerome</th>\n",
       "      <td>2016-2018</td>\n",
       "      <td>35.0</td>\n",
       "      <td>925.0</td>\n",
       "      <td>121.0</td>\n",
       "      <td>278.33</td>\n",
       "      <td>55.33</td>\n",
       "      <td>141.33</td>\n",
       "      <td>39.67</td>\n",
       "      <td>50.33</td>\n",
       "      <td>9.67</td>\n",
       "      <td>...</td>\n",
       "      <td>67.33</td>\n",
       "      <td>337.0</td>\n",
       "      <td>0.44</td>\n",
       "      <td>0.39</td>\n",
       "      <td>0.81</td>\n",
       "      <td>26.2</td>\n",
       "      <td>9.5</td>\n",
       "      <td>2.97</td>\n",
       "      <td>3.63</td>\n",
       "      <td>338</td>\n",
       "    </tr>\n",
       "    <tr>\n",
       "      <th>Miye Oni</th>\n",
       "      <td>2016-2018</td>\n",
       "      <td>29.0</td>\n",
       "      <td>918.67</td>\n",
       "      <td>150.0</td>\n",
       "      <td>350.67</td>\n",
       "      <td>58.0</td>\n",
       "      <td>163.0</td>\n",
       "      <td>78.0</td>\n",
       "      <td>100.33</td>\n",
       "      <td>23.67</td>\n",
       "      <td>...</td>\n",
       "      <td>81.67</td>\n",
       "      <td>436.0</td>\n",
       "      <td>0.43</td>\n",
       "      <td>0.36</td>\n",
       "      <td>0.78</td>\n",
       "      <td>31.67</td>\n",
       "      <td>15.03</td>\n",
       "      <td>6.2</td>\n",
       "      <td>3.3</td>\n",
       "      <td>5</td>\n",
       "    </tr>\n",
       "    <tr>\n",
       "      <th>Isaiah Roby</th>\n",
       "      <td>2016-2018</td>\n",
       "      <td>32.33</td>\n",
       "      <td>773.0</td>\n",
       "      <td>93.33</td>\n",
       "      <td>196.0</td>\n",
       "      <td>16.33</td>\n",
       "      <td>48.67</td>\n",
       "      <td>59.0</td>\n",
       "      <td>84.0</td>\n",
       "      <td>51.67</td>\n",
       "      <td>...</td>\n",
       "      <td>91.0</td>\n",
       "      <td>262.0</td>\n",
       "      <td>0.47</td>\n",
       "      <td>0.31</td>\n",
       "      <td>0.72</td>\n",
       "      <td>23.47</td>\n",
       "      <td>7.87</td>\n",
       "      <td>5.37</td>\n",
       "      <td>1.43</td>\n",
       "      <td>454</td>\n",
       "    </tr>\n",
       "    <tr>\n",
       "      <th>Grant Williams</th>\n",
       "      <td>2016-2018</td>\n",
       "      <td>34.67</td>\n",
       "      <td>1001.0</td>\n",
       "      <td>183.0</td>\n",
       "      <td>354.67</td>\n",
       "      <td>10.0</td>\n",
       "      <td>34.33</td>\n",
       "      <td>167.0</td>\n",
       "      <td>220.33</td>\n",
       "      <td>85.67</td>\n",
       "      <td>...</td>\n",
       "      <td>110.33</td>\n",
       "      <td>543.0</td>\n",
       "      <td>0.51</td>\n",
       "      <td>0.27</td>\n",
       "      <td>0.75</td>\n",
       "      <td>28.7</td>\n",
       "      <td>15.53</td>\n",
       "      <td>6.47</td>\n",
       "      <td>2.07</td>\n",
       "      <td>602</td>\n",
       "    </tr>\n",
       "    <tr>\n",
       "      <th>Kendrick Nunn</th>\n",
       "      <td>2013-2017</td>\n",
       "      <td>31.5</td>\n",
       "      <td>949.0</td>\n",
       "      <td>157.75</td>\n",
       "      <td>368.25</td>\n",
       "      <td>73.5</td>\n",
       "      <td>190.5</td>\n",
       "      <td>59.75</td>\n",
       "      <td>72.75</td>\n",
       "      <td>14.25</td>\n",
       "      <td>...</td>\n",
       "      <td>56.25</td>\n",
       "      <td>448.75</td>\n",
       "      <td>0.43</td>\n",
       "      <td>0.38</td>\n",
       "      <td>0.81</td>\n",
       "      <td>30.68</td>\n",
       "      <td>14.68</td>\n",
       "      <td>3.72</td>\n",
       "      <td>2.12</td>\n",
       "      <td>0</td>\n",
       "    </tr>\n",
       "  </tbody>\n",
       "</table>\n",
       "<p>142 rows × 25 columns</p>\n",
       "</div>"
      ],
      "text/plain": [
       "                     season      g      mp      fg     fga    fg3    fg3a  \\\n",
       "Precious Achiuwa    2019-20     31     943     182     369     13      40   \n",
       "Cole Anthony        2019-20     22     768     131     345     49     141   \n",
       "Vernon Carey Jr.    2019-20     31     772     199     345      8      21   \n",
       "Anthony Edwards     2019-20     32    1057     203     505     72     245   \n",
       "Josh Green          2019-20     30     926     122     288     30      83   \n",
       "...                     ...    ...     ...     ...     ...    ...     ...   \n",
       "Ty Jerome         2016-2018   35.0   925.0   121.0  278.33  55.33  141.33   \n",
       "Miye Oni          2016-2018   29.0  918.67   150.0  350.67   58.0   163.0   \n",
       "Isaiah Roby       2016-2018  32.33   773.0   93.33   196.0  16.33   48.67   \n",
       "Grant Williams    2016-2018  34.67  1001.0   183.0  354.67   10.0   34.33   \n",
       "Kendrick Nunn     2013-2017   31.5   949.0  157.75  368.25   73.5   190.5   \n",
       "\n",
       "                     ft     fta    orb  ...      pf     pts fg_pct fg3_pct  \\\n",
       "Precious Achiuwa    112     187     93  ...      73     489   .493    .325   \n",
       "Cole Anthony         96     128     10  ...      64     407   .380    .348   \n",
       "Vernon Carey Jr.    146     218     83  ...      85     552   .577    .381   \n",
       "Anthony Edwards     132     171     24  ...      70     610   .402    .294   \n",
       "Josh Green           85     109     39  ...      73     359   .424    .361   \n",
       "...                 ...     ...    ...  ...     ...     ...    ...     ...   \n",
       "Ty Jerome         39.67   50.33   9.67  ...   67.33   337.0   0.44    0.39   \n",
       "Miye Oni           78.0  100.33  23.67  ...   81.67   436.0   0.43    0.36   \n",
       "Isaiah Roby        59.0    84.0  51.67  ...    91.0   262.0   0.47    0.31   \n",
       "Grant Williams    167.0  220.33  85.67  ...  110.33   543.0   0.51    0.27   \n",
       "Kendrick Nunn     59.75   72.75  14.25  ...   56.25  448.75   0.43    0.38   \n",
       "\n",
       "                 ft_pct mp_per_g pts_per_g trb_per_g ast_per_g  f_PTS  \n",
       "Precious Achiuwa   .599     30.4      15.8      10.8       1.0    664  \n",
       "Cole Anthony       .750     34.9      18.5       5.7       4.0  1,062  \n",
       "Vernon Carey Jr.   .670     24.9      17.8       8.8       1.0     20  \n",
       "Anthony Edwards    .772     33.0      19.1       5.2       2.8  1,533  \n",
       "Josh Green         .780     30.9      12.0       4.6       2.6    319  \n",
       "...                 ...      ...       ...       ...       ...    ...  \n",
       "Ty Jerome          0.81     26.2       9.5      2.97      3.63    338  \n",
       "Miye Oni           0.78    31.67     15.03       6.2       3.3      5  \n",
       "Isaiah Roby        0.72    23.47      7.87      5.37      1.43    454  \n",
       "Grant Williams     0.75     28.7     15.53      6.47      2.07    602  \n",
       "Kendrick Nunn      0.81    30.68     14.68      3.72      2.12      0  \n",
       "\n",
       "[142 rows x 25 columns]"
      ]
     },
     "execution_count": 30,
     "metadata": {},
     "output_type": "execute_result"
    }
   ],
   "source": [
    "df_all_stats"
   ]
  },
  {
   "cell_type": "code",
   "execution_count": 31,
   "id": "014780d2",
   "metadata": {},
   "outputs": [
    {
     "data": {
      "text/html": [
       "<div>\n",
       "<style scoped>\n",
       "    .dataframe tbody tr th:only-of-type {\n",
       "        vertical-align: middle;\n",
       "    }\n",
       "\n",
       "    .dataframe tbody tr th {\n",
       "        vertical-align: top;\n",
       "    }\n",
       "\n",
       "    .dataframe thead th {\n",
       "        text-align: right;\n",
       "    }\n",
       "</style>\n",
       "<table border=\"1\" class=\"dataframe\">\n",
       "  <thead>\n",
       "    <tr style=\"text-align: right;\">\n",
       "      <th></th>\n",
       "      <th>season</th>\n",
       "      <th>g</th>\n",
       "      <th>mp</th>\n",
       "      <th>fg</th>\n",
       "      <th>fga</th>\n",
       "      <th>fg3</th>\n",
       "      <th>fg3a</th>\n",
       "      <th>ft</th>\n",
       "      <th>fta</th>\n",
       "      <th>orb</th>\n",
       "      <th>...</th>\n",
       "      <th>pf</th>\n",
       "      <th>pts</th>\n",
       "      <th>fg_pct</th>\n",
       "      <th>fg3_pct</th>\n",
       "      <th>ft_pct</th>\n",
       "      <th>mp_per_g</th>\n",
       "      <th>pts_per_g</th>\n",
       "      <th>trb_per_g</th>\n",
       "      <th>ast_per_g</th>\n",
       "      <th>f_PTS</th>\n",
       "    </tr>\n",
       "  </thead>\n",
       "  <tbody>\n",
       "    <tr>\n",
       "      <th>Precious Achiuwa</th>\n",
       "      <td>2019-20</td>\n",
       "      <td>31</td>\n",
       "      <td>943</td>\n",
       "      <td>182</td>\n",
       "      <td>369</td>\n",
       "      <td>13</td>\n",
       "      <td>40</td>\n",
       "      <td>112</td>\n",
       "      <td>187</td>\n",
       "      <td>93</td>\n",
       "      <td>...</td>\n",
       "      <td>73</td>\n",
       "      <td>489</td>\n",
       "      <td>.493</td>\n",
       "      <td>.325</td>\n",
       "      <td>.599</td>\n",
       "      <td>30.4</td>\n",
       "      <td>15.8</td>\n",
       "      <td>10.8</td>\n",
       "      <td>1.0</td>\n",
       "      <td>664</td>\n",
       "    </tr>\n",
       "    <tr>\n",
       "      <th>Cole Anthony</th>\n",
       "      <td>2019-20</td>\n",
       "      <td>22</td>\n",
       "      <td>768</td>\n",
       "      <td>131</td>\n",
       "      <td>345</td>\n",
       "      <td>49</td>\n",
       "      <td>141</td>\n",
       "      <td>96</td>\n",
       "      <td>128</td>\n",
       "      <td>10</td>\n",
       "      <td>...</td>\n",
       "      <td>64</td>\n",
       "      <td>407</td>\n",
       "      <td>.380</td>\n",
       "      <td>.348</td>\n",
       "      <td>.750</td>\n",
       "      <td>34.9</td>\n",
       "      <td>18.5</td>\n",
       "      <td>5.7</td>\n",
       "      <td>4.0</td>\n",
       "      <td>1,062</td>\n",
       "    </tr>\n",
       "    <tr>\n",
       "      <th>Vernon Carey Jr.</th>\n",
       "      <td>2019-20</td>\n",
       "      <td>31</td>\n",
       "      <td>772</td>\n",
       "      <td>199</td>\n",
       "      <td>345</td>\n",
       "      <td>8</td>\n",
       "      <td>21</td>\n",
       "      <td>146</td>\n",
       "      <td>218</td>\n",
       "      <td>83</td>\n",
       "      <td>...</td>\n",
       "      <td>85</td>\n",
       "      <td>552</td>\n",
       "      <td>.577</td>\n",
       "      <td>.381</td>\n",
       "      <td>.670</td>\n",
       "      <td>24.9</td>\n",
       "      <td>17.8</td>\n",
       "      <td>8.8</td>\n",
       "      <td>1.0</td>\n",
       "      <td>20</td>\n",
       "    </tr>\n",
       "    <tr>\n",
       "      <th>Anthony Edwards</th>\n",
       "      <td>2019-20</td>\n",
       "      <td>32</td>\n",
       "      <td>1057</td>\n",
       "      <td>203</td>\n",
       "      <td>505</td>\n",
       "      <td>72</td>\n",
       "      <td>245</td>\n",
       "      <td>132</td>\n",
       "      <td>171</td>\n",
       "      <td>24</td>\n",
       "      <td>...</td>\n",
       "      <td>70</td>\n",
       "      <td>610</td>\n",
       "      <td>.402</td>\n",
       "      <td>.294</td>\n",
       "      <td>.772</td>\n",
       "      <td>33.0</td>\n",
       "      <td>19.1</td>\n",
       "      <td>5.2</td>\n",
       "      <td>2.8</td>\n",
       "      <td>1,533</td>\n",
       "    </tr>\n",
       "    <tr>\n",
       "      <th>Josh Green</th>\n",
       "      <td>2019-20</td>\n",
       "      <td>30</td>\n",
       "      <td>926</td>\n",
       "      <td>122</td>\n",
       "      <td>288</td>\n",
       "      <td>30</td>\n",
       "      <td>83</td>\n",
       "      <td>85</td>\n",
       "      <td>109</td>\n",
       "      <td>39</td>\n",
       "      <td>...</td>\n",
       "      <td>73</td>\n",
       "      <td>359</td>\n",
       "      <td>.424</td>\n",
       "      <td>.361</td>\n",
       "      <td>.780</td>\n",
       "      <td>30.9</td>\n",
       "      <td>12.0</td>\n",
       "      <td>4.6</td>\n",
       "      <td>2.6</td>\n",
       "      <td>319</td>\n",
       "    </tr>\n",
       "  </tbody>\n",
       "</table>\n",
       "<p>5 rows × 25 columns</p>\n",
       "</div>"
      ],
      "text/plain": [
       "                   season   g    mp   fg  fga fg3 fg3a   ft  fta orb  ...  pf  \\\n",
       "Precious Achiuwa  2019-20  31   943  182  369  13   40  112  187  93  ...  73   \n",
       "Cole Anthony      2019-20  22   768  131  345  49  141   96  128  10  ...  64   \n",
       "Vernon Carey Jr.  2019-20  31   772  199  345   8   21  146  218  83  ...  85   \n",
       "Anthony Edwards   2019-20  32  1057  203  505  72  245  132  171  24  ...  70   \n",
       "Josh Green        2019-20  30   926  122  288  30   83   85  109  39  ...  73   \n",
       "\n",
       "                  pts fg_pct fg3_pct ft_pct mp_per_g pts_per_g trb_per_g  \\\n",
       "Precious Achiuwa  489   .493    .325   .599     30.4      15.8      10.8   \n",
       "Cole Anthony      407   .380    .348   .750     34.9      18.5       5.7   \n",
       "Vernon Carey Jr.  552   .577    .381   .670     24.9      17.8       8.8   \n",
       "Anthony Edwards   610   .402    .294   .772     33.0      19.1       5.2   \n",
       "Josh Green        359   .424    .361   .780     30.9      12.0       4.6   \n",
       "\n",
       "                 ast_per_g  f_PTS  \n",
       "Precious Achiuwa       1.0    664  \n",
       "Cole Anthony           4.0  1,062  \n",
       "Vernon Carey Jr.       1.0     20  \n",
       "Anthony Edwards        2.8  1,533  \n",
       "Josh Green             2.6    319  \n",
       "\n",
       "[5 rows x 25 columns]"
      ]
     },
     "execution_count": 31,
     "metadata": {},
     "output_type": "execute_result"
    }
   ],
   "source": [
    "x_feat_list = ['g', 'mp', 'stl', 'fg_pct', 'fg3_pct',\n",
    "       'ft_pct', 'mp_per_g', 'pts_per_g', 'trb_per_g', 'ast_per_g']\n",
    "\n",
    "# Replace All empty entries with Nan and drop the row\n",
    "df_all_stats.replace(r'^\\s*$', np.nan, regex=True, inplace=True)\n",
    "df_all_stats.dropna(subset=x_feat_list, how='any', inplace=True)\n",
    "\n",
    "df_all_stats.head()"
   ]
  },
  {
   "cell_type": "markdown",
   "id": "c8b7b0c9",
   "metadata": {},
   "source": [
    "### KNN Bucket Assumptions\n",
    "\n",
    "Nonetheless, by removing those data points come with tradeoff, there is less training data for the classifier to train. This is where an appropriate bucket (i.e. range of fantasy point classification) comes into play, where if the size of the bucket is too small, then there will be less samples from specific buckets, which will defeat the purpose of using KNN classifier as K may be bigger than the size of bucket which ultimately will matches all the samples from the bucket to other buckets instead of its true values. While if the bucket is too big, then the classifier will have less ability to predict the fantasy point accurately, as the range is too big until it become meaningless."
   ]
  },
  {
   "cell_type": "code",
   "execution_count": 32,
   "id": "70423fb9",
   "metadata": {},
   "outputs": [],
   "source": [
    "# Assign Every Player a fantasy point buckets\n",
    "df_all_stats_bucket = df_all_stats\n",
    "\n",
    "# Convert all non integer stats to integer stats\n",
    "df_all_stats_bucket['f_PTS'] = df_all_stats_bucket.apply(lambda row : convertFTS2Int(row['f_PTS']), axis=1)\n",
    "\n",
    "# Delete all player with zero fantasy point\n",
    "df_all_stats_bucket = df_all_stats_bucket[df_all_stats_bucket['f_PTS'] != 0].copy()\n",
    "\n",
    "# Assign Player Fantasy Bucket\n",
    "df_all_stats_bucket['f_PTS_range'] = \\\n",
    "df_all_stats_bucket.apply(lambda row : assignBucket(int(row['f_PTS']), 750), axis=1)"
   ]
  },
  {
   "cell_type": "code",
   "execution_count": 108,
   "id": "d429270e",
   "metadata": {},
   "outputs": [],
   "source": [
    "from sklearn.neighbors import KNeighborsClassifier\n",
    "from sklearn.metrics import confusion_matrix\n",
    "from sklearn.metrics import ConfusionMatrixDisplay\n",
    "import matplotlib.pyplot as plt\n",
    "from sklearn.decomposition import PCA\n",
    "from sklearn.model_selection import StratifiedKFold\n",
    "from sklearn.metrics import accuracy_score\n",
    "\n",
    "def basketball_classifier(clf, df_stats, x_feat_list, pca_component=2, n_splits=3, stratified=False):\n",
    "    \"\"\" Given basketball player fantasy points with college career stats. Implemented a\n",
    "        classifier and display confusion matrix with accuracy score\n",
    "        \n",
    "    Args:\n",
    "        clf (Classifier) : Represent SkLearn Classifier \n",
    "                           (e.g KNeighborsClassifier, RandomForestClassifier and etc)\n",
    "        df_stats (pd.DataFrame) : Represent the baskball player statistic\n",
    "        x_feat_list (np.Array) : Represent the feature which will be used for classification\n",
    "        pca_component (int) : Represent the output dimension of PCA component\n",
    "        n_splits (int) : Represent the number of k-fold\n",
    "        stratified (boolean) : True if using StratifiedKFold to do cross-validation and false\n",
    "                               otherwise\n",
    "                               \n",
    "    Return:\n",
    "        clf (Classifier) : Represent the trained classifier\n",
    "    \"\"\"\n",
    "    # Extract Important Feature for RandomForest Classifier\n",
    "    y_feat = 'f_PTS_range'\n",
    "\n",
    "    x = df_stats.loc[:,x_feat_list].values\n",
    "    y = df_stats.loc[:,y_feat].values\n",
    "\n",
    "    # Implemented Principal Component Analysis\n",
    "    pca = PCA(n_components=pca_component, whiten=True)\n",
    "    pca.fit(x)\n",
    "    x_compress = pca.transform(x)\n",
    "    \n",
    "    # Name of Classifier\n",
    "    clf_name = str(type(clf)).split('.')[-1].split(\"'\")[0]\n",
    "    \n",
    "    # Stratified is true then do cross-validation if false then return trained model\n",
    "    if stratified:\n",
    "        kfold = StratifiedKFold(n_splits=n_splits, shuffle=True)\n",
    "\n",
    "        y_pred = np.empty_like(y)\n",
    "        for train_idx, test_idx in kfold.split(x_compress, y):\n",
    "            # index to split training / test data\n",
    "            x_train = x[train_idx, :]\n",
    "            x_test = x[test_idx, :]\n",
    "            y_true_train = y[train_idx]\n",
    "\n",
    "            # fit happens \"inplace\", we modify the internal state of knn_classifier to remember all the training samples\n",
    "            clf.fit(x_train, y_true_train)\n",
    "\n",
    "            # estimate each Basketball player fantasy point bucket for 2021 Season\n",
    "            y_pred[test_idx] = clf.predict(x_test)\n",
    "            \n",
    "            # displaying the title\n",
    "            plt_title = f'Cross-Validated {clf_name}'\n",
    "    else:\n",
    "        # fit and apply KNN to the model\n",
    "        clf.fit(x_compress, y)\n",
    "        y_pred = clf.predict(x_compress)\n",
    "        \n",
    "        # displaying the title\n",
    "        plt_title = f'{clf_name} on Basketball Player 2021 Fantasy Points with college career stats'\n",
    "        \n",
    "        \n",
    "    # Build Confusion Matrix\n",
    "    conf_mat = confusion_matrix(y_true=y, y_pred=y_pred)\n",
    "\n",
    "    # Build up Confusion Matrix GUI\n",
    "    conf_display = ConfusionMatrixDisplay(conf_mat, display_labels=np.unique(y))\n",
    "    conf_display.plot()\n",
    "\n",
    "    # Set Size and Styling\n",
    "    plt.gcf().set_size_inches(30,10)\n",
    "    plt.title(plt_title)\n",
    "    plt.grid(False)\n",
    "    \n",
    "    print(f'The accuracy rate is at {accuracy_score(y, y_pred)}')\n",
    "    return clf"
   ]
  },
  {
   "cell_type": "markdown",
   "id": "267fd833",
   "metadata": {},
   "source": [
    "To evaluate our model, we will be using confusion matrix as a graphical model to show if our model is valid by showing the truth value against the predicted value. We will show both confusion matrix for cross validated model to show that our model can predict based on new samples, and confusion matrix without cross validation to show that our model overall performance when trained on the entire dataset."
   ]
  },
  {
   "cell_type": "code",
   "execution_count": 110,
   "id": "c7753145",
   "metadata": {},
   "outputs": [
    {
     "name": "stdout",
     "output_type": "stream",
     "text": [
      "The accuracy rate is at 0.7121212121212122\n"
     ]
    },
    {
     "data": {
      "text/plain": [
       "KNeighborsClassifier(n_neighbors=2)"
      ]
     },
     "execution_count": 110,
     "metadata": {},
     "output_type": "execute_result"
    },
    {
     "data": {
      "image/png": "[encoded data removed]",
      "text/plain": [
       "<Figure size 2160x720 with 2 Axes>"
      ]
     },
     "metadata": {},
     "output_type": "display_data"
    }
   ],
   "source": [
    "x_feat_list = ['g', 'mp', 'stl', 'fg_pct', 'fg3_pct',\n",
    "           'ft_pct', 'mp_per_g', 'pts_per_g', 'trb_per_g', 'ast_per_g']\n",
    "\n",
    "# Initilaize KNN Classifer with K = 2\n",
    "knn_classifier = KNeighborsClassifier(n_neighbors=2)\n",
    "\n",
    "# Cross Validated KNN Classifer\n",
    "basketball_classifier(knn_classifier, df_all_stats_bucket, x_feat_list, stratified=True)"
   ]
  },
  {
   "cell_type": "markdown",
   "id": "71da8ca2",
   "metadata": {},
   "source": [
    "The above result a confusion matrix generated from KNN classifier (K=3) where every features will be plot on the graph against f_pts (fantasy point) where if the new data point were introduced to the KNN classifer, the classifier will find the closet k neighbour and return its classification.\n",
    "\n",
    "The above confustion matrix is representing the cross-validated KNN classifier with principal componet analysis that predict which class of fantasy point the basketball players will be classified based on their college career statistic. As suggested by the confusion matrix, the classifier accurate prediceted 0 < f_pts < 750 fantasy point class since most of the basketball player in their early professional career will be peforming in those ranges. While the accuracy of the classifier significantly drop in 750 < f_pts < 1500 where only ~0.16 basketball player is accurately predicted, and almost ~0.00% in prediciting the NBA-Star class which has a fantasy point of 1500 < f_pts < 2250.\n",
    "\n",
    "One of the main reason why the classification does not do such a great job in prediciting NBA star is that there is generally less basketball players who is consider to be an NBA star. Thus K-Nearest Negibours tend to associates a player with 0 < f_pts < 750 more since there is a lot more players in those classification. To address samples distribution we will be exploring with different suite of classifier such as RandomForestClassifier."
   ]
  },
  {
   "cell_type": "code",
   "execution_count": 111,
   "id": "c6dcea83",
   "metadata": {},
   "outputs": [
    {
     "name": "stdout",
     "output_type": "stream",
     "text": [
      "The accuracy rate is at 0.8106060606060606\n"
     ]
    },
    {
     "data": {
      "image/png": "[encoded data removed]",
      "text/plain": [
       "<Figure size 2160x720 with 2 Axes>"
      ]
     },
     "metadata": {},
     "output_type": "display_data"
    }
   ],
   "source": [
    "x_feat_list = ['g', 'mp', 'stl', 'fg_pct', 'fg3_pct',\n",
    "           'ft_pct', 'mp_per_g', 'pts_per_g', 'trb_per_g', 'ast_per_g']\n",
    "\n",
    "# KNN without Corss validation\n",
    "knn_classifier = basketball_classifier(knn_classifier, df_all_stats_bucket, x_feat_list, stratified=False)"
   ]
  },
  {
   "cell_type": "markdown",
   "id": "68b29aa3",
   "metadata": {},
   "source": [
    "Here is the confusion matrix on KNN classifier without cross validation, where accuracy rate is around 80%. The accuracy rate varies between buckets where the classifier accurately most of player who scored 0 - 750 fantasy point based on college career stats, while 36% accurate for player who scored 750 - 1500 fantasy points, and 0% for 1500 - 2250 fantasy points."
   ]
  },
  {
   "cell_type": "markdown",
   "id": "c13420e7",
   "metadata": {},
   "source": [
    "### RandomForestClassifier"
   ]
  },
  {
   "cell_type": "code",
   "execution_count": 120,
   "id": "8aaaf1bf",
   "metadata": {},
   "outputs": [
    {
     "name": "stdout",
     "output_type": "stream",
     "text": [
      "The accuracy rate is at 0.7348484848484849\n"
     ]
    },
    {
     "data": {
      "text/plain": [
       "RandomForestClassifier(max_depth=5)"
      ]
     },
     "execution_count": 120,
     "metadata": {},
     "output_type": "execute_result"
    },
    {
     "data": {
      "image/png": "[encoded data removed]",
      "text/plain": [
       "<Figure size 2160x720 with 2 Axes>"
      ]
     },
     "metadata": {},
     "output_type": "display_data"
    }
   ],
   "source": [
    "x_feat_list = ['g', 'mp', 'stl', 'fg_pct', 'fg3_pct',\n",
    "       'ft_pct', 'mp_per_g', 'pts_per_g', 'trb_per_g', 'ast_per_g']\n",
    "\n",
    "# Initialize RandomForestClassifer with max_depth = 5\n",
    "rf_basketball = RandomForestClassifier(max_depth=5)\n",
    "\n",
    "# RandomForestClassifier with Stratified K Fold cross validation\n",
    "basketball_classifier(rf_basketball, df_all_stats_bucket, x_feat_list, n_splits=2 ,stratified=True)"
   ]
  },
  {
   "cell_type": "markdown",
   "id": "b1d485bd",
   "metadata": {},
   "source": [
    "Similar to K Nearest Neighbours the accuracy rate in predicting basktball player with 0 < f_PTS < 750 by the RandomForestClassifier is around ~0.97 while the accuracy drop significantly for other class ~ 0.20 for 750 < f_pts < 1500 and ~0.20 for 1500 < f_pts < 2250."
   ]
  },
  {
   "cell_type": "code",
   "execution_count": 122,
   "id": "7308d338",
   "metadata": {},
   "outputs": [
    {
     "name": "stdout",
     "output_type": "stream",
     "text": [
      "The accuracy rate is at 0.8333333333333334\n"
     ]
    },
    {
     "data": {
      "image/png": "[encoded data removed]",
      "text/plain": [
       "<Figure size 2160x720 with 2 Axes>"
      ]
     },
     "metadata": {},
     "output_type": "display_data"
    }
   ],
   "source": [
    "x_feat_list = ['g', 'mp', 'stl', 'fg_pct', 'fg3_pct',\n",
    "       'ft_pct', 'mp_per_g', 'pts_per_g', 'trb_per_g', 'ast_per_g']\n",
    "\n",
    "# RandomForestClassifier without Stratified K Fold cross validation\n",
    "rf_basketball = basketball_classifier(rf_basketball, df_all_stats_bucket, x_feat_list, stratified=False)"
   ]
  },
  {
   "cell_type": "markdown",
   "id": "21149240",
   "metadata": {},
   "source": [
    "When comparing the overall performance between KNN and RandomForestClassifier, the randomForestClassifier is more accurate than KNN as it does not heavily relies on other samples for classification. Which can be reflected upon the accuracy score in the cross validated model of KNN and randomForest, where on average the KNN score 0.67 - 0.72 and RandomForest score on average 0.70 - 0.76. "
   ]
  },
  {
   "cell_type": "code",
   "execution_count": 125,
   "id": "970ffc22",
   "metadata": {},
   "outputs": [
    {
     "name": "stdout",
     "output_type": "stream",
     "text": [
      "The accuracy rate is at 0.6893939393939394\n"
     ]
    },
    {
     "data": {
      "text/plain": [
       "DecisionTreeClassifier(max_depth=6)"
      ]
     },
     "execution_count": 125,
     "metadata": {},
     "output_type": "execute_result"
    },
    {
     "data": {
      "image/png": "[encoded data removed]",
      "text/plain": [
       "<Figure size 2160x720 with 2 Axes>"
      ]
     },
     "metadata": {},
     "output_type": "display_data"
    }
   ],
   "source": [
    "x_feat_list = ['g', 'mp', 'stl', 'fg_pct', 'fg3_pct',\n",
    "       'ft_pct', 'mp_per_g', 'pts_per_g', 'trb_per_g', 'ast_per_g']\n",
    "\n",
    "# Initlaize DecisionTreeClassifer with max_depth = 6\n",
    "dec_basketball = DecisionTreeClassifier(max_depth=6)\n",
    "\n",
    "# DecisionForestClassifier with Stratified K Fold cross validation\n",
    "basketball_classifier(dec_basketball, df_all_stats_bucket, x_feat_list, n_splits=3 ,stratified=True)"
   ]
  },
  {
   "cell_type": "code",
   "execution_count": 126,
   "id": "56f3cba5",
   "metadata": {},
   "outputs": [
    {
     "name": "stdout",
     "output_type": "stream",
     "text": [
      "The accuracy rate is at 0.9015151515151515\n"
     ]
    },
    {
     "data": {
      "image/png": "[encoded data removed]",
      "text/plain": [
       "<Figure size 2160x720 with 2 Axes>"
      ]
     },
     "metadata": {},
     "output_type": "display_data"
    }
   ],
   "source": [
    "x_feat_list = ['g', 'mp', 'stl', 'fg_pct', 'fg3_pct',\n",
    "       'ft_pct', 'mp_per_g', 'pts_per_g', 'trb_per_g', 'ast_per_g']\n",
    "\n",
    "# DecisionForestClassifier without Stratified K Fold cross validation\n",
    "dec_basketball = basketball_classifier(dec_basketball, df_all_stats_bucket, x_feat_list ,stratified=False)"
   ]
  },
  {
   "cell_type": "markdown",
   "id": "d66293e9",
   "metadata": {},
   "source": [
    "### Feature Importance\n",
    "Identified which feature significantly impact the gini coefficient"
   ]
  },
  {
   "cell_type": "code",
   "execution_count": 127,
   "id": "c492c551",
   "metadata": {},
   "outputs": [],
   "source": [
    "\"\"\"\n",
    "Plot Feature Importance\n",
    "\"\"\"\n",
    "\n",
    "def plot_feat_import(feat_list, feat_import, sort=True, limit=None):\n",
    "    \"\"\" plots feature importances in a horizontal bar chart\n",
    "    \n",
    "    Args:\n",
    "        feat_list (list): str names of features\n",
    "        feat_import (np.array): feature importances (mean gini reduce)\n",
    "        sort (bool): if True, sorts features in decreasing importance\n",
    "            from top to bottom of plot\n",
    "        limit (int): if passed, limits the number of features shown\n",
    "            to this value    \n",
    "    \"\"\"\n",
    "    \n",
    "    if sort:\n",
    "        # sort features in decreasing importance\n",
    "        idx = np.argsort(feat_import).astype(int)\n",
    "        feat_list = [feat_list[_idx] for _idx in idx]\n",
    "        feat_import = feat_import[idx] \n",
    "        \n",
    "    if limit is not None:\n",
    "        # limit to the first limit feature\n",
    "        feat_list = feat_list[:limit]\n",
    "        feat_import = feat_import[:limit]\n",
    "    \n",
    "    # plot and label feature importance\n",
    "    plt.barh(feat_list, feat_import)\n",
    "    plt.gcf().set_size_inches(5, len(feat_list) / 2)\n",
    "    plt.xlabel('Feature importance\\n(Mean decrease in Gini across all Decision Trees)')"
   ]
  },
  {
   "cell_type": "code",
   "execution_count": 128,
   "id": "4e5a15b1",
   "metadata": {},
   "outputs": [
    {
     "data": {
      "image/png": "[encoded data removed]",
      "text/plain": [
       "<Figure size 360x72 with 1 Axes>"
      ]
     },
     "metadata": {},
     "output_type": "display_data"
    }
   ],
   "source": [
    "import numpy as np\n",
    "import seaborn as sns\n",
    "\n",
    "sns.set()\n",
    "plot_feat_import(x_feat_list, dec_basketball.feature_importances_, limit=10)\n"
   ]
  },
  {
   "cell_type": "code",
   "execution_count": null,
   "id": "c06c6003",
   "metadata": {},
   "outputs": [],
   "source": []
  },
  {
   "cell_type": "code",
   "execution_count": 57,
   "id": "872baba5",
   "metadata": {},
   "outputs": [],
   "source": [
    "import plotly.express as px\n",
    "from plotly.subplots import make_subplots\n",
    "import plotly.graph_objects as go\n",
    "\n",
    "def plotly_scatter(classifier, df_stats, x_feat_list, pca_component=2):\n",
    "    \"\"\" Plot the basketball data with PCA applied and apply label with predicted label \n",
    "    and actual label.\n",
    "    \n",
    "    Args:\n",
    "        classifier : Represent Classifier that classified basketball player\n",
    "        df_stats : Represent data set which the PCA will be applied and plot\n",
    "        x_feat_list : Represent the set of selected of features\n",
    "        pca_component : Represent the dimension that PCA will be used\n",
    "        \n",
    "    Return\n",
    "        fig : Plot the figure\n",
    "    \n",
    "    \"\"\"\n",
    "    # Extract Values\n",
    "    x = df_stats.loc[:,x_feat_list].values\n",
    "    y = df_stats.loc[:,'f_PTS_range'].values\n",
    "    \n",
    "    # Implemented Principal Component Analysis\n",
    "    pca = PCA(n_components=pca_component, whiten=True)\n",
    "    pca.fit(x)\n",
    "    x_compress = pca.transform(x)\n",
    "    \n",
    "    df_stats['pca0'] = x_compress[:, 0]\n",
    "    df_stats['pca1'] = x_compress[:, 1]\n",
    "    \n",
    "    # Use the classifer\n",
    "    classifier.fit(x_compress, y)\n",
    "    y_pred = classifier.predict(x_compress)\n",
    "    \n",
    "    df_stats['predicted_fts_range'] = y_pred\n",
    "    \n",
    "    # Plot the PCA predicted vs actual\n",
    "    df_stats.sort_values('predicted_fts_range', inplace=True)\n",
    "    fig_predicted = px.scatter(df_stats, x='pca0', y='pca1', \n",
    "                               color='predicted_fts_range',\n",
    "                               hover_data=x_feat_list,\n",
    "                               title='PCA Visualization with Predicted Value')\n",
    "    \n",
    "    df_stats.sort_values('f_PTS_range', inplace=True)\n",
    "    fig_actual = px.scatter(df_stats, x='pca0', y='pca1', \n",
    "                            color='f_PTS_range',\n",
    "                            hover_data=x_feat_list,\n",
    "                            title='PCA Visualization with Actual Value')\n",
    "    \n",
    "    # Show Figure\n",
    "    fig_predicted.write_html(f'Predicted PCA with KNN Classifier')\n",
    "    # fig_actual.write_html(f'Actual PCA')\n",
    "    fig_predicted.show()\n",
    "    fig_actual.show()"
   ]
  },
  {
   "cell_type": "markdown",
   "id": "001b0056",
   "metadata": {},
   "source": [
    "### Plotting Scatter Plot\n",
    "\n",
    "Plotting scatter plot between 2 PCA features to see the performance of classification algorithm"
   ]
  },
  {
   "cell_type": "code",
   "execution_count": 60,
   "id": "3fbc5ca6",
   "metadata": {},
   "outputs": [
    {
     "data": {
      "application/vnd.plotly.v1+json": {
       "config": {
        "plotlyServerURL": "https://plot.ly"
       },
       "data": [
        {
         "customdata": [
          [
           "31",
           "943",
           "34",
           ".493",
           ".325",
           ".599",
           "30.4",
           "15.8",
           "10.8",
           "1.0"
          ],
          [
           37.5,
           763,
           20.5,
           0.42,
           0.36,
           0.62,
           20.4,
           5.7,
           5.1,
           0.65
          ],
          [
           33,
           1107.5,
           56,
           0.48,
           0.34,
           0.81,
           33.65,
           15.2,
           3.9,
           3.75
          ],
          [
           31.25,
           830.25,
           16.75,
           0.56,
           0.26,
           0.72,
           26.52,
           17.1,
           7.7,
           2.15
          ],
          [
           29.25,
           677.5,
           15.5,
           0.37,
           0.22,
           0.62,
           22.78,
           7.28,
           4.22,
           1
          ],
          [
           30.33,
           932.67,
           31,
           0.4,
           0.33,
           0.75,
           29.97,
           13.5,
           3.83,
           2.07
          ],
          [
           33,
           1206.5,
           36.5,
           0.42,
           0.35,
           0.82,
           36.5,
           18.45,
           5.75,
           2.45
          ],
          [
           32,
           963.25,
           30.5,
           0.45,
           0.44,
           0.89,
           30.05,
           21.6,
           3.22,
           3.08
          ],
          [
           34.25,
           868.5,
           56,
           0.47,
           0.21,
           0.74,
           25.45,
           8.43,
           4.12,
           3.35
          ],
          [
           31.67,
           955.67,
           34.67,
           0.45,
           0.38,
           0.7,
           29.77,
           13.03,
           6.43,
           1.07
          ],
          [
           35.33,
           1027,
           24.67,
           0.43,
           0.44,
           0.79,
           28.8,
           12.33,
           2.93,
           1.63
          ],
          [
           33.5,
           698.75,
           15.75,
           0.54,
           0.23,
           0.69,
           21.05,
           7.58,
           4.2,
           0.3
          ],
          [
           36,
           1018,
           28.5,
           0.52,
           0.33,
           0.63,
           28.35,
           13,
           6.6,
           1.65
          ],
          [
           "35",
           "952",
           "45",
           ".406",
           ".308",
           ".625",
           "27.2",
           "11.8",
           "4.9",
           "2.3"
          ],
          [
           32,
           925,
           18,
           0.52,
           0.32,
           0.7,
           29,
           13.6,
           8.65,
           0.85
          ],
          [
           33,
           1079.5,
           81.5,
           0.42,
           0.34,
           0.81,
           32.7,
           15.6,
           3.1,
           5.9
          ],
          [
           32.5,
           990.75,
           53.25,
           0.44,
           0.35,
           0.84,
           30.38,
           12.42,
           3.62,
           2.95
          ],
          [
           32.5,
           1023,
           40.5,
           0.43,
           0.36,
           0.82,
           31.6,
           17.8,
           4.7,
           3.1
          ],
          [
           36,
           919.5,
           46,
           0.48,
           0.39,
           0.7,
           25.35,
           9.75,
           6.3,
           1.5
          ],
          [
           33.33,
           726.67,
           21.67,
           0.42,
           0.39,
           0.75,
           21,
           9.03,
           4.1,
           0.57
          ],
          [
           21.75,
           508.25,
           10.25,
           0.71,
           0,
           0.39,
           21.15,
           11.27,
           7.18,
           0.6
          ],
          [
           "31",
           "943",
           "27",
           ".435",
           ".386",
           ".785",
           "30.4",
           "13.5",
           "5.5",
           "1.3"
          ],
          [
           34.75,
           999.25,
           31.25,
           0.46,
           0.43,
           0.84,
           28.75,
           14.18,
           2.68,
           6.38
          ],
          [
           30,
           981.5,
           44,
           0.39,
           0.38,
           0.82,
           33.1,
           15.4,
           3.45,
           1.7
          ],
          [
           36,
           1213.5,
           52.75,
           0.43,
           0.38,
           0.79,
           33.88,
           13.82,
           3.85,
           4.62
          ],
          [
           "30",
           "926",
           "46",
           ".424",
           ".361",
           ".780",
           "30.9",
           "12.0",
           "4.6",
           "2.6"
          ],
          [
           29,
           918.67,
           24.67,
           0.43,
           0.36,
           0.78,
           31.67,
           15.03,
           6.2,
           3.3
          ],
          [
           30.5,
           881.5,
           38.75,
           0.49,
           0.27,
           0.65,
           26.85,
           8.88,
           4.3,
           3.28
          ],
          [
           27,
           685,
           20.6,
           0.43,
           0.39,
           0.76,
           23.72,
           10.1,
           3.58,
           1.6
          ],
          [
           31.5,
           608,
           30,
           0.46,
           0.42,
           0.71,
           19.75,
           8.6,
           3.3,
           1.1
          ],
          [
           "37",
           "997",
           "30",
           ".561",
           ".413",
           ".738",
           "26.9",
           "13.5",
           "9.1",
           "2.0"
          ],
          [
           "22",
           "768",
           "29",
           ".380",
           ".348",
           ".750",
           "34.9",
           "18.5",
           "5.7",
           "4.0"
          ],
          [
           "35",
           "764",
           "21",
           ".513",
           ".396",
           ".797",
           "21.8",
           "10.9",
           "5.8",
           "1.1"
          ],
          [
           "5",
           "139",
           "4",
           ".537",
           ".478",
           ".750",
           "27.8",
           "16.2",
           "3.8",
           "2.6"
          ],
          [
           "35",
           "999",
           "38",
           ".423",
           ".353",
           ".800",
           "28.5",
           "16.1",
           "3.5",
           "4.1"
          ],
          [
           33.5,
           836,
           21.5,
           0.39,
           0.39,
           0.88,
           25.75,
           10.65,
           3,
           1.55
          ],
          [
           "21",
           "464",
           "17",
           ".471",
           ".412",
           ".522",
           "22.1",
           "9.5",
           "4.0",
           "1.4"
          ],
          [
           37.5,
           850,
           30,
           0.43,
           0.37,
           0.83,
           22.8,
           9.45,
           2.2,
           1.4
          ],
          [
           "32",
           "888",
           "30",
           ".415",
           ".346",
           ".738",
           "27.8",
           "11.5",
           "2.6",
           "1.9"
          ],
          [
           32.75,
           1090,
           32.25,
           0.47,
           0.43,
           0.88,
           33.1,
           16.58,
           3.6,
           3.63
          ],
          [
           33.75,
           1087.75,
           26.75,
           0.43,
           0.29,
           0.74,
           32.22,
           16.42,
           6.5,
           1.98
          ],
          [
           32.5,
           810.5,
           26.5,
           0.48,
           0.35,
           0.61,
           25.3,
           8.45,
           5.3,
           1
          ],
          [
           34,
           670.67,
           20,
           0.56,
           0.3,
           0.69,
           18.5,
           11.3,
           4.2,
           0.73
          ],
          [
           34.25,
           1014.25,
           25.25,
           0.48,
           0.32,
           0.76,
           29.7,
           12.55,
           5.18,
           1.48
          ],
          [
           32,
           927,
           25.5,
           0.65,
           0.46,
           0.71,
           29.05,
           17.2,
           6.55,
           2
          ],
          [
           32,
           1030,
           44.5,
           0.42,
           0.38,
           0.74,
           32.2,
           16.55,
           7.45,
           2.45
          ],
          [
           36,
           1060,
           42,
           0.41,
           0.37,
           0.8,
           29.37,
           17.7,
           3.33,
           2.5
          ],
          [
           27,
           547,
           22,
           0.53,
           0.45,
           0.73,
           19.9,
           9.22,
           4.5,
           1.42
          ],
          [
           26,
           802,
           26,
           0.43,
           0.3,
           0.68,
           30.6,
           13.4,
           4.7,
           1.9
          ],
          [
           31.5,
           1099.5,
           29,
           0.4,
           0.37,
           0.83,
           34.9,
           15.9,
           5.6,
           1.3
          ],
          [
           35,
           925,
           42.33,
           0.44,
           0.39,
           0.81,
           26.2,
           9.5,
           2.97,
           3.63
          ],
          [
           31.33,
           1044,
           42,
           0.42,
           0.37,
           0.81,
           33.3,
           14.37,
           3.6,
           4.1
          ],
          [
           33.5,
           935,
           32.5,
           0.53,
           0.27,
           0.76,
           27.85,
           13.2,
           7.9,
           1.5
          ],
          [
           34.75,
           989.75,
           33.75,
           0.4,
           0.35,
           0.71,
           28.58,
           13.6,
           4.53,
           1.87
          ],
          [
           "32",
           "1090",
           "25",
           ".448",
           ".272",
           ".722",
           "34.1",
           "16.5",
           "5.4",
           "2.3"
          ],
          [
           35.33,
           1043,
           40.67,
           0.38,
           0.36,
           0.78,
           29.23,
           13.3,
           2.27,
           4.73
          ],
          [
           32.5,
           1121,
           42,
           0.45,
           0.36,
           0.79,
           34.6,
           16,
           3.7,
           4.05
          ],
          [
           32.5,
           1129,
           60,
           0.42,
           0.31,
           0.76,
           34.8,
           12.8,
           4,
           5.85
          ],
          [
           37.5,
           1106,
           49,
           0.46,
           0.34,
           0.68,
           29.45,
           14.85,
           5.6,
           2.75
          ],
          [
           32.33,
           773,
           26.67,
           0.47,
           0.31,
           0.72,
           23.47,
           7.87,
           5.37,
           1.43
          ],
          [
           32.5,
           748,
           19.5,
           0.45,
           0.32,
           0.58,
           23.15,
           8.45,
           6.25,
           1
          ],
          [
           35.5,
           945.5,
           20.5,
           0.5,
           0.41,
           0.77,
           26.2,
           12.2,
           4.3,
           1.55
          ],
          [
           "37",
           "1096",
           "26",
           ".462",
           ".392",
           ".773",
           "29.6",
           "14.8",
           "5.4",
           "0.8"
          ],
          [
           "35",
           "1093",
           "55",
           ".444",
           ".291",
           ".743",
           "31.2",
           "11.3",
           "6.2",
           "3.2"
          ],
          [
           "27",
           "842",
           "36",
           ".442",
           ".426",
           ".641",
           "31.2",
           "15.0",
           "4.0",
           "2.2"
          ],
          [
           "36",
           "895",
           "20",
           ".473",
           ".395",
           ".755",
           "24.9",
           "10.9",
           "2.5",
           "1.7"
          ],
          [
           32.5,
           888,
           22.5,
           0.5,
           0.3,
           0.74,
           27.5,
           13.55,
           8.65,
           1.45
          ],
          [
           "37",
           "918",
           "28",
           ".428",
           ".338",
           ".616",
           "24.8",
           "10.0",
           "3.6",
           "1.2"
          ],
          [
           "36",
           "1263",
           "66",
           ".551",
           ".412",
           ".673",
           "35.1",
           "14.6",
           "6.0",
           "7.6"
          ],
          [
           "29",
           "653",
           "29",
           ".459",
           ".320",
           ".838",
           "22.5",
           "9.2",
           "4.0",
           "1.0"
          ],
          [
           "31",
           "1010",
           "43",
           ".441",
           ".408",
           ".891",
           "32.6",
           "14.6",
           "4.5",
           "3.2"
          ],
          [
           "32",
           "1031",
           "17",
           ".570",
           ".250",
           ".774",
           "32.2",
           "17.0",
           "8.8",
           "0.8"
          ],
          [
           "29",
           "796",
           "20",
           ".474",
           ".360",
           ".733",
           "27.4",
           "12.6",
           "4.9",
           "1.0"
          ],
          [
           "9",
           "268",
           "7",
           ".561",
           ".520",
           ".757",
           "29.8",
           "21.0",
           "9.6",
           "1.0"
          ],
          [
           "32",
           "981",
           "23",
           ".570",
           ".294",
           ".760",
           "30.7",
           "16.1",
           "8.6",
           "0.8"
          ],
          [
           "35",
           "1077",
           "59",
           ".513",
           ".378",
           ".566",
           "30.8",
           "16.3",
           "7.4",
           "3.0"
          ],
          [
           "3",
           "53",
           "3",
           ".333",
           ".300",
           ".778",
           "17.7",
           "10.0",
           "6.7",
           "0.3"
          ],
          [
           33,
           942,
           16.5,
           0.56,
           0.43,
           0.66,
           28.85,
           15.45,
           9.15,
           0.8
          ],
          [
           34.67,
           1001,
           29.67,
           0.51,
           0.27,
           0.75,
           28.7,
           15.53,
           6.47,
           2.07
          ],
          [
           "33",
           "1118",
           "27",
           ".614",
           ".397",
           ".627",
           "33.9",
           "21.0",
           "11.1",
           "1.5"
          ],
          [
           "25",
           "892",
           "40",
           ".476",
           ".413",
           ".649",
           "35.7",
           "23.2",
           "5.7",
           "5.9"
          ],
          [
           "32",
           "1114",
           "62",
           ".455",
           ".359",
           ".715",
           "34.8",
           "18.1",
           "4.6",
           "6.2"
          ],
          [
           28,
           664,
           25.5,
           0.6,
           0,
           0.61,
           23.35,
           7.45,
           6.7,
           0.4
          ],
          [
           "31",
           "963",
           "24",
           ".405",
           ".339",
           ".763",
           "31.1",
           "13.0",
           "5.8",
           "2.1"
          ],
          [
           35,
           1173,
           41,
           0.48,
           0.4,
           0.79,
           33.45,
           16.1,
           4.65,
           2.9
          ],
          [
           31,
           867,
           21,
           0.54,
           0.13,
           0.63,
           27.77,
           14.03,
           6.57,
           1.73
          ],
          [
           33.5,
           1003,
           46,
           0.46,
           0.38,
           0.75,
           29.85,
           13.45,
           3.95,
           2.75
          ],
          [
           35,
           636,
           3.33,
           0.62,
           0,
           0.72,
           18.8,
           7.7,
           5.17,
           0.2
          ],
          [
           31,
           815.33,
           24,
           0.45,
           0.4,
           0.78,
           25.67,
           13.57,
           5.83,
           1
          ],
          [
           35.5,
           1266,
           38,
           0.37,
           0.3,
           0.72,
           35.55,
           13.65,
           8.15,
           1.35
          ],
          [
           31,
           720.33,
           36.33,
           0.53,
           0.31,
           0.7,
           22.83,
           10.33,
           7.43,
           0.97
          ],
          [
           "31",
           "772",
           "22",
           ".577",
           ".381",
           ".670",
           "24.9",
           "17.8",
           "8.8",
           "1.0"
          ],
          [
           23,
           714,
           21.5,
           0.45,
           0.43,
           0.82,
           32.35,
           17,
           5.2,
           1.15
          ],
          [
           "34",
           "926",
           "25",
           ".468",
           ".333",
           ".727",
           "27.2",
           "13.6",
           "7.2",
           "0.9"
          ],
          [
           "14",
           "238",
           "6",
           ".426",
           ".000",
           ".632",
           "17.0",
           "5.9",
           "7.9",
           "1.0"
          ],
          [
           "33",
           "987",
           "28",
           ".447",
           ".336",
           ".778",
           "29.9",
           "19.2",
           "3.8",
           "3.6"
          ],
          [
           "31",
           "936",
           "19",
           ".458",
           ".226",
           ".717",
           "30.2",
           "13.1",
           "7.6",
           "1.5"
          ],
          [
           30.5,
           1007,
           45,
           0.43,
           0.38,
           0.78,
           33.6,
           17.15,
           5.85,
           2.05
          ],
          [
           33,
           1018.67,
           33,
           0.46,
           0.3,
           0.73,
           31.13,
           13.07,
           5.97,
           3
          ],
          [
           32,
           983.67,
           40.33,
           0.47,
           0.33,
           0.72,
           30.77,
           13.97,
           3.27,
           3.7
          ],
          [
           33.5,
           854.5,
           24.5,
           0.63,
           0,
           0.56,
           25.65,
           14.35,
           7.45,
           0.7
          ],
          [
           "28",
           "881",
           "26",
           ".514",
           ".286",
           ".672",
           "31.5",
           "12.9",
           "4.4",
           "2.0"
          ],
          [
           "28",
           "858",
           "34",
           ".616",
           ".250",
           ".720",
           "30.6",
           "16.2",
           "8.6",
           "1.1"
          ],
          [
           32,
           846,
           16.5,
           0.59,
           0.32,
           0.76,
           26.2,
           11.95,
           8.55,
           1.35
          ],
          [
           "36",
           "656",
           "19",
           ".478",
           ".269",
           ".770",
           "18.2",
           "9.8",
           "4.6",
           "0.7"
          ],
          [
           "30",
           "1097",
           "33",
           ".491",
           ".411",
           ".777",
           "36.6",
           "20.3",
           "6.7",
           "1.8"
          ]
         ],
         "hovertemplate": "predicted_fts_range=0 < f_pts <= 750<br>pca0=%{x}<br>pca1=%{y}<br>g=%{customdata[0]}<br>mp=%{customdata[1]}<br>stl=%{customdata[2]}<br>fg_pct=%{customdata[3]}<br>fg3_pct=%{customdata[4]}<br>ft_pct=%{customdata[5]}<br>mp_per_g=%{customdata[6]}<br>pts_per_g=%{customdata[7]}<br>trb_per_g=%{customdata[8]}<br>ast_per_g=%{customdata[9]}<extra></extra>",
         "legendgroup": "0 < f_pts <= 750",
         "marker": {
          "color": "#636efa",
          "symbol": "circle"
         },
         "mode": "markers",
         "name": "0 < f_pts <= 750",
         "orientation": "v",
         "showlegend": true,
         "type": "scatter",
         "x": [
          -0.044391637100147215,
          0.8013210817994741,
          -0.819083632943213,
          0.4868785024206804,
          1.2030187885904546,
          0.004679374416646833,
          -1.279153339147409,
          -0.1388560719514246,
          0.3005029627445201,
          -0.10375091936777758,
          -0.4360255143133934,
          1.1032390595188097,
          -0.3946623895781414,
          -0.08860997075189611,
          0.04299020698661642,
          -0.692808924088525,
          -0.2716178485765933,
          -0.42047053150550157,
          0.0634830218911086,
          0.9713794382236257,
          1.9969852812676518,
          -0.04299912952701891,
          -0.3074548590327556,
          -0.22663594653972982,
          -1.3149368089403826,
          0.03307632601485703,
          0.07133449355076237,
          0.24312752436429286,
          1.1669626041416217,
          1.5255970556636016,
          -0.29663997419424476,
          0.7760938921726314,
          0.7964676842796612,
          3.7275226641676653,
          -0.30759668216939223,
          0.4591562430198393,
          2.2028975852109425,
          0.3919159028411612,
          0.21406705956070182,
          -0.7326574675914079,
          -0.7210701488490733,
          0.5778040014738778,
          1.2338871190597092,
          -0.37641955723859943,
          0.032048950528358655,
          -0.4539324263352118,
          -0.5941003512901161,
          1.8130386699093182,
          0.6176804231878217,
          -0.7764695085851177,
          0.03842389660844204,
          -0.5189738269061612,
          -0.006610632224518443,
          -0.26334313914868684,
          -0.7312653966904957,
          -0.5140711636180313,
          -0.879695392262697,
          -0.9204733291416324,
          -0.810797660998821,
          0.7534874592647018,
          0.8718707431314288,
          -0.05352412956773286,
          -0.7595695016085695,
          -0.7508543663217173,
          0.42833722533779867,
          0.18306910640382143,
          0.21540611390954342,
          0.07384828767939017,
          -1.5493296248459245,
          1.3151296422820664,
          -0.35990891633292577,
          -0.45340172823761066,
          0.6469157770425074,
          3.1224176743520617,
          -0.2203264497036024,
          -0.6768600067283573,
          4.131518135972492,
          -0.036454250212776276,
          -0.3153087533708733,
          -0.862936835169264,
          0.1929983565397421,
          -0.8507883659731379,
          1.2644050043885984,
          -0.13610401130362934,
          -1.1230557038815057,
          0.3140855885081986,
          -0.3276779984598328,
          1.3993692793188468,
          0.5555852064628707,
          -1.5579264281166605,
          0.9983133348270442,
          0.7587099234130676,
          1.0305029452095587,
          0.0369356519870972,
          3.2641131092446893,
          -0.24956115819378227,
          -0.008686665934457116,
          -0.3463461366507933,
          -0.3986126086176329,
          -0.2360865195458924,
          0.3718793983062723,
          0.24762691498730927,
          0.35375260172472456,
          0.41335800588182736,
          1.3026483093073835,
          -0.7656837078884745
         ],
         "xaxis": "x",
         "y": [
          0.07104629846768007,
          -0.46507415527348983,
          1.4686606613746973,
          -1.0220889228797065,
          -0.5652743180125553,
          -0.10052444894779347,
          -0.5918578259227418,
          -0.26368735480277267,
          2.2915560290266144,
          0.11306588885846237,
          -0.994164608996648,
          -0.6404390229353327,
          -0.6554254470730173,
          1.0266600895245288,
          -1.2472309018459993,
          3.7985911819406506,
          1.634044944959128,
          0.39881163305529377,
          1.2109340700433613,
          -0.2237542377921609,
          -0.4385731178309798,
          -0.5000275155046189,
          -0.29558248485945804,
          0.8630120311024294,
          0.8156270907583649,
          1.2322455657986273,
          -0.602764091904276,
          0.7593070109974638,
          -0.13737280741819996,
          0.9268861474135707,
          -0.47144696669206315,
          0.32975438418228803,
          -0.4263656928818469,
          0.39879013985306394,
          0.26715924630359456,
          -0.6009049579592081,
          0.33480398219469215,
          0.07571236714478313,
          -0.03141931041327313,
          -0.5373815075970583,
          -1.0398221132233303,
          -0.08697988704335387,
          -0.18577932226124366,
          -0.9080502861789482,
          -0.59052613206545,
          0.7078245918265342,
          0.3878118997471551,
          0.45305613479846774,
          -0.06922736964211915,
          -0.8698818021527376,
          0.9112254814528552,
          0.4837797508687261,
          -0.01976023315764522,
          -0.08377118242048223,
          -1.1816446198297554,
          0.36342740863768985,
          0.20957807213269863,
          1.7637006504821149,
          0.8257818383294033,
          0.05872297146487702,
          -0.4876142833261418,
          -1.0866446498626836,
          -1.148031024469752,
          1.412058251025577,
          0.6610090865323459,
          -0.9441347618394139,
          -0.7278891394810023,
          -0.3400306783220126,
          1.802412834822166,
          0.691136628302283,
          0.6774765740746631,
          -1.7056840797949149,
          -0.5920755420280472,
          0.1466508116979306,
          -1.0097684397278714,
          1.7956345856029818,
          0.5772831388709687,
          -1.4478078735122313,
          -0.4913413247238414,
          -1.1570388396578724,
          0.8469598175194087,
          1.9787783848361615,
          0.3380052224566315,
          -0.8245708385218807,
          -0.08276589484894906,
          -0.7668111657880644,
          0.9511169462219894,
          -1.5174415485447055,
          -0.329762700293933,
          -0.6899158295613472,
          1.0650853747650617,
          -0.38038161467229187,
          -0.15484182545628078,
          -0.6441082062250186,
          0.1614722678565004,
          -0.5623070302255028,
          -1.1814358290895641,
          0.8450297547365644,
          -0.2383659923910974,
          0.541544533401848,
          -0.4441915140344044,
          -0.346087229627492,
          0.3904766376138492,
          -1.1007555331067138,
          -0.22773799879606202,
          -0.5174105078564712
         ],
         "yaxis": "y"
        },
        {
         "customdata": [
          [
           29,
           977.67,
           27,
           0.45,
           0.34,
           0.73,
           33.33,
           14.27,
           3.83,
           3.2
          ],
          [
           "29",
           "966",
           "39",
           ".452",
           ".342",
           ".849",
           "33.3",
           "16.8",
           "7.3",
           "2.1"
          ],
          [
           31,
           981,
           20,
           0.47,
           0.38,
           0.77,
           31.7,
           17,
           7.65,
           2.4
          ],
          [
           32.5,
           1147.5,
           44,
           0.48,
           0.34,
           0.81,
           35.3,
           18.6,
           6.1,
           8.15
          ],
          [
           "32",
           "1057",
           "43",
           ".402",
           ".294",
           ".772",
           "33.0",
           "19.1",
           "5.2",
           "2.8"
          ],
          [
           "32",
           "1133",
           "54",
           ".422",
           ".360",
           ".861",
           "35.4",
           "27.4",
           "3.9",
           "8.7"
          ]
         ],
         "hovertemplate": "predicted_fts_range=1500 < f_pts <= 2250<br>pca0=%{x}<br>pca1=%{y}<br>g=%{customdata[0]}<br>mp=%{customdata[1]}<br>stl=%{customdata[2]}<br>fg_pct=%{customdata[3]}<br>fg3_pct=%{customdata[4]}<br>ft_pct=%{customdata[5]}<br>mp_per_g=%{customdata[6]}<br>pts_per_g=%{customdata[7]}<br>trb_per_g=%{customdata[8]}<br>ast_per_g=%{customdata[9]}<extra></extra>",
         "legendgroup": "1500 < f_pts <= 2250",
         "marker": {
          "color": "#EF553B",
          "symbol": "circle"
         },
         "mode": "markers",
         "name": "1500 < f_pts <= 2250",
         "orientation": "v",
         "showlegend": true,
         "type": "scatter",
         "x": [
          -0.20540109441031593,
          -0.15310567561042737,
          -0.21980556557379763,
          -1.004338598907189,
          -0.5802086886743909,
          -0.9386535101870617
         ],
         "xaxis": "x",
         "y": [
          -0.5878392539895043,
          0.46351678405497804,
          -1.251257178603328,
          0.2993055050950395,
          0.49456449176890677,
          1.2180826683033374
         ],
         "yaxis": "y"
        },
        {
         "customdata": [
          [
           28.5,
           985,
           54,
           0.51,
           0.43,
           0.76,
           34.95,
           11,
           4.65,
           5.05
          ],
          [
           "30",
           "906",
           "23",
           ".541",
           ".275",
           ".681",
           "30.2",
           "12.9",
           "10.5",
           "0.5"
          ],
          [
           "34",
           "1116",
           "42",
           ".507",
           ".396",
           ".813",
           "32.8",
           "18.1",
           "4.1",
           "4.4"
          ],
          [
           "34",
           "1072",
           "52",
           ".405",
           ".307",
           ".700",
           "31.5",
           "16.1",
           "4.3",
           "2.3"
          ],
          [
           "36",
           "1069",
           "56",
           ".356",
           ".333",
           ".772",
           "29.7",
           "13.5",
           "3.7",
           "1.9"
          ],
          [
           "38",
           "1341",
           "34",
           ".454",
           ".308",
           ".665",
           "35.3",
           "22.6",
           "7.6",
           "4.3"
          ],
          [
           35.25,
           1069.75,
           33,
           0.5,
           0.43,
           0.8,
           30.68,
           12.85,
           4.75,
           2.45
          ],
          [
           "36",
           "1064",
           "53",
           ".479",
           ".246",
           ".736",
           "29.6",
           "16.7",
           "4.0",
           "4.6"
          ],
          [
           "38",
           "1218",
           "36",
           ".450",
           ".397",
           ".822",
           "32.1",
           "19.8",
           "2.5",
           "2.3"
          ],
          [
           "37",
           "1253",
           "43",
           ".415",
           ".402",
           ".876",
           "33.9",
           "14.5",
           "4.2",
           "1.4"
          ],
          [
           "36",
           "972",
           "69",
           ".437",
           ".284",
           ".706",
           "27.0",
           "8.3",
           "4.7",
           "3.5"
          ],
          [
           "31",
           "1069",
           "27",
           ".427",
           ".292",
           ".833",
           "34.5",
           "14.0",
           "4.3",
           "3.2"
          ],
          [
           "37",
           "1137",
           "28",
           ".461",
           ".381",
           ".703",
           "30.7",
           "13.5",
           "5.9",
           "1.6"
          ],
          [
           "37",
           "1207",
           "40",
           ".462",
           ".355",
           ".935",
           "32.6",
           "14.0",
           "4.5",
           "2.5"
          ],
          [
           "37",
           "1140",
           "15",
           ".492",
           ".423",
           ".835",
           "30.8",
           "15.6",
           "7.2",
           "0.9"
          ],
          [
           33.5,
           1057.5,
           27.5,
           0.47,
           0.41,
           0.71,
           31.75,
           12.15,
           4.9,
           1.85
          ],
          [
           "37",
           "1248",
           "61",
           ".485",
           ".404",
           ".817",
           "33.7",
           "14.4",
           "4.1",
           "5.1"
          ],
          [
           32.5,
           1036,
           26,
           0.46,
           0.39,
           0.74,
           31.9,
           12.05,
           4.95,
           3.05
          ],
          [
           "33",
           "1061",
           "19",
           ".566",
           ".000",
           ".564",
           "32.2",
           "13.4",
           "8.4",
           "0.8"
          ],
          [
           "35",
           "1172",
           "20",
           ".612",
           ".343",
           ".733",
           "33.5",
           "20.1",
           "11.6",
           "1.6"
          ]
         ],
         "hovertemplate": "predicted_fts_range=750 < f_pts <= 1500<br>pca0=%{x}<br>pca1=%{y}<br>g=%{customdata[0]}<br>mp=%{customdata[1]}<br>stl=%{customdata[2]}<br>fg_pct=%{customdata[3]}<br>fg3_pct=%{customdata[4]}<br>ft_pct=%{customdata[5]}<br>mp_per_g=%{customdata[6]}<br>pts_per_g=%{customdata[7]}<br>trb_per_g=%{customdata[8]}<br>ast_per_g=%{customdata[9]}<extra></extra>",
         "legendgroup": "750 < f_pts <= 1500",
         "marker": {
          "color": "#00cc96",
          "symbol": "circle"
         },
         "mode": "markers",
         "name": "750 < f_pts <= 1500",
         "orientation": "v",
         "showlegend": true,
         "type": "scatter",
         "x": [
          -0.24480277040566437,
          0.13111607818925336,
          -0.8563726105252123,
          -0.6520799812751548,
          -0.6387365544542114,
          -1.908855837438368,
          -0.6378878512584009,
          -0.6149179795099172,
          -1.333070688154945,
          -1.498067967823509,
          -0.18673825959525497,
          -0.6332003567680478,
          -0.9519262412394814,
          -1.2820632619460504,
          -0.9635839113552931,
          -0.5793879820697115,
          -1.4781064205007153,
          -0.47839341637758015,
          -0.5941756009748195,
          -1.1145208149784114
         ],
         "xaxis": "x",
         "y": [
          1.753411084791659,
          -0.7483629131205616,
          0.21341241803726888,
          1.2231896026035427,
          1.5773995583877614,
          -1.3057391381254095,
          -0.42109323619591105,
          1.3424189606645172,
          -0.6869487041463825,
          -0.19727861825325144,
          3.056005821834453,
          -0.9127056267862417,
          -1.1097563742550223,
          -0.2939678801054593,
          -2.266684493918633,
          -0.8515249622478838,
          1.4090380323539202,
          -0.8956295901376707,
          -1.6296868072027582,
          -1.9618240225803758
         ],
         "yaxis": "y"
        }
       ],
       "layout": {
        "legend": {
         "title": {
          "text": "predicted_fts_range"
         },
         "tracegroupgap": 0
        },
        "template": {
         "data": {
          "bar": [
           {
            "error_x": {
             "color": "#2a3f5f"
            },
            "error_y": {
             "color": "#2a3f5f"
            },
            "marker": {
             "line": {
              "color": "#E5ECF6",
              "width": 0.5
             },
             "pattern": {
              "fillmode": "overlay",
              "size": 10,
              "solidity": 0.2
             }
            },
            "type": "bar"
           }
          ],
          "barpolar": [
           {
            "marker": {
             "line": {
              "color": "#E5ECF6",
              "width": 0.5
             },
             "pattern": {
              "fillmode": "overlay",
              "size": 10,
              "solidity": 0.2
             }
            },
            "type": "barpolar"
           }
          ],
          "carpet": [
           {
            "aaxis": {
             "endlinecolor": "#2a3f5f",
             "gridcolor": "white",
             "linecolor": "white",
             "minorgridcolor": "white",
             "startlinecolor": "#2a3f5f"
            },
            "baxis": {
             "endlinecolor": "#2a3f5f",
             "gridcolor": "white",
             "linecolor": "white",
             "minorgridcolor": "white",
             "startlinecolor": "#2a3f5f"
            },
            "type": "carpet"
           }
          ],
          "choropleth": [
           {
            "colorbar": {
             "outlinewidth": 0,
             "ticks": ""
            },
            "type": "choropleth"
           }
          ],
          "contour": [
           {
            "colorbar": {
             "outlinewidth": 0,
             "ticks": ""
            },
            "colorscale": [
             [
              0,
              "#0d0887"
             ],
             [
              0.1111111111111111,
              "#46039f"
             ],
             [
              0.2222222222222222,
              "#7201a8"
             ],
             [
              0.3333333333333333,
              "#9c179e"
             ],
             [
              0.4444444444444444,
              "#bd3786"
             ],
             [
              0.5555555555555556,
              "#d8576b"
             ],
             [
              0.6666666666666666,
              "#ed7953"
             ],
             [
              0.7777777777777778,
              "#fb9f3a"
             ],
             [
              0.8888888888888888,
              "#fdca26"
             ],
             [
              1,
              "#f0f921"
             ]
            ],
            "type": "contour"
           }
          ],
          "contourcarpet": [
           {
            "colorbar": {
             "outlinewidth": 0,
             "ticks": ""
            },
            "type": "contourcarpet"
           }
          ],
          "heatmap": [
           {
            "colorbar": {
             "outlinewidth": 0,
             "ticks": ""
            },
            "colorscale": [
             [
              0,
              "#0d0887"
             ],
             [
              0.1111111111111111,
              "#46039f"
             ],
             [
              0.2222222222222222,
              "#7201a8"
             ],
             [
              0.3333333333333333,
              "#9c179e"
             ],
             [
              0.4444444444444444,
              "#bd3786"
             ],
             [
              0.5555555555555556,
              "#d8576b"
             ],
             [
              0.6666666666666666,
              "#ed7953"
             ],
             [
              0.7777777777777778,
              "#fb9f3a"
             ],
             [
              0.8888888888888888,
              "#fdca26"
             ],
             [
              1,
              "#f0f921"
             ]
            ],
            "type": "heatmap"
           }
          ],
          "heatmapgl": [
           {
            "colorbar": {
             "outlinewidth": 0,
             "ticks": ""
            },
            "colorscale": [
             [
              0,
              "#0d0887"
             ],
             [
              0.1111111111111111,
              "#46039f"
             ],
             [
              0.2222222222222222,
              "#7201a8"
             ],
             [
              0.3333333333333333,
              "#9c179e"
             ],
             [
              0.4444444444444444,
              "#bd3786"
             ],
             [
              0.5555555555555556,
              "#d8576b"
             ],
             [
              0.6666666666666666,
              "#ed7953"
             ],
             [
              0.7777777777777778,
              "#fb9f3a"
             ],
             [
              0.8888888888888888,
              "#fdca26"
             ],
             [
              1,
              "#f0f921"
             ]
            ],
            "type": "heatmapgl"
           }
          ],
          "histogram": [
           {
            "marker": {
             "pattern": {
              "fillmode": "overlay",
              "size": 10,
              "solidity": 0.2
             }
            },
            "type": "histogram"
           }
          ],
          "histogram2d": [
           {
            "colorbar": {
             "outlinewidth": 0,
             "ticks": ""
            },
            "colorscale": [
             [
              0,
              "#0d0887"
             ],
             [
              0.1111111111111111,
              "#46039f"
             ],
             [
              0.2222222222222222,
              "#7201a8"
             ],
             [
              0.3333333333333333,
              "#9c179e"
             ],
             [
              0.4444444444444444,
              "#bd3786"
             ],
             [
              0.5555555555555556,
              "#d8576b"
             ],
             [
              0.6666666666666666,
              "#ed7953"
             ],
             [
              0.7777777777777778,
              "#fb9f3a"
             ],
             [
              0.8888888888888888,
              "#fdca26"
             ],
             [
              1,
              "#f0f921"
             ]
            ],
            "type": "histogram2d"
           }
          ],
          "histogram2dcontour": [
           {
            "colorbar": {
             "outlinewidth": 0,
             "ticks": ""
            },
            "colorscale": [
             [
              0,
              "#0d0887"
             ],
             [
              0.1111111111111111,
              "#46039f"
             ],
             [
              0.2222222222222222,
              "#7201a8"
             ],
             [
              0.3333333333333333,
              "#9c179e"
             ],
             [
              0.4444444444444444,
              "#bd3786"
             ],
             [
              0.5555555555555556,
              "#d8576b"
             ],
             [
              0.6666666666666666,
              "#ed7953"
             ],
             [
              0.7777777777777778,
              "#fb9f3a"
             ],
             [
              0.8888888888888888,
              "#fdca26"
             ],
             [
              1,
              "#f0f921"
             ]
            ],
            "type": "histogram2dcontour"
           }
          ],
          "mesh3d": [
           {
            "colorbar": {
             "outlinewidth": 0,
             "ticks": ""
            },
            "type": "mesh3d"
           }
          ],
          "parcoords": [
           {
            "line": {
             "colorbar": {
              "outlinewidth": 0,
              "ticks": ""
             }
            },
            "type": "parcoords"
           }
          ],
          "pie": [
           {
            "automargin": true,
            "type": "pie"
           }
          ],
          "scatter": [
           {
            "marker": {
             "colorbar": {
              "outlinewidth": 0,
              "ticks": ""
             }
            },
            "type": "scatter"
           }
          ],
          "scatter3d": [
           {
            "line": {
             "colorbar": {
              "outlinewidth": 0,
              "ticks": ""
             }
            },
            "marker": {
             "colorbar": {
              "outlinewidth": 0,
              "ticks": ""
             }
            },
            "type": "scatter3d"
           }
          ],
          "scattercarpet": [
           {
            "marker": {
             "colorbar": {
              "outlinewidth": 0,
              "ticks": ""
             }
            },
            "type": "scattercarpet"
           }
          ],
          "scattergeo": [
           {
            "marker": {
             "colorbar": {
              "outlinewidth": 0,
              "ticks": ""
             }
            },
            "type": "scattergeo"
           }
          ],
          "scattergl": [
           {
            "marker": {
             "colorbar": {
              "outlinewidth": 0,
              "ticks": ""
             }
            },
            "type": "scattergl"
           }
          ],
          "scattermapbox": [
           {
            "marker": {
             "colorbar": {
              "outlinewidth": 0,
              "ticks": ""
             }
            },
            "type": "scattermapbox"
           }
          ],
          "scatterpolar": [
           {
            "marker": {
             "colorbar": {
              "outlinewidth": 0,
              "ticks": ""
             }
            },
            "type": "scatterpolar"
           }
          ],
          "scatterpolargl": [
           {
            "marker": {
             "colorbar": {
              "outlinewidth": 0,
              "ticks": ""
             }
            },
            "type": "scatterpolargl"
           }
          ],
          "scatterternary": [
           {
            "marker": {
             "colorbar": {
              "outlinewidth": 0,
              "ticks": ""
             }
            },
            "type": "scatterternary"
           }
          ],
          "surface": [
           {
            "colorbar": {
             "outlinewidth": 0,
             "ticks": ""
            },
            "colorscale": [
             [
              0,
              "#0d0887"
             ],
             [
              0.1111111111111111,
              "#46039f"
             ],
             [
              0.2222222222222222,
              "#7201a8"
             ],
             [
              0.3333333333333333,
              "#9c179e"
             ],
             [
              0.4444444444444444,
              "#bd3786"
             ],
             [
              0.5555555555555556,
              "#d8576b"
             ],
             [
              0.6666666666666666,
              "#ed7953"
             ],
             [
              0.7777777777777778,
              "#fb9f3a"
             ],
             [
              0.8888888888888888,
              "#fdca26"
             ],
             [
              1,
              "#f0f921"
             ]
            ],
            "type": "surface"
           }
          ],
          "table": [
           {
            "cells": {
             "fill": {
              "color": "#EBF0F8"
             },
             "line": {
              "color": "white"
             }
            },
            "header": {
             "fill": {
              "color": "#C8D4E3"
             },
             "line": {
              "color": "white"
             }
            },
            "type": "table"
           }
          ]
         },
         "layout": {
          "annotationdefaults": {
           "arrowcolor": "#2a3f5f",
           "arrowhead": 0,
           "arrowwidth": 1
          },
          "autotypenumbers": "strict",
          "coloraxis": {
           "colorbar": {
            "outlinewidth": 0,
            "ticks": ""
           }
          },
          "colorscale": {
           "diverging": [
            [
             0,
             "#8e0152"
            ],
            [
             0.1,
             "#c51b7d"
            ],
            [
             0.2,
             "#de77ae"
            ],
            [
             0.3,
             "#f1b6da"
            ],
            [
             0.4,
             "#fde0ef"
            ],
            [
             0.5,
             "#f7f7f7"
            ],
            [
             0.6,
             "#e6f5d0"
            ],
            [
             0.7,
             "#b8e186"
            ],
            [
             0.8,
             "#7fbc41"
            ],
            [
             0.9,
             "#4d9221"
            ],
            [
             1,
             "#276419"
            ]
           ],
           "sequential": [
            [
             0,
             "#0d0887"
            ],
            [
             0.1111111111111111,
             "#46039f"
            ],
            [
             0.2222222222222222,
             "#7201a8"
            ],
            [
             0.3333333333333333,
             "#9c179e"
            ],
            [
             0.4444444444444444,
             "#bd3786"
            ],
            [
             0.5555555555555556,
             "#d8576b"
            ],
            [
             0.6666666666666666,
             "#ed7953"
            ],
            [
             0.7777777777777778,
             "#fb9f3a"
            ],
            [
             0.8888888888888888,
             "#fdca26"
            ],
            [
             1,
             "#f0f921"
            ]
           ],
           "sequentialminus": [
            [
             0,
             "#0d0887"
            ],
            [
             0.1111111111111111,
             "#46039f"
            ],
            [
             0.2222222222222222,
             "#7201a8"
            ],
            [
             0.3333333333333333,
             "#9c179e"
            ],
            [
             0.4444444444444444,
             "#bd3786"
            ],
            [
             0.5555555555555556,
             "#d8576b"
            ],
            [
             0.6666666666666666,
             "#ed7953"
            ],
            [
             0.7777777777777778,
             "#fb9f3a"
            ],
            [
             0.8888888888888888,
             "#fdca26"
            ],
            [
             1,
             "#f0f921"
            ]
           ]
          },
          "colorway": [
           "#636efa",
           "#EF553B",
           "#00cc96",
           "#ab63fa",
           "#FFA15A",
           "#19d3f3",
           "#FF6692",
           "#B6E880",
           "#FF97FF",
           "#FECB52"
          ],
          "font": {
           "color": "#2a3f5f"
          },
          "geo": {
           "bgcolor": "white",
           "lakecolor": "white",
           "landcolor": "#E5ECF6",
           "showlakes": true,
           "showland": true,
           "subunitcolor": "white"
          },
          "hoverlabel": {
           "align": "left"
          },
          "hovermode": "closest",
          "mapbox": {
           "style": "light"
          },
          "paper_bgcolor": "white",
          "plot_bgcolor": "#E5ECF6",
          "polar": {
           "angularaxis": {
            "gridcolor": "white",
            "linecolor": "white",
            "ticks": ""
           },
           "bgcolor": "#E5ECF6",
           "radialaxis": {
            "gridcolor": "white",
            "linecolor": "white",
            "ticks": ""
           }
          },
          "scene": {
           "xaxis": {
            "backgroundcolor": "#E5ECF6",
            "gridcolor": "white",
            "gridwidth": 2,
            "linecolor": "white",
            "showbackground": true,
            "ticks": "",
            "zerolinecolor": "white"
           },
           "yaxis": {
            "backgroundcolor": "#E5ECF6",
            "gridcolor": "white",
            "gridwidth": 2,
            "linecolor": "white",
            "showbackground": true,
            "ticks": "",
            "zerolinecolor": "white"
           },
           "zaxis": {
            "backgroundcolor": "#E5ECF6",
            "gridcolor": "white",
            "gridwidth": 2,
            "linecolor": "white",
            "showbackground": true,
            "ticks": "",
            "zerolinecolor": "white"
           }
          },
          "shapedefaults": {
           "line": {
            "color": "#2a3f5f"
           }
          },
          "ternary": {
           "aaxis": {
            "gridcolor": "white",
            "linecolor": "white",
            "ticks": ""
           },
           "baxis": {
            "gridcolor": "white",
            "linecolor": "white",
            "ticks": ""
           },
           "bgcolor": "#E5ECF6",
           "caxis": {
            "gridcolor": "white",
            "linecolor": "white",
            "ticks": ""
           }
          },
          "title": {
           "x": 0.05
          },
          "xaxis": {
           "automargin": true,
           "gridcolor": "white",
           "linecolor": "white",
           "ticks": "",
           "title": {
            "standoff": 15
           },
           "zerolinecolor": "white",
           "zerolinewidth": 2
          },
          "yaxis": {
           "automargin": true,
           "gridcolor": "white",
           "linecolor": "white",
           "ticks": "",
           "title": {
            "standoff": 15
           },
           "zerolinecolor": "white",
           "zerolinewidth": 2
          }
         }
        },
        "title": {
         "text": "PCA Visualization with Predicted Value"
        },
        "xaxis": {
         "anchor": "y",
         "domain": [
          0,
          1
         ],
         "title": {
          "text": "pca0"
         }
        },
        "yaxis": {
         "anchor": "x",
         "domain": [
          0,
          1
         ],
         "title": {
          "text": "pca1"
         }
        }
       }
      },
      "text/html": [
       "<div>                            <div id=\"7e5b083b-8527-43e3-b4ea-76d0b7a06ea6\" class=\"plotly-graph-div\" style=\"height:525px; width:100%;\"></div>            <script type=\"text/javascript\">                require([\"plotly\"], function(Plotly) {                    window.PLOTLYENV=window.PLOTLYENV || {};                                    if (document.getElementById(\"7e5b083b-8527-43e3-b4ea-76d0b7a06ea6\")) {                    Plotly.newPlot(                        \"7e5b083b-8527-43e3-b4ea-76d0b7a06ea6\",                        [{\"customdata\":[[\"31\",\"943\",\"34\",\".493\",\".325\",\".599\",\"30.4\",\"15.8\",\"10.8\",\"1.0\"],[37.5,763.0,20.5,0.42,0.36,0.62,20.4,5.7,5.1,0.65],[33.0,1107.5,56.0,0.48,0.34,0.81,33.65,15.2,3.9,3.75],[31.25,830.25,16.75,0.56,0.26,0.72,26.52,17.1,7.7,2.15],[29.25,677.5,15.5,0.37,0.22,0.62,22.78,7.28,4.22,1.0],[30.33,932.67,31.0,0.4,0.33,0.75,29.97,13.5,3.83,2.07],[33.0,1206.5,36.5,0.42,0.35,0.82,36.5,18.45,5.75,2.45],[32.0,963.25,30.5,0.45,0.44,0.89,30.05,21.6,3.22,3.08],[34.25,868.5,56.0,0.47,0.21,0.74,25.45,8.43,4.12,3.35],[31.67,955.67,34.67,0.45,0.38,0.7,29.77,13.03,6.43,1.07],[35.33,1027.0,24.67,0.43,0.44,0.79,28.8,12.33,2.93,1.63],[33.5,698.75,15.75,0.54,0.23,0.69,21.05,7.58,4.2,0.3],[36.0,1018.0,28.5,0.52,0.33,0.63,28.35,13.0,6.6,1.65],[\"35\",\"952\",\"45\",\".406\",\".308\",\".625\",\"27.2\",\"11.8\",\"4.9\",\"2.3\"],[32.0,925.0,18.0,0.52,0.32,0.7,29.0,13.6,8.65,0.85],[33.0,1079.5,81.5,0.42,0.34,0.81,32.7,15.6,3.1,5.9],[32.5,990.75,53.25,0.44,0.35,0.84,30.38,12.42,3.62,2.95],[32.5,1023.0,40.5,0.43,0.36,0.82,31.6,17.8,4.7,3.1],[36.0,919.5,46.0,0.48,0.39,0.7,25.35,9.75,6.3,1.5],[33.33,726.67,21.67,0.42,0.39,0.75,21.0,9.03,4.1,0.57],[21.75,508.25,10.25,0.71,0.0,0.39,21.15,11.27,7.18,0.6],[\"31\",\"943\",\"27\",\".435\",\".386\",\".785\",\"30.4\",\"13.5\",\"5.5\",\"1.3\"],[34.75,999.25,31.25,0.46,0.43,0.84,28.75,14.18,2.68,6.38],[30.0,981.5,44.0,0.39,0.38,0.82,33.1,15.4,3.45,1.7],[36.0,1213.5,52.75,0.43,0.38,0.79,33.88,13.82,3.85,4.62],[\"30\",\"926\",\"46\",\".424\",\".361\",\".780\",\"30.9\",\"12.0\",\"4.6\",\"2.6\"],[29.0,918.67,24.67,0.43,0.36,0.78,31.67,15.03,6.2,3.3],[30.5,881.5,38.75,0.49,0.27,0.65,26.85,8.88,4.3,3.28],[27.0,685.0,20.6,0.43,0.39,0.76,23.72,10.1,3.58,1.6],[31.5,608.0,30.0,0.46,0.42,0.71,19.75,8.6,3.3,1.1],[\"37\",\"997\",\"30\",\".561\",\".413\",\".738\",\"26.9\",\"13.5\",\"9.1\",\"2.0\"],[\"22\",\"768\",\"29\",\".380\",\".348\",\".750\",\"34.9\",\"18.5\",\"5.7\",\"4.0\"],[\"35\",\"764\",\"21\",\".513\",\".396\",\".797\",\"21.8\",\"10.9\",\"5.8\",\"1.1\"],[\"5\",\"139\",\"4\",\".537\",\".478\",\".750\",\"27.8\",\"16.2\",\"3.8\",\"2.6\"],[\"35\",\"999\",\"38\",\".423\",\".353\",\".800\",\"28.5\",\"16.1\",\"3.5\",\"4.1\"],[33.5,836.0,21.5,0.39,0.39,0.88,25.75,10.65,3.0,1.55],[\"21\",\"464\",\"17\",\".471\",\".412\",\".522\",\"22.1\",\"9.5\",\"4.0\",\"1.4\"],[37.5,850.0,30.0,0.43,0.37,0.83,22.8,9.45,2.2,1.4],[\"32\",\"888\",\"30\",\".415\",\".346\",\".738\",\"27.8\",\"11.5\",\"2.6\",\"1.9\"],[32.75,1090.0,32.25,0.47,0.43,0.88,33.1,16.58,3.6,3.63],[33.75,1087.75,26.75,0.43,0.29,0.74,32.22,16.42,6.5,1.98],[32.5,810.5,26.5,0.48,0.35,0.61,25.3,8.45,5.3,1.0],[34.0,670.67,20.0,0.56,0.3,0.69,18.5,11.3,4.2,0.73],[34.25,1014.25,25.25,0.48,0.32,0.76,29.7,12.55,5.18,1.48],[32.0,927.0,25.5,0.65,0.46,0.71,29.05,17.2,6.55,2.0],[32.0,1030.0,44.5,0.42,0.38,0.74,32.2,16.55,7.45,2.45],[36.0,1060.0,42.0,0.41,0.37,0.8,29.37,17.7,3.33,2.5],[27.0,547.0,22.0,0.53,0.45,0.73,19.9,9.22,4.5,1.42],[26.0,802.0,26.0,0.43,0.3,0.68,30.6,13.4,4.7,1.9],[31.5,1099.5,29.0,0.4,0.37,0.83,34.9,15.9,5.6,1.3],[35.0,925.0,42.33,0.44,0.39,0.81,26.2,9.5,2.97,3.63],[31.33,1044.0,42.0,0.42,0.37,0.81,33.3,14.37,3.6,4.1],[33.5,935.0,32.5,0.53,0.27,0.76,27.85,13.2,7.9,1.5],[34.75,989.75,33.75,0.4,0.35,0.71,28.58,13.6,4.53,1.87],[\"32\",\"1090\",\"25\",\".448\",\".272\",\".722\",\"34.1\",\"16.5\",\"5.4\",\"2.3\"],[35.33,1043.0,40.67,0.38,0.36,0.78,29.23,13.3,2.27,4.73],[32.5,1121.0,42.0,0.45,0.36,0.79,34.6,16.0,3.7,4.05],[32.5,1129.0,60.0,0.42,0.31,0.76,34.8,12.8,4.0,5.85],[37.5,1106.0,49.0,0.46,0.34,0.68,29.45,14.85,5.6,2.75],[32.33,773.0,26.67,0.47,0.31,0.72,23.47,7.87,5.37,1.43],[32.5,748.0,19.5,0.45,0.32,0.58,23.15,8.45,6.25,1.0],[35.5,945.5,20.5,0.5,0.41,0.77,26.2,12.2,4.3,1.55],[\"37\",\"1096\",\"26\",\".462\",\".392\",\".773\",\"29.6\",\"14.8\",\"5.4\",\"0.8\"],[\"35\",\"1093\",\"55\",\".444\",\".291\",\".743\",\"31.2\",\"11.3\",\"6.2\",\"3.2\"],[\"27\",\"842\",\"36\",\".442\",\".426\",\".641\",\"31.2\",\"15.0\",\"4.0\",\"2.2\"],[\"36\",\"895\",\"20\",\".473\",\".395\",\".755\",\"24.9\",\"10.9\",\"2.5\",\"1.7\"],[32.5,888.0,22.5,0.5,0.3,0.74,27.5,13.55,8.65,1.45],[\"37\",\"918\",\"28\",\".428\",\".338\",\".616\",\"24.8\",\"10.0\",\"3.6\",\"1.2\"],[\"36\",\"1263\",\"66\",\".551\",\".412\",\".673\",\"35.1\",\"14.6\",\"6.0\",\"7.6\"],[\"29\",\"653\",\"29\",\".459\",\".320\",\".838\",\"22.5\",\"9.2\",\"4.0\",\"1.0\"],[\"31\",\"1010\",\"43\",\".441\",\".408\",\".891\",\"32.6\",\"14.6\",\"4.5\",\"3.2\"],[\"32\",\"1031\",\"17\",\".570\",\".250\",\".774\",\"32.2\",\"17.0\",\"8.8\",\"0.8\"],[\"29\",\"796\",\"20\",\".474\",\".360\",\".733\",\"27.4\",\"12.6\",\"4.9\",\"1.0\"],[\"9\",\"268\",\"7\",\".561\",\".520\",\".757\",\"29.8\",\"21.0\",\"9.6\",\"1.0\"],[\"32\",\"981\",\"23\",\".570\",\".294\",\".760\",\"30.7\",\"16.1\",\"8.6\",\"0.8\"],[\"35\",\"1077\",\"59\",\".513\",\".378\",\".566\",\"30.8\",\"16.3\",\"7.4\",\"3.0\"],[\"3\",\"53\",\"3\",\".333\",\".300\",\".778\",\"17.7\",\"10.0\",\"6.7\",\"0.3\"],[33.0,942.0,16.5,0.56,0.43,0.66,28.85,15.45,9.15,0.8],[34.67,1001.0,29.67,0.51,0.27,0.75,28.7,15.53,6.47,2.07],[\"33\",\"1118\",\"27\",\".614\",\".397\",\".627\",\"33.9\",\"21.0\",\"11.1\",\"1.5\"],[\"25\",\"892\",\"40\",\".476\",\".413\",\".649\",\"35.7\",\"23.2\",\"5.7\",\"5.9\"],[\"32\",\"1114\",\"62\",\".455\",\".359\",\".715\",\"34.8\",\"18.1\",\"4.6\",\"6.2\"],[28.0,664.0,25.5,0.6,0.0,0.61,23.35,7.45,6.7,0.4],[\"31\",\"963\",\"24\",\".405\",\".339\",\".763\",\"31.1\",\"13.0\",\"5.8\",\"2.1\"],[35.0,1173.0,41.0,0.48,0.4,0.79,33.45,16.1,4.65,2.9],[31.0,867.0,21.0,0.54,0.13,0.63,27.77,14.03,6.57,1.73],[33.5,1003.0,46.0,0.46,0.38,0.75,29.85,13.45,3.95,2.75],[35.0,636.0,3.33,0.62,0.0,0.72,18.8,7.7,5.17,0.2],[31.0,815.33,24.0,0.45,0.4,0.78,25.67,13.57,5.83,1.0],[35.5,1266.0,38.0,0.37,0.3,0.72,35.55,13.65,8.15,1.35],[31.0,720.33,36.33,0.53,0.31,0.7,22.83,10.33,7.43,0.97],[\"31\",\"772\",\"22\",\".577\",\".381\",\".670\",\"24.9\",\"17.8\",\"8.8\",\"1.0\"],[23.0,714.0,21.5,0.45,0.43,0.82,32.35,17.0,5.2,1.15],[\"34\",\"926\",\"25\",\".468\",\".333\",\".727\",\"27.2\",\"13.6\",\"7.2\",\"0.9\"],[\"14\",\"238\",\"6\",\".426\",\".000\",\".632\",\"17.0\",\"5.9\",\"7.9\",\"1.0\"],[\"33\",\"987\",\"28\",\".447\",\".336\",\".778\",\"29.9\",\"19.2\",\"3.8\",\"3.6\"],[\"31\",\"936\",\"19\",\".458\",\".226\",\".717\",\"30.2\",\"13.1\",\"7.6\",\"1.5\"],[30.5,1007.0,45.0,0.43,0.38,0.78,33.6,17.15,5.85,2.05],[33.0,1018.67,33.0,0.46,0.3,0.73,31.13,13.07,5.97,3.0],[32.0,983.67,40.33,0.47,0.33,0.72,30.77,13.97,3.27,3.7],[33.5,854.5,24.5,0.63,0.0,0.56,25.65,14.35,7.45,0.7],[\"28\",\"881\",\"26\",\".514\",\".286\",\".672\",\"31.5\",\"12.9\",\"4.4\",\"2.0\"],[\"28\",\"858\",\"34\",\".616\",\".250\",\".720\",\"30.6\",\"16.2\",\"8.6\",\"1.1\"],[32.0,846.0,16.5,0.59,0.32,0.76,26.2,11.95,8.55,1.35],[\"36\",\"656\",\"19\",\".478\",\".269\",\".770\",\"18.2\",\"9.8\",\"4.6\",\"0.7\"],[\"30\",\"1097\",\"33\",\".491\",\".411\",\".777\",\"36.6\",\"20.3\",\"6.7\",\"1.8\"]],\"hovertemplate\":\"predicted_fts_range=0 < f_pts <= 750<br>pca0=%{x}<br>pca1=%{y}<br>g=%{customdata[0]}<br>mp=%{customdata[1]}<br>stl=%{customdata[2]}<br>fg_pct=%{customdata[3]}<br>fg3_pct=%{customdata[4]}<br>ft_pct=%{customdata[5]}<br>mp_per_g=%{customdata[6]}<br>pts_per_g=%{customdata[7]}<br>trb_per_g=%{customdata[8]}<br>ast_per_g=%{customdata[9]}<extra></extra>\",\"legendgroup\":\"0 < f_pts <= 750\",\"marker\":{\"color\":\"#636efa\",\"symbol\":\"circle\"},\"mode\":\"markers\",\"name\":\"0 < f_pts <= 750\",\"orientation\":\"v\",\"showlegend\":true,\"x\":[-0.044391637100147215,0.8013210817994741,-0.819083632943213,0.4868785024206804,1.2030187885904546,0.004679374416646833,-1.279153339147409,-0.1388560719514246,0.3005029627445201,-0.10375091936777758,-0.4360255143133934,1.1032390595188097,-0.3946623895781414,-0.08860997075189611,0.04299020698661642,-0.692808924088525,-0.2716178485765933,-0.42047053150550157,0.0634830218911086,0.9713794382236257,1.9969852812676518,-0.04299912952701891,-0.3074548590327556,-0.22663594653972982,-1.3149368089403826,0.03307632601485703,0.07133449355076237,0.24312752436429286,1.1669626041416217,1.5255970556636016,-0.29663997419424476,0.7760938921726314,0.7964676842796612,3.7275226641676653,-0.30759668216939223,0.4591562430198393,2.2028975852109425,0.3919159028411612,0.21406705956070182,-0.7326574675914079,-0.7210701488490733,0.5778040014738778,1.2338871190597092,-0.37641955723859943,0.032048950528358655,-0.4539324263352118,-0.5941003512901161,1.8130386699093182,0.6176804231878217,-0.7764695085851177,0.03842389660844204,-0.5189738269061612,-0.006610632224518443,-0.26334313914868684,-0.7312653966904957,-0.5140711636180313,-0.879695392262697,-0.9204733291416324,-0.810797660998821,0.7534874592647018,0.8718707431314288,-0.05352412956773286,-0.7595695016085695,-0.7508543663217173,0.42833722533779867,0.18306910640382143,0.21540611390954342,0.07384828767939017,-1.5493296248459245,1.3151296422820664,-0.35990891633292577,-0.45340172823761066,0.6469157770425074,3.1224176743520617,-0.2203264497036024,-0.6768600067283573,4.131518135972492,-0.036454250212776276,-0.3153087533708733,-0.862936835169264,0.1929983565397421,-0.8507883659731379,1.2644050043885984,-0.13610401130362934,-1.1230557038815057,0.3140855885081986,-0.3276779984598328,1.3993692793188468,0.5555852064628707,-1.5579264281166605,0.9983133348270442,0.7587099234130676,1.0305029452095587,0.0369356519870972,3.2641131092446893,-0.24956115819378227,-0.008686665934457116,-0.3463461366507933,-0.3986126086176329,-0.2360865195458924,0.3718793983062723,0.24762691498730927,0.35375260172472456,0.41335800588182736,1.3026483093073835,-0.7656837078884745],\"xaxis\":\"x\",\"y\":[0.07104629846768007,-0.46507415527348983,1.4686606613746973,-1.0220889228797065,-0.5652743180125553,-0.10052444894779347,-0.5918578259227418,-0.26368735480277267,2.2915560290266144,0.11306588885846237,-0.994164608996648,-0.6404390229353327,-0.6554254470730173,1.0266600895245288,-1.2472309018459993,3.7985911819406506,1.634044944959128,0.39881163305529377,1.2109340700433613,-0.2237542377921609,-0.4385731178309798,-0.5000275155046189,-0.29558248485945804,0.8630120311024294,0.8156270907583649,1.2322455657986273,-0.602764091904276,0.7593070109974638,-0.13737280741819996,0.9268861474135707,-0.47144696669206315,0.32975438418228803,-0.4263656928818469,0.39879013985306394,0.26715924630359456,-0.6009049579592081,0.33480398219469215,0.07571236714478313,-0.03141931041327313,-0.5373815075970583,-1.0398221132233303,-0.08697988704335387,-0.18577932226124366,-0.9080502861789482,-0.59052613206545,0.7078245918265342,0.3878118997471551,0.45305613479846774,-0.06922736964211915,-0.8698818021527376,0.9112254814528552,0.4837797508687261,-0.01976023315764522,-0.08377118242048223,-1.1816446198297554,0.36342740863768985,0.20957807213269863,1.7637006504821149,0.8257818383294033,0.05872297146487702,-0.4876142833261418,-1.0866446498626836,-1.148031024469752,1.412058251025577,0.6610090865323459,-0.9441347618394139,-0.7278891394810023,-0.3400306783220126,1.802412834822166,0.691136628302283,0.6774765740746631,-1.7056840797949149,-0.5920755420280472,0.1466508116979306,-1.0097684397278714,1.7956345856029818,0.5772831388709687,-1.4478078735122313,-0.4913413247238414,-1.1570388396578724,0.8469598175194087,1.9787783848361615,0.3380052224566315,-0.8245708385218807,-0.08276589484894906,-0.7668111657880644,0.9511169462219894,-1.5174415485447055,-0.329762700293933,-0.6899158295613472,1.0650853747650617,-0.38038161467229187,-0.15484182545628078,-0.6441082062250186,0.1614722678565004,-0.5623070302255028,-1.1814358290895641,0.8450297547365644,-0.2383659923910974,0.541544533401848,-0.4441915140344044,-0.346087229627492,0.3904766376138492,-1.1007555331067138,-0.22773799879606202,-0.5174105078564712],\"yaxis\":\"y\",\"type\":\"scatter\"},{\"customdata\":[[29.0,977.67,27.0,0.45,0.34,0.73,33.33,14.27,3.83,3.2],[\"29\",\"966\",\"39\",\".452\",\".342\",\".849\",\"33.3\",\"16.8\",\"7.3\",\"2.1\"],[31.0,981.0,20.0,0.47,0.38,0.77,31.7,17.0,7.65,2.4],[32.5,1147.5,44.0,0.48,0.34,0.81,35.3,18.6,6.1,8.15],[\"32\",\"1057\",\"43\",\".402\",\".294\",\".772\",\"33.0\",\"19.1\",\"5.2\",\"2.8\"],[\"32\",\"1133\",\"54\",\".422\",\".360\",\".861\",\"35.4\",\"27.4\",\"3.9\",\"8.7\"]],\"hovertemplate\":\"predicted_fts_range=1500 < f_pts <= 2250<br>pca0=%{x}<br>pca1=%{y}<br>g=%{customdata[0]}<br>mp=%{customdata[1]}<br>stl=%{customdata[2]}<br>fg_pct=%{customdata[3]}<br>fg3_pct=%{customdata[4]}<br>ft_pct=%{customdata[5]}<br>mp_per_g=%{customdata[6]}<br>pts_per_g=%{customdata[7]}<br>trb_per_g=%{customdata[8]}<br>ast_per_g=%{customdata[9]}<extra></extra>\",\"legendgroup\":\"1500 < f_pts <= 2250\",\"marker\":{\"color\":\"#EF553B\",\"symbol\":\"circle\"},\"mode\":\"markers\",\"name\":\"1500 < f_pts <= 2250\",\"orientation\":\"v\",\"showlegend\":true,\"x\":[-0.20540109441031593,-0.15310567561042737,-0.21980556557379763,-1.004338598907189,-0.5802086886743909,-0.9386535101870617],\"xaxis\":\"x\",\"y\":[-0.5878392539895043,0.46351678405497804,-1.251257178603328,0.2993055050950395,0.49456449176890677,1.2180826683033374],\"yaxis\":\"y\",\"type\":\"scatter\"},{\"customdata\":[[28.5,985.0,54.0,0.51,0.43,0.76,34.95,11.0,4.65,5.05],[\"30\",\"906\",\"23\",\".541\",\".275\",\".681\",\"30.2\",\"12.9\",\"10.5\",\"0.5\"],[\"34\",\"1116\",\"42\",\".507\",\".396\",\".813\",\"32.8\",\"18.1\",\"4.1\",\"4.4\"],[\"34\",\"1072\",\"52\",\".405\",\".307\",\".700\",\"31.5\",\"16.1\",\"4.3\",\"2.3\"],[\"36\",\"1069\",\"56\",\".356\",\".333\",\".772\",\"29.7\",\"13.5\",\"3.7\",\"1.9\"],[\"38\",\"1341\",\"34\",\".454\",\".308\",\".665\",\"35.3\",\"22.6\",\"7.6\",\"4.3\"],[35.25,1069.75,33.0,0.5,0.43,0.8,30.68,12.85,4.75,2.45],[\"36\",\"1064\",\"53\",\".479\",\".246\",\".736\",\"29.6\",\"16.7\",\"4.0\",\"4.6\"],[\"38\",\"1218\",\"36\",\".450\",\".397\",\".822\",\"32.1\",\"19.8\",\"2.5\",\"2.3\"],[\"37\",\"1253\",\"43\",\".415\",\".402\",\".876\",\"33.9\",\"14.5\",\"4.2\",\"1.4\"],[\"36\",\"972\",\"69\",\".437\",\".284\",\".706\",\"27.0\",\"8.3\",\"4.7\",\"3.5\"],[\"31\",\"1069\",\"27\",\".427\",\".292\",\".833\",\"34.5\",\"14.0\",\"4.3\",\"3.2\"],[\"37\",\"1137\",\"28\",\".461\",\".381\",\".703\",\"30.7\",\"13.5\",\"5.9\",\"1.6\"],[\"37\",\"1207\",\"40\",\".462\",\".355\",\".935\",\"32.6\",\"14.0\",\"4.5\",\"2.5\"],[\"37\",\"1140\",\"15\",\".492\",\".423\",\".835\",\"30.8\",\"15.6\",\"7.2\",\"0.9\"],[33.5,1057.5,27.5,0.47,0.41,0.71,31.75,12.15,4.9,1.85],[\"37\",\"1248\",\"61\",\".485\",\".404\",\".817\",\"33.7\",\"14.4\",\"4.1\",\"5.1\"],[32.5,1036.0,26.0,0.46,0.39,0.74,31.9,12.05,4.95,3.05],[\"33\",\"1061\",\"19\",\".566\",\".000\",\".564\",\"32.2\",\"13.4\",\"8.4\",\"0.8\"],[\"35\",\"1172\",\"20\",\".612\",\".343\",\".733\",\"33.5\",\"20.1\",\"11.6\",\"1.6\"]],\"hovertemplate\":\"predicted_fts_range=750 < f_pts <= 1500<br>pca0=%{x}<br>pca1=%{y}<br>g=%{customdata[0]}<br>mp=%{customdata[1]}<br>stl=%{customdata[2]}<br>fg_pct=%{customdata[3]}<br>fg3_pct=%{customdata[4]}<br>ft_pct=%{customdata[5]}<br>mp_per_g=%{customdata[6]}<br>pts_per_g=%{customdata[7]}<br>trb_per_g=%{customdata[8]}<br>ast_per_g=%{customdata[9]}<extra></extra>\",\"legendgroup\":\"750 < f_pts <= 1500\",\"marker\":{\"color\":\"#00cc96\",\"symbol\":\"circle\"},\"mode\":\"markers\",\"name\":\"750 < f_pts <= 1500\",\"orientation\":\"v\",\"showlegend\":true,\"x\":[-0.24480277040566437,0.13111607818925336,-0.8563726105252123,-0.6520799812751548,-0.6387365544542114,-1.908855837438368,-0.6378878512584009,-0.6149179795099172,-1.333070688154945,-1.498067967823509,-0.18673825959525497,-0.6332003567680478,-0.9519262412394814,-1.2820632619460504,-0.9635839113552931,-0.5793879820697115,-1.4781064205007153,-0.47839341637758015,-0.5941756009748195,-1.1145208149784114],\"xaxis\":\"x\",\"y\":[1.753411084791659,-0.7483629131205616,0.21341241803726888,1.2231896026035427,1.5773995583877614,-1.3057391381254095,-0.42109323619591105,1.3424189606645172,-0.6869487041463825,-0.19727861825325144,3.056005821834453,-0.9127056267862417,-1.1097563742550223,-0.2939678801054593,-2.266684493918633,-0.8515249622478838,1.4090380323539202,-0.8956295901376707,-1.6296868072027582,-1.9618240225803758],\"yaxis\":\"y\",\"type\":\"scatter\"}],                        {\"template\":{\"data\":{\"bar\":[{\"error_x\":{\"color\":\"#2a3f5f\"},\"error_y\":{\"color\":\"#2a3f5f\"},\"marker\":{\"line\":{\"color\":\"#E5ECF6\",\"width\":0.5},\"pattern\":{\"fillmode\":\"overlay\",\"size\":10,\"solidity\":0.2}},\"type\":\"bar\"}],\"barpolar\":[{\"marker\":{\"line\":{\"color\":\"#E5ECF6\",\"width\":0.5},\"pattern\":{\"fillmode\":\"overlay\",\"size\":10,\"solidity\":0.2}},\"type\":\"barpolar\"}],\"carpet\":[{\"aaxis\":{\"endlinecolor\":\"#2a3f5f\",\"gridcolor\":\"white\",\"linecolor\":\"white\",\"minorgridcolor\":\"white\",\"startlinecolor\":\"#2a3f5f\"},\"baxis\":{\"endlinecolor\":\"#2a3f5f\",\"gridcolor\":\"white\",\"linecolor\":\"white\",\"minorgridcolor\":\"white\",\"startlinecolor\":\"#2a3f5f\"},\"type\":\"carpet\"}],\"choropleth\":[{\"colorbar\":{\"outlinewidth\":0,\"ticks\":\"\"},\"type\":\"choropleth\"}],\"contour\":[{\"colorbar\":{\"outlinewidth\":0,\"ticks\":\"\"},\"colorscale\":[[0.0,\"#0d0887\"],[0.1111111111111111,\"#46039f\"],[0.2222222222222222,\"#7201a8\"],[0.3333333333333333,\"#9c179e\"],[0.4444444444444444,\"#bd3786\"],[0.5555555555555556,\"#d8576b\"],[0.6666666666666666,\"#ed7953\"],[0.7777777777777778,\"#fb9f3a\"],[0.8888888888888888,\"#fdca26\"],[1.0,\"#f0f921\"]],\"type\":\"contour\"}],\"contourcarpet\":[{\"colorbar\":{\"outlinewidth\":0,\"ticks\":\"\"},\"type\":\"contourcarpet\"}],\"heatmap\":[{\"colorbar\":{\"outlinewidth\":0,\"ticks\":\"\"},\"colorscale\":[[0.0,\"#0d0887\"],[0.1111111111111111,\"#46039f\"],[0.2222222222222222,\"#7201a8\"],[0.3333333333333333,\"#9c179e\"],[0.4444444444444444,\"#bd3786\"],[0.5555555555555556,\"#d8576b\"],[0.6666666666666666,\"#ed7953\"],[0.7777777777777778,\"#fb9f3a\"],[0.8888888888888888,\"#fdca26\"],[1.0,\"#f0f921\"]],\"type\":\"heatmap\"}],\"heatmapgl\":[{\"colorbar\":{\"outlinewidth\":0,\"ticks\":\"\"},\"colorscale\":[[0.0,\"#0d0887\"],[0.1111111111111111,\"#46039f\"],[0.2222222222222222,\"#7201a8\"],[0.3333333333333333,\"#9c179e\"],[0.4444444444444444,\"#bd3786\"],[0.5555555555555556,\"#d8576b\"],[0.6666666666666666,\"#ed7953\"],[0.7777777777777778,\"#fb9f3a\"],[0.8888888888888888,\"#fdca26\"],[1.0,\"#f0f921\"]],\"type\":\"heatmapgl\"}],\"histogram\":[{\"marker\":{\"pattern\":{\"fillmode\":\"overlay\",\"size\":10,\"solidity\":0.2}},\"type\":\"histogram\"}],\"histogram2d\":[{\"colorbar\":{\"outlinewidth\":0,\"ticks\":\"\"},\"colorscale\":[[0.0,\"#0d0887\"],[0.1111111111111111,\"#46039f\"],[0.2222222222222222,\"#7201a8\"],[0.3333333333333333,\"#9c179e\"],[0.4444444444444444,\"#bd3786\"],[0.5555555555555556,\"#d8576b\"],[0.6666666666666666,\"#ed7953\"],[0.7777777777777778,\"#fb9f3a\"],[0.8888888888888888,\"#fdca26\"],[1.0,\"#f0f921\"]],\"type\":\"histogram2d\"}],\"histogram2dcontour\":[{\"colorbar\":{\"outlinewidth\":0,\"ticks\":\"\"},\"colorscale\":[[0.0,\"#0d0887\"],[0.1111111111111111,\"#46039f\"],[0.2222222222222222,\"#7201a8\"],[0.3333333333333333,\"#9c179e\"],[0.4444444444444444,\"#bd3786\"],[0.5555555555555556,\"#d8576b\"],[0.6666666666666666,\"#ed7953\"],[0.7777777777777778,\"#fb9f3a\"],[0.8888888888888888,\"#fdca26\"],[1.0,\"#f0f921\"]],\"type\":\"histogram2dcontour\"}],\"mesh3d\":[{\"colorbar\":{\"outlinewidth\":0,\"ticks\":\"\"},\"type\":\"mesh3d\"}],\"parcoords\":[{\"line\":{\"colorbar\":{\"outlinewidth\":0,\"ticks\":\"\"}},\"type\":\"parcoords\"}],\"pie\":[{\"automargin\":true,\"type\":\"pie\"}],\"scatter\":[{\"marker\":{\"colorbar\":{\"outlinewidth\":0,\"ticks\":\"\"}},\"type\":\"scatter\"}],\"scatter3d\":[{\"line\":{\"colorbar\":{\"outlinewidth\":0,\"ticks\":\"\"}},\"marker\":{\"colorbar\":{\"outlinewidth\":0,\"ticks\":\"\"}},\"type\":\"scatter3d\"}],\"scattercarpet\":[{\"marker\":{\"colorbar\":{\"outlinewidth\":0,\"ticks\":\"\"}},\"type\":\"scattercarpet\"}],\"scattergeo\":[{\"marker\":{\"colorbar\":{\"outlinewidth\":0,\"ticks\":\"\"}},\"type\":\"scattergeo\"}],\"scattergl\":[{\"marker\":{\"colorbar\":{\"outlinewidth\":0,\"ticks\":\"\"}},\"type\":\"scattergl\"}],\"scattermapbox\":[{\"marker\":{\"colorbar\":{\"outlinewidth\":0,\"ticks\":\"\"}},\"type\":\"scattermapbox\"}],\"scatterpolar\":[{\"marker\":{\"colorbar\":{\"outlinewidth\":0,\"ticks\":\"\"}},\"type\":\"scatterpolar\"}],\"scatterpolargl\":[{\"marker\":{\"colorbar\":{\"outlinewidth\":0,\"ticks\":\"\"}},\"type\":\"scatterpolargl\"}],\"scatterternary\":[{\"marker\":{\"colorbar\":{\"outlinewidth\":0,\"ticks\":\"\"}},\"type\":\"scatterternary\"}],\"surface\":[{\"colorbar\":{\"outlinewidth\":0,\"ticks\":\"\"},\"colorscale\":[[0.0,\"#0d0887\"],[0.1111111111111111,\"#46039f\"],[0.2222222222222222,\"#7201a8\"],[0.3333333333333333,\"#9c179e\"],[0.4444444444444444,\"#bd3786\"],[0.5555555555555556,\"#d8576b\"],[0.6666666666666666,\"#ed7953\"],[0.7777777777777778,\"#fb9f3a\"],[0.8888888888888888,\"#fdca26\"],[1.0,\"#f0f921\"]],\"type\":\"surface\"}],\"table\":[{\"cells\":{\"fill\":{\"color\":\"#EBF0F8\"},\"line\":{\"color\":\"white\"}},\"header\":{\"fill\":{\"color\":\"#C8D4E3\"},\"line\":{\"color\":\"white\"}},\"type\":\"table\"}]},\"layout\":{\"annotationdefaults\":{\"arrowcolor\":\"#2a3f5f\",\"arrowhead\":0,\"arrowwidth\":1},\"autotypenumbers\":\"strict\",\"coloraxis\":{\"colorbar\":{\"outlinewidth\":0,\"ticks\":\"\"}},\"colorscale\":{\"diverging\":[[0,\"#8e0152\"],[0.1,\"#c51b7d\"],[0.2,\"#de77ae\"],[0.3,\"#f1b6da\"],[0.4,\"#fde0ef\"],[0.5,\"#f7f7f7\"],[0.6,\"#e6f5d0\"],[0.7,\"#b8e186\"],[0.8,\"#7fbc41\"],[0.9,\"#4d9221\"],[1,\"#276419\"]],\"sequential\":[[0.0,\"#0d0887\"],[0.1111111111111111,\"#46039f\"],[0.2222222222222222,\"#7201a8\"],[0.3333333333333333,\"#9c179e\"],[0.4444444444444444,\"#bd3786\"],[0.5555555555555556,\"#d8576b\"],[0.6666666666666666,\"#ed7953\"],[0.7777777777777778,\"#fb9f3a\"],[0.8888888888888888,\"#fdca26\"],[1.0,\"#f0f921\"]],\"sequentialminus\":[[0.0,\"#0d0887\"],[0.1111111111111111,\"#46039f\"],[0.2222222222222222,\"#7201a8\"],[0.3333333333333333,\"#9c179e\"],[0.4444444444444444,\"#bd3786\"],[0.5555555555555556,\"#d8576b\"],[0.6666666666666666,\"#ed7953\"],[0.7777777777777778,\"#fb9f3a\"],[0.8888888888888888,\"#fdca26\"],[1.0,\"#f0f921\"]]},\"colorway\":[\"#636efa\",\"#EF553B\",\"#00cc96\",\"#ab63fa\",\"#FFA15A\",\"#19d3f3\",\"#FF6692\",\"#B6E880\",\"#FF97FF\",\"#FECB52\"],\"font\":{\"color\":\"#2a3f5f\"},\"geo\":{\"bgcolor\":\"white\",\"lakecolor\":\"white\",\"landcolor\":\"#E5ECF6\",\"showlakes\":true,\"showland\":true,\"subunitcolor\":\"white\"},\"hoverlabel\":{\"align\":\"left\"},\"hovermode\":\"closest\",\"mapbox\":{\"style\":\"light\"},\"paper_bgcolor\":\"white\",\"plot_bgcolor\":\"#E5ECF6\",\"polar\":{\"angularaxis\":{\"gridcolor\":\"white\",\"linecolor\":\"white\",\"ticks\":\"\"},\"bgcolor\":\"#E5ECF6\",\"radialaxis\":{\"gridcolor\":\"white\",\"linecolor\":\"white\",\"ticks\":\"\"}},\"scene\":{\"xaxis\":{\"backgroundcolor\":\"#E5ECF6\",\"gridcolor\":\"white\",\"gridwidth\":2,\"linecolor\":\"white\",\"showbackground\":true,\"ticks\":\"\",\"zerolinecolor\":\"white\"},\"yaxis\":{\"backgroundcolor\":\"#E5ECF6\",\"gridcolor\":\"white\",\"gridwidth\":2,\"linecolor\":\"white\",\"showbackground\":true,\"ticks\":\"\",\"zerolinecolor\":\"white\"},\"zaxis\":{\"backgroundcolor\":\"#E5ECF6\",\"gridcolor\":\"white\",\"gridwidth\":2,\"linecolor\":\"white\",\"showbackground\":true,\"ticks\":\"\",\"zerolinecolor\":\"white\"}},\"shapedefaults\":{\"line\":{\"color\":\"#2a3f5f\"}},\"ternary\":{\"aaxis\":{\"gridcolor\":\"white\",\"linecolor\":\"white\",\"ticks\":\"\"},\"baxis\":{\"gridcolor\":\"white\",\"linecolor\":\"white\",\"ticks\":\"\"},\"bgcolor\":\"#E5ECF6\",\"caxis\":{\"gridcolor\":\"white\",\"linecolor\":\"white\",\"ticks\":\"\"}},\"title\":{\"x\":0.05},\"xaxis\":{\"automargin\":true,\"gridcolor\":\"white\",\"linecolor\":\"white\",\"ticks\":\"\",\"title\":{\"standoff\":15},\"zerolinecolor\":\"white\",\"zerolinewidth\":2},\"yaxis\":{\"automargin\":true,\"gridcolor\":\"white\",\"linecolor\":\"white\",\"ticks\":\"\",\"title\":{\"standoff\":15},\"zerolinecolor\":\"white\",\"zerolinewidth\":2}}},\"xaxis\":{\"anchor\":\"y\",\"domain\":[0.0,1.0],\"title\":{\"text\":\"pca0\"}},\"yaxis\":{\"anchor\":\"x\",\"domain\":[0.0,1.0],\"title\":{\"text\":\"pca1\"}},\"legend\":{\"title\":{\"text\":\"predicted_fts_range\"},\"tracegroupgap\":0},\"title\":{\"text\":\"PCA Visualization with Predicted Value\"}},                        {\"responsive\": true}                    ).then(function(){\n",
       "                            \n",
       "var gd = document.getElementById('7e5b083b-8527-43e3-b4ea-76d0b7a06ea6');\n",
       "var x = new MutationObserver(function (mutations, observer) {{\n",
       "        var display = window.getComputedStyle(gd).display;\n",
       "        if (!display || display === 'none') {{\n",
       "            console.log([gd, 'removed!']);\n",
       "            Plotly.purge(gd);\n",
       "            observer.disconnect();\n",
       "        }}\n",
       "}});\n",
       "\n",
       "// Listen for the removal of the full notebook cells\n",
       "var notebookContainer = gd.closest('#notebook-container');\n",
       "if (notebookContainer) {{\n",
       "    x.observe(notebookContainer, {childList: true});\n",
       "}}\n",
       "\n",
       "// Listen for the clearing of the current output cell\n",
       "var outputEl = gd.closest('.output');\n",
       "if (outputEl) {{\n",
       "    x.observe(outputEl, {childList: true});\n",
       "}}\n",
       "\n",
       "                        })                };                });            </script>        </div>"
      ]
     },
     "metadata": {},
     "output_type": "display_data"
    },
    {
     "data": {
      "application/vnd.plotly.v1+json": {
       "config": {
        "plotlyServerURL": "https://plot.ly"
       },
       "data": [
        {
         "customdata": [
          [
           "31",
           "943",
           "34",
           ".493",
           ".325",
           ".599",
           "30.4",
           "15.8",
           "10.8",
           "1.0"
          ],
          [
           "33",
           "1118",
           "27",
           ".614",
           ".397",
           ".627",
           "33.9",
           "21.0",
           "11.1",
           "1.5"
          ],
          [
           34.67,
           1001,
           29.67,
           0.51,
           0.27,
           0.75,
           28.7,
           15.53,
           6.47,
           2.07
          ],
          [
           33,
           942,
           16.5,
           0.56,
           0.43,
           0.66,
           28.85,
           15.45,
           9.15,
           0.8
          ],
          [
           "3",
           "53",
           "3",
           ".333",
           ".300",
           ".778",
           "17.7",
           "10.0",
           "6.7",
           "0.3"
          ],
          [
           "35",
           "1077",
           "59",
           ".513",
           ".378",
           ".566",
           "30.8",
           "16.3",
           "7.4",
           "3.0"
          ],
          [
           "32",
           "981",
           "23",
           ".570",
           ".294",
           ".760",
           "30.7",
           "16.1",
           "8.6",
           "0.8"
          ],
          [
           "9",
           "268",
           "7",
           ".561",
           ".520",
           ".757",
           "29.8",
           "21.0",
           "9.6",
           "1.0"
          ],
          [
           "29",
           "796",
           "20",
           ".474",
           ".360",
           ".733",
           "27.4",
           "12.6",
           "4.9",
           "1.0"
          ],
          [
           "32",
           "1031",
           "17",
           ".570",
           ".250",
           ".774",
           "32.2",
           "17.0",
           "8.8",
           "0.8"
          ],
          [
           "31",
           "1010",
           "43",
           ".441",
           ".408",
           ".891",
           "32.6",
           "14.6",
           "4.5",
           "3.2"
          ],
          [
           "29",
           "653",
           "29",
           ".459",
           ".320",
           ".838",
           "22.5",
           "9.2",
           "4.0",
           "1.0"
          ],
          [
           "36",
           "1263",
           "66",
           ".551",
           ".412",
           ".673",
           "35.1",
           "14.6",
           "6.0",
           "7.6"
          ],
          [
           "37",
           "918",
           "28",
           ".428",
           ".338",
           ".616",
           "24.8",
           "10.0",
           "3.6",
           "1.2"
          ],
          [
           32.5,
           888,
           22.5,
           0.5,
           0.3,
           0.74,
           27.5,
           13.55,
           8.65,
           1.45
          ],
          [
           "27",
           "842",
           "36",
           ".442",
           ".426",
           ".641",
           "31.2",
           "15.0",
           "4.0",
           "2.2"
          ],
          [
           "35",
           "1093",
           "55",
           ".444",
           ".291",
           ".743",
           "31.2",
           "11.3",
           "6.2",
           "3.2"
          ],
          [
           "37",
           "1096",
           "26",
           ".462",
           ".392",
           ".773",
           "29.6",
           "14.8",
           "5.4",
           "0.8"
          ],
          [
           35.5,
           945.5,
           20.5,
           0.5,
           0.41,
           0.77,
           26.2,
           12.2,
           4.3,
           1.55
          ],
          [
           32.5,
           748,
           19.5,
           0.45,
           0.32,
           0.58,
           23.15,
           8.45,
           6.25,
           1
          ],
          [
           32.33,
           773,
           26.67,
           0.47,
           0.31,
           0.72,
           23.47,
           7.87,
           5.37,
           1.43
          ],
          [
           37.5,
           1106,
           49,
           0.46,
           0.34,
           0.68,
           29.45,
           14.85,
           5.6,
           2.75
          ],
          [
           32.5,
           1129,
           60,
           0.42,
           0.31,
           0.76,
           34.8,
           12.8,
           4,
           5.85
          ],
          [
           32.5,
           1121,
           42,
           0.45,
           0.36,
           0.79,
           34.6,
           16,
           3.7,
           4.05
          ],
          [
           "25",
           "892",
           "40",
           ".476",
           ".413",
           ".649",
           "35.7",
           "23.2",
           "5.7",
           "5.9"
          ],
          [
           "32",
           "1114",
           "62",
           ".455",
           ".359",
           ".715",
           "34.8",
           "18.1",
           "4.6",
           "6.2"
          ],
          [
           28,
           664,
           25.5,
           0.6,
           0,
           0.61,
           23.35,
           7.45,
           6.7,
           0.4
          ],
          [
           "31",
           "963",
           "24",
           ".405",
           ".339",
           ".763",
           "31.1",
           "13.0",
           "5.8",
           "2.1"
          ],
          [
           "36",
           "1069",
           "56",
           ".356",
           ".333",
           ".772",
           "29.7",
           "13.5",
           "3.7",
           "1.9"
          ],
          [
           29,
           977.67,
           27,
           0.45,
           0.34,
           0.73,
           33.33,
           14.27,
           3.83,
           3.2
          ],
          [
           "30",
           "1097",
           "33",
           ".491",
           ".411",
           ".777",
           "36.6",
           "20.3",
           "6.7",
           "1.8"
          ],
          [
           "36",
           "656",
           "19",
           ".478",
           ".269",
           ".770",
           "18.2",
           "9.8",
           "4.6",
           "0.7"
          ],
          [
           32,
           846,
           16.5,
           0.59,
           0.32,
           0.76,
           26.2,
           11.95,
           8.55,
           1.35
          ],
          [
           "28",
           "858",
           "34",
           ".616",
           ".250",
           ".720",
           "30.6",
           "16.2",
           "8.6",
           "1.1"
          ],
          [
           "28",
           "881",
           "26",
           ".514",
           ".286",
           ".672",
           "31.5",
           "12.9",
           "4.4",
           "2.0"
          ],
          [
           33.5,
           854.5,
           24.5,
           0.63,
           0,
           0.56,
           25.65,
           14.35,
           7.45,
           0.7
          ],
          [
           32,
           983.67,
           40.33,
           0.47,
           0.33,
           0.72,
           30.77,
           13.97,
           3.27,
           3.7
          ],
          [
           33,
           1018.67,
           33,
           0.46,
           0.3,
           0.73,
           31.13,
           13.07,
           5.97,
           3
          ],
          [
           30.5,
           1007,
           45,
           0.43,
           0.38,
           0.78,
           33.6,
           17.15,
           5.85,
           2.05
          ],
          [
           35.33,
           1043,
           40.67,
           0.38,
           0.36,
           0.78,
           29.23,
           13.3,
           2.27,
           4.73
          ],
          [
           "31",
           "936",
           "19",
           ".458",
           ".226",
           ".717",
           "30.2",
           "13.1",
           "7.6",
           "1.5"
          ],
          [
           "14",
           "238",
           "6",
           ".426",
           ".000",
           ".632",
           "17.0",
           "5.9",
           "7.9",
           "1.0"
          ],
          [
           "34",
           "926",
           "25",
           ".468",
           ".333",
           ".727",
           "27.2",
           "13.6",
           "7.2",
           "0.9"
          ],
          [
           23,
           714,
           21.5,
           0.45,
           0.43,
           0.82,
           32.35,
           17,
           5.2,
           1.15
          ],
          [
           "31",
           "772",
           "22",
           ".577",
           ".381",
           ".670",
           "24.9",
           "17.8",
           "8.8",
           "1.0"
          ],
          [
           31,
           720.33,
           36.33,
           0.53,
           0.31,
           0.7,
           22.83,
           10.33,
           7.43,
           0.97
          ],
          [
           35.5,
           1266,
           38,
           0.37,
           0.3,
           0.72,
           35.55,
           13.65,
           8.15,
           1.35
          ],
          [
           31,
           815.33,
           24,
           0.45,
           0.4,
           0.78,
           25.67,
           13.57,
           5.83,
           1
          ],
          [
           35,
           636,
           3.33,
           0.62,
           0,
           0.72,
           18.8,
           7.7,
           5.17,
           0.2
          ],
          [
           33.5,
           1003,
           46,
           0.46,
           0.38,
           0.75,
           29.85,
           13.45,
           3.95,
           2.75
          ],
          [
           31,
           867,
           21,
           0.54,
           0.13,
           0.63,
           27.77,
           14.03,
           6.57,
           1.73
          ],
          [
           35,
           1173,
           41,
           0.48,
           0.4,
           0.79,
           33.45,
           16.1,
           4.65,
           2.9
          ],
          [
           "33",
           "987",
           "28",
           ".447",
           ".336",
           ".778",
           "29.9",
           "19.2",
           "3.8",
           "3.6"
          ],
          [
           "32",
           "1090",
           "25",
           ".448",
           ".272",
           ".722",
           "34.1",
           "16.5",
           "5.4",
           "2.3"
          ],
          [
           "36",
           "895",
           "20",
           ".473",
           ".395",
           ".755",
           "24.9",
           "10.9",
           "2.5",
           "1.7"
          ],
          [
           33.5,
           935,
           32.5,
           0.53,
           0.27,
           0.76,
           27.85,
           13.2,
           7.9,
           1.5
          ],
          [
           36,
           1213.5,
           52.75,
           0.43,
           0.38,
           0.79,
           33.88,
           13.82,
           3.85,
           4.62
          ],
          [
           30,
           981.5,
           44,
           0.39,
           0.38,
           0.82,
           33.1,
           15.4,
           3.45,
           1.7
          ],
          [
           34.75,
           999.25,
           31.25,
           0.46,
           0.43,
           0.84,
           28.75,
           14.18,
           2.68,
           6.38
          ],
          [
           "31",
           "943",
           "27",
           ".435",
           ".386",
           ".785",
           "30.4",
           "13.5",
           "5.5",
           "1.3"
          ],
          [
           21.75,
           508.25,
           10.25,
           0.71,
           0,
           0.39,
           21.15,
           11.27,
           7.18,
           0.6
          ],
          [
           33.33,
           726.67,
           21.67,
           0.42,
           0.39,
           0.75,
           21,
           9.03,
           4.1,
           0.57
          ],
          [
           36,
           919.5,
           46,
           0.48,
           0.39,
           0.7,
           25.35,
           9.75,
           6.3,
           1.5
          ],
          [
           32.5,
           1023,
           40.5,
           0.43,
           0.36,
           0.82,
           31.6,
           17.8,
           4.7,
           3.1
          ],
          [
           32.5,
           990.75,
           53.25,
           0.44,
           0.35,
           0.84,
           30.38,
           12.42,
           3.62,
           2.95
          ],
          [
           34.75,
           989.75,
           33.75,
           0.4,
           0.35,
           0.71,
           28.58,
           13.6,
           4.53,
           1.87
          ],
          [
           32,
           925,
           18,
           0.52,
           0.32,
           0.7,
           29,
           13.6,
           8.65,
           0.85
          ],
          [
           "30",
           "926",
           "46",
           ".424",
           ".361",
           ".780",
           "30.9",
           "12.0",
           "4.6",
           "2.6"
          ],
          [
           "35",
           "952",
           "45",
           ".406",
           ".308",
           ".625",
           "27.2",
           "11.8",
           "4.9",
           "2.3"
          ],
          [
           33.5,
           698.75,
           15.75,
           0.54,
           0.23,
           0.69,
           21.05,
           7.58,
           4.2,
           0.3
          ],
          [
           35.33,
           1027,
           24.67,
           0.43,
           0.44,
           0.79,
           28.8,
           12.33,
           2.93,
           1.63
          ],
          [
           31.67,
           955.67,
           34.67,
           0.45,
           0.38,
           0.7,
           29.77,
           13.03,
           6.43,
           1.07
          ],
          [
           34.25,
           868.5,
           56,
           0.47,
           0.21,
           0.74,
           25.45,
           8.43,
           4.12,
           3.35
          ],
          [
           32,
           963.25,
           30.5,
           0.45,
           0.44,
           0.89,
           30.05,
           21.6,
           3.22,
           3.08
          ],
          [
           33,
           1206.5,
           36.5,
           0.42,
           0.35,
           0.82,
           36.5,
           18.45,
           5.75,
           2.45
          ],
          [
           30.33,
           932.67,
           31,
           0.4,
           0.33,
           0.75,
           29.97,
           13.5,
           3.83,
           2.07
          ],
          [
           29.25,
           677.5,
           15.5,
           0.37,
           0.22,
           0.62,
           22.78,
           7.28,
           4.22,
           1
          ],
          [
           31.25,
           830.25,
           16.75,
           0.56,
           0.26,
           0.72,
           26.52,
           17.1,
           7.7,
           2.15
          ],
          [
           33,
           1107.5,
           56,
           0.48,
           0.34,
           0.81,
           33.65,
           15.2,
           3.9,
           3.75
          ],
          [
           37.5,
           763,
           20.5,
           0.42,
           0.36,
           0.62,
           20.4,
           5.7,
           5.1,
           0.65
          ],
          [
           36,
           1018,
           28.5,
           0.52,
           0.33,
           0.63,
           28.35,
           13,
           6.6,
           1.65
          ],
          [
           29,
           918.67,
           24.67,
           0.43,
           0.36,
           0.78,
           31.67,
           15.03,
           6.2,
           3.3
          ],
          [
           33,
           1079.5,
           81.5,
           0.42,
           0.34,
           0.81,
           32.7,
           15.6,
           3.1,
           5.9
          ],
          [
           31.33,
           1044,
           42,
           0.42,
           0.37,
           0.81,
           33.3,
           14.37,
           3.6,
           4.1
          ],
          [
           32,
           1030,
           44.5,
           0.42,
           0.38,
           0.74,
           32.2,
           16.55,
           7.45,
           2.45
          ],
          [
           34,
           670.67,
           20,
           0.56,
           0.3,
           0.69,
           18.5,
           11.3,
           4.2,
           0.73
          ],
          [
           32.5,
           810.5,
           26.5,
           0.48,
           0.35,
           0.61,
           25.3,
           8.45,
           5.3,
           1
          ],
          [
           33.75,
           1087.75,
           26.75,
           0.43,
           0.29,
           0.74,
           32.22,
           16.42,
           6.5,
           1.98
          ],
          [
           32.75,
           1090,
           32.25,
           0.47,
           0.43,
           0.88,
           33.1,
           16.58,
           3.6,
           3.63
          ],
          [
           36,
           1060,
           42,
           0.41,
           0.37,
           0.8,
           29.37,
           17.7,
           3.33,
           2.5
          ],
          [
           27,
           547,
           22,
           0.53,
           0.45,
           0.73,
           19.9,
           9.22,
           4.5,
           1.42
          ],
          [
           26,
           802,
           26,
           0.43,
           0.3,
           0.68,
           30.6,
           13.4,
           4.7,
           1.9
          ],
          [
           31.5,
           1099.5,
           29,
           0.4,
           0.37,
           0.83,
           34.9,
           15.9,
           5.6,
           1.3
          ],
          [
           35,
           925,
           42.33,
           0.44,
           0.39,
           0.81,
           26.2,
           9.5,
           2.97,
           3.63
          ],
          [
           30.5,
           881.5,
           38.75,
           0.49,
           0.27,
           0.65,
           26.85,
           8.88,
           4.3,
           3.28
          ],
          [
           34.25,
           1014.25,
           25.25,
           0.48,
           0.32,
           0.76,
           29.7,
           12.55,
           5.18,
           1.48
          ],
          [
           32,
           927,
           25.5,
           0.65,
           0.46,
           0.71,
           29.05,
           17.2,
           6.55,
           2
          ]
         ],
         "hovertemplate": "f_PTS_range=0 < f_pts <= 750<br>pca0=%{x}<br>pca1=%{y}<br>g=%{customdata[0]}<br>mp=%{customdata[1]}<br>stl=%{customdata[2]}<br>fg_pct=%{customdata[3]}<br>fg3_pct=%{customdata[4]}<br>ft_pct=%{customdata[5]}<br>mp_per_g=%{customdata[6]}<br>pts_per_g=%{customdata[7]}<br>trb_per_g=%{customdata[8]}<br>ast_per_g=%{customdata[9]}<extra></extra>",
         "legendgroup": "0 < f_pts <= 750",
         "marker": {
          "color": "#636efa",
          "symbol": "circle"
         },
         "mode": "markers",
         "name": "0 < f_pts <= 750",
         "orientation": "v",
         "showlegend": true,
         "type": "scatter",
         "x": [
          -0.044391637100147215,
          -0.862936835169264,
          -0.3153087533708733,
          -0.036454250212776276,
          4.131518135972492,
          -0.6768600067283573,
          -0.2203264497036024,
          3.1224176743520617,
          0.6469157770425074,
          -0.45340172823761066,
          -0.35990891633292577,
          1.3151296422820664,
          -1.5493296248459245,
          0.07384828767939017,
          0.21540611390954342,
          0.42833722533779867,
          -0.7508543663217173,
          -0.7595695016085695,
          -0.05352412956773286,
          0.8718707431314288,
          0.7534874592647018,
          -0.810797660998821,
          -0.9204733291416324,
          -0.879695392262697,
          0.1929983565397421,
          -0.8507883659731379,
          1.2644050043885984,
          -0.13610401130362934,
          -0.6387365544542114,
          -0.20540109441031593,
          -0.7656837078884745,
          1.3026483093073835,
          0.41335800588182736,
          0.35375260172472456,
          0.24762691498730927,
          0.3718793983062723,
          -0.2360865195458924,
          -0.3986126086176329,
          -0.3463461366507933,
          -0.5140711636180313,
          -0.008686665934457116,
          3.2641131092446893,
          0.0369356519870972,
          1.0305029452095587,
          0.7587099234130676,
          0.9983133348270442,
          -1.5579264281166605,
          0.5555852064628707,
          1.3993692793188468,
          -0.3276779984598328,
          0.3140855885081986,
          -1.1230557038815057,
          -0.24956115819378227,
          -0.7312653966904957,
          0.18306910640382143,
          -0.006610632224518443,
          -1.3149368089403826,
          -0.22663594653972982,
          -0.3074548590327556,
          -0.04299912952701891,
          1.9969852812676518,
          0.9713794382236257,
          0.0634830218911086,
          -0.42047053150550157,
          -0.2716178485765933,
          -0.26334313914868684,
          0.04299020698661642,
          0.03307632601485703,
          -0.08860997075189611,
          1.1032390595188097,
          -0.4360255143133934,
          -0.10375091936777758,
          0.3005029627445201,
          -0.1388560719514246,
          -1.279153339147409,
          0.004679374416646833,
          1.2030187885904546,
          0.4868785024206804,
          -0.819083632943213,
          0.8013210817994741,
          -0.3946623895781414,
          0.07133449355076237,
          -0.692808924088525,
          -0.5189738269061612,
          -0.4539324263352118,
          1.2338871190597092,
          0.5778040014738778,
          -0.7210701488490733,
          -0.7326574675914079,
          -0.5941003512901161,
          1.8130386699093182,
          0.6176804231878217,
          -0.7764695085851177,
          0.03842389660844204,
          0.24312752436429286,
          -0.37641955723859943,
          0.032048950528358655
         ],
         "xaxis": "x",
         "y": [
          0.07104629846768007,
          -1.1570388396578724,
          -0.4913413247238414,
          -1.4478078735122313,
          0.5772831388709687,
          1.7956345856029818,
          -1.0097684397278714,
          0.1466508116979306,
          -0.5920755420280472,
          -1.7056840797949149,
          0.6774765740746631,
          0.691136628302283,
          1.802412834822166,
          -0.3400306783220126,
          -0.7278891394810023,
          0.6610090865323459,
          1.412058251025577,
          -1.148031024469752,
          -1.0866446498626836,
          -0.4876142833261418,
          0.05872297146487702,
          0.8257818383294033,
          1.7637006504821149,
          0.20957807213269863,
          0.8469598175194087,
          1.9787783848361615,
          0.3380052224566315,
          -0.8245708385218807,
          1.5773995583877614,
          -0.5878392539895043,
          -0.5174105078564712,
          -0.22773799879606202,
          -1.1007555331067138,
          0.3904766376138492,
          -0.346087229627492,
          -0.4441915140344044,
          0.541544533401848,
          -0.2383659923910974,
          0.8450297547365644,
          0.36342740863768985,
          -1.1814358290895641,
          0.1614722678565004,
          -0.6441082062250186,
          -0.15484182545628078,
          -0.38038161467229187,
          1.0650853747650617,
          -0.6899158295613472,
          -0.329762700293933,
          -1.5174415485447055,
          0.9511169462219894,
          -0.7668111657880644,
          -0.08276589484894906,
          -0.5623070302255028,
          -1.1816446198297554,
          -0.9441347618394139,
          -0.01976023315764522,
          0.8156270907583649,
          0.8630120311024294,
          -0.29558248485945804,
          -0.5000275155046189,
          -0.4385731178309798,
          -0.2237542377921609,
          1.2109340700433613,
          0.39881163305529377,
          1.634044944959128,
          -0.08377118242048223,
          -1.2472309018459993,
          1.2322455657986273,
          1.0266600895245288,
          -0.6404390229353327,
          -0.994164608996648,
          0.11306588885846237,
          2.2915560290266144,
          -0.26368735480277267,
          -0.5918578259227418,
          -0.10052444894779347,
          -0.5652743180125553,
          -1.0220889228797065,
          1.4686606613746973,
          -0.46507415527348983,
          -0.6554254470730173,
          -0.602764091904276,
          3.7985911819406506,
          0.4837797508687261,
          0.7078245918265342,
          -0.18577932226124366,
          -0.08697988704335387,
          -1.0398221132233303,
          -0.5373815075970583,
          0.3878118997471551,
          0.45305613479846774,
          -0.06922736964211915,
          -0.8698818021527376,
          0.9112254814528552,
          0.7593070109974638,
          -0.9080502861789482,
          -0.59052613206545
         ],
         "yaxis": "y"
        },
        {
         "customdata": [
          [
           31,
           981,
           20,
           0.47,
           0.38,
           0.77,
           31.7,
           17,
           7.65,
           2.4
          ],
          [
           32.5,
           1147.5,
           44,
           0.48,
           0.34,
           0.81,
           35.3,
           18.6,
           6.1,
           8.15
          ],
          [
           "32",
           "1057",
           "43",
           ".402",
           ".294",
           ".772",
           "33.0",
           "19.1",
           "5.2",
           "2.8"
          ],
          [
           "32",
           "1133",
           "54",
           ".422",
           ".360",
           ".861",
           "35.4",
           "27.4",
           "3.9",
           "8.7"
          ],
          [
           "29",
           "966",
           "39",
           ".452",
           ".342",
           ".849",
           "33.3",
           "16.8",
           "7.3",
           "2.1"
          ]
         ],
         "hovertemplate": "f_PTS_range=1500 < f_pts <= 2250<br>pca0=%{x}<br>pca1=%{y}<br>g=%{customdata[0]}<br>mp=%{customdata[1]}<br>stl=%{customdata[2]}<br>fg_pct=%{customdata[3]}<br>fg3_pct=%{customdata[4]}<br>ft_pct=%{customdata[5]}<br>mp_per_g=%{customdata[6]}<br>pts_per_g=%{customdata[7]}<br>trb_per_g=%{customdata[8]}<br>ast_per_g=%{customdata[9]}<extra></extra>",
         "legendgroup": "1500 < f_pts <= 2250",
         "marker": {
          "color": "#EF553B",
          "symbol": "circle"
         },
         "mode": "markers",
         "name": "1500 < f_pts <= 2250",
         "orientation": "v",
         "showlegend": true,
         "type": "scatter",
         "x": [
          -0.21980556557379763,
          -1.004338598907189,
          -0.5802086886743909,
          -0.9386535101870617,
          -0.15310567561042737
         ],
         "xaxis": "x",
         "y": [
          -1.251257178603328,
          0.2993055050950395,
          0.49456449176890677,
          1.2180826683033374,
          0.46351678405497804
         ],
         "yaxis": "y"
        },
        {
         "customdata": [
          [
           "38",
           "1218",
           "36",
           ".450",
           ".397",
           ".822",
           "32.1",
           "19.8",
           "2.5",
           "2.3"
          ],
          [
           "37",
           "1253",
           "43",
           ".415",
           ".402",
           ".876",
           "33.9",
           "14.5",
           "4.2",
           "1.4"
          ],
          [
           "36",
           "972",
           "69",
           ".437",
           ".284",
           ".706",
           "27.0",
           "8.3",
           "4.7",
           "3.5"
          ],
          [
           "31",
           "1069",
           "27",
           ".427",
           ".292",
           ".833",
           "34.5",
           "14.0",
           "4.3",
           "3.2"
          ],
          [
           "37",
           "1137",
           "28",
           ".461",
           ".381",
           ".703",
           "30.7",
           "13.5",
           "5.9",
           "1.6"
          ],
          [
           "37",
           "1207",
           "40",
           ".462",
           ".355",
           ".935",
           "32.6",
           "14.0",
           "4.5",
           "2.5"
          ],
          [
           "37",
           "1140",
           "15",
           ".492",
           ".423",
           ".835",
           "30.8",
           "15.6",
           "7.2",
           "0.9"
          ],
          [
           33.5,
           1057.5,
           27.5,
           0.47,
           0.41,
           0.71,
           31.75,
           12.15,
           4.9,
           1.85
          ],
          [
           "37",
           "1248",
           "61",
           ".485",
           ".404",
           ".817",
           "33.7",
           "14.4",
           "4.1",
           "5.1"
          ],
          [
           32.5,
           1036,
           26,
           0.46,
           0.39,
           0.74,
           31.9,
           12.05,
           4.95,
           3.05
          ],
          [
           35.25,
           1069.75,
           33,
           0.5,
           0.43,
           0.8,
           30.68,
           12.85,
           4.75,
           2.45
          ],
          [
           "38",
           "1341",
           "34",
           ".454",
           ".308",
           ".665",
           "35.3",
           "22.6",
           "7.6",
           "4.3"
          ],
          [
           "36",
           "1064",
           "53",
           ".479",
           ".246",
           ".736",
           "29.6",
           "16.7",
           "4.0",
           "4.6"
          ],
          [
           27,
           685,
           20.6,
           0.43,
           0.39,
           0.76,
           23.72,
           10.1,
           3.58,
           1.6
          ],
          [
           "34",
           "1116",
           "42",
           ".507",
           ".396",
           ".813",
           "32.8",
           "18.1",
           "4.1",
           "4.4"
          ],
          [
           "30",
           "906",
           "23",
           ".541",
           ".275",
           ".681",
           "30.2",
           "12.9",
           "10.5",
           "0.5"
          ],
          [
           28.5,
           985,
           54,
           0.51,
           0.43,
           0.76,
           34.95,
           11,
           4.65,
           5.05
          ],
          [
           "33",
           "1061",
           "19",
           ".566",
           ".000",
           ".564",
           "32.2",
           "13.4",
           "8.4",
           "0.8"
          ],
          [
           "32",
           "888",
           "30",
           ".415",
           ".346",
           ".738",
           "27.8",
           "11.5",
           "2.6",
           "1.9"
          ],
          [
           37.5,
           850,
           30,
           0.43,
           0.37,
           0.83,
           22.8,
           9.45,
           2.2,
           1.4
          ],
          [
           "21",
           "464",
           "17",
           ".471",
           ".412",
           ".522",
           "22.1",
           "9.5",
           "4.0",
           "1.4"
          ],
          [
           33.5,
           836,
           21.5,
           0.39,
           0.39,
           0.88,
           25.75,
           10.65,
           3,
           1.55
          ],
          [
           "35",
           "999",
           "38",
           ".423",
           ".353",
           ".800",
           "28.5",
           "16.1",
           "3.5",
           "4.1"
          ],
          [
           "5",
           "139",
           "4",
           ".537",
           ".478",
           ".750",
           "27.8",
           "16.2",
           "3.8",
           "2.6"
          ],
          [
           "35",
           "764",
           "21",
           ".513",
           ".396",
           ".797",
           "21.8",
           "10.9",
           "5.8",
           "1.1"
          ],
          [
           "22",
           "768",
           "29",
           ".380",
           ".348",
           ".750",
           "34.9",
           "18.5",
           "5.7",
           "4.0"
          ],
          [
           "37",
           "997",
           "30",
           ".561",
           ".413",
           ".738",
           "26.9",
           "13.5",
           "9.1",
           "2.0"
          ],
          [
           31.5,
           608,
           30,
           0.46,
           0.42,
           0.71,
           19.75,
           8.6,
           3.3,
           1.1
          ],
          [
           "34",
           "1072",
           "52",
           ".405",
           ".307",
           ".700",
           "31.5",
           "16.1",
           "4.3",
           "2.3"
          ],
          [
           "35",
           "1172",
           "20",
           ".612",
           ".343",
           ".733",
           "33.5",
           "20.1",
           "11.6",
           "1.6"
          ]
         ],
         "hovertemplate": "f_PTS_range=750 < f_pts <= 1500<br>pca0=%{x}<br>pca1=%{y}<br>g=%{customdata[0]}<br>mp=%{customdata[1]}<br>stl=%{customdata[2]}<br>fg_pct=%{customdata[3]}<br>fg3_pct=%{customdata[4]}<br>ft_pct=%{customdata[5]}<br>mp_per_g=%{customdata[6]}<br>pts_per_g=%{customdata[7]}<br>trb_per_g=%{customdata[8]}<br>ast_per_g=%{customdata[9]}<extra></extra>",
         "legendgroup": "750 < f_pts <= 1500",
         "marker": {
          "color": "#00cc96",
          "symbol": "circle"
         },
         "mode": "markers",
         "name": "750 < f_pts <= 1500",
         "orientation": "v",
         "showlegend": true,
         "type": "scatter",
         "x": [
          -1.333070688154945,
          -1.498067967823509,
          -0.18673825959525497,
          -0.6332003567680478,
          -0.9519262412394814,
          -1.2820632619460504,
          -0.9635839113552931,
          -0.5793879820697115,
          -1.4781064205007153,
          -0.47839341637758015,
          -0.6378878512584009,
          -1.908855837438368,
          -0.6149179795099172,
          1.1669626041416217,
          -0.8563726105252123,
          0.13111607818925336,
          -0.24480277040566437,
          -0.5941756009748195,
          0.21406705956070182,
          0.3919159028411612,
          2.2028975852109425,
          0.4591562430198393,
          -0.30759668216939223,
          3.7275226641676653,
          0.7964676842796612,
          0.7760938921726314,
          -0.29663997419424476,
          1.5255970556636016,
          -0.6520799812751548,
          -1.1145208149784114
         ],
         "xaxis": "x",
         "y": [
          -0.6869487041463825,
          -0.19727861825325144,
          3.056005821834453,
          -0.9127056267862417,
          -1.1097563742550223,
          -0.2939678801054593,
          -2.266684493918633,
          -0.8515249622478838,
          1.4090380323539202,
          -0.8956295901376707,
          -0.42109323619591105,
          -1.3057391381254095,
          1.3424189606645172,
          -0.13737280741819996,
          0.21341241803726888,
          -0.7483629131205616,
          1.753411084791659,
          -1.6296868072027582,
          -0.03141931041327313,
          0.07571236714478313,
          0.33480398219469215,
          -0.6009049579592081,
          0.26715924630359456,
          0.39879013985306394,
          -0.4263656928818469,
          0.32975438418228803,
          -0.47144696669206315,
          0.9268861474135707,
          1.2231896026035427,
          -1.9618240225803758
         ],
         "yaxis": "y"
        }
       ],
       "layout": {
        "legend": {
         "title": {
          "text": "f_PTS_range"
         },
         "tracegroupgap": 0
        },
        "template": {
         "data": {
          "bar": [
           {
            "error_x": {
             "color": "#2a3f5f"
            },
            "error_y": {
             "color": "#2a3f5f"
            },
            "marker": {
             "line": {
              "color": "#E5ECF6",
              "width": 0.5
             },
             "pattern": {
              "fillmode": "overlay",
              "size": 10,
              "solidity": 0.2
             }
            },
            "type": "bar"
           }
          ],
          "barpolar": [
           {
            "marker": {
             "line": {
              "color": "#E5ECF6",
              "width": 0.5
             },
             "pattern": {
              "fillmode": "overlay",
              "size": 10,
              "solidity": 0.2
             }
            },
            "type": "barpolar"
           }
          ],
          "carpet": [
           {
            "aaxis": {
             "endlinecolor": "#2a3f5f",
             "gridcolor": "white",
             "linecolor": "white",
             "minorgridcolor": "white",
             "startlinecolor": "#2a3f5f"
            },
            "baxis": {
             "endlinecolor": "#2a3f5f",
             "gridcolor": "white",
             "linecolor": "white",
             "minorgridcolor": "white",
             "startlinecolor": "#2a3f5f"
            },
            "type": "carpet"
           }
          ],
          "choropleth": [
           {
            "colorbar": {
             "outlinewidth": 0,
             "ticks": ""
            },
            "type": "choropleth"
           }
          ],
          "contour": [
           {
            "colorbar": {
             "outlinewidth": 0,
             "ticks": ""
            },
            "colorscale": [
             [
              0,
              "#0d0887"
             ],
             [
              0.1111111111111111,
              "#46039f"
             ],
             [
              0.2222222222222222,
              "#7201a8"
             ],
             [
              0.3333333333333333,
              "#9c179e"
             ],
             [
              0.4444444444444444,
              "#bd3786"
             ],
             [
              0.5555555555555556,
              "#d8576b"
             ],
             [
              0.6666666666666666,
              "#ed7953"
             ],
             [
              0.7777777777777778,
              "#fb9f3a"
             ],
             [
              0.8888888888888888,
              "#fdca26"
             ],
             [
              1,
              "#f0f921"
             ]
            ],
            "type": "contour"
           }
          ],
          "contourcarpet": [
           {
            "colorbar": {
             "outlinewidth": 0,
             "ticks": ""
            },
            "type": "contourcarpet"
           }
          ],
          "heatmap": [
           {
            "colorbar": {
             "outlinewidth": 0,
             "ticks": ""
            },
            "colorscale": [
             [
              0,
              "#0d0887"
             ],
             [
              0.1111111111111111,
              "#46039f"
             ],
             [
              0.2222222222222222,
              "#7201a8"
             ],
             [
              0.3333333333333333,
              "#9c179e"
             ],
             [
              0.4444444444444444,
              "#bd3786"
             ],
             [
              0.5555555555555556,
              "#d8576b"
             ],
             [
              0.6666666666666666,
              "#ed7953"
             ],
             [
              0.7777777777777778,
              "#fb9f3a"
             ],
             [
              0.8888888888888888,
              "#fdca26"
             ],
             [
              1,
              "#f0f921"
             ]
            ],
            "type": "heatmap"
           }
          ],
          "heatmapgl": [
           {
            "colorbar": {
             "outlinewidth": 0,
             "ticks": ""
            },
            "colorscale": [
             [
              0,
              "#0d0887"
             ],
             [
              0.1111111111111111,
              "#46039f"
             ],
             [
              0.2222222222222222,
              "#7201a8"
             ],
             [
              0.3333333333333333,
              "#9c179e"
             ],
             [
              0.4444444444444444,
              "#bd3786"
             ],
             [
              0.5555555555555556,
              "#d8576b"
             ],
             [
              0.6666666666666666,
              "#ed7953"
             ],
             [
              0.7777777777777778,
              "#fb9f3a"
             ],
             [
              0.8888888888888888,
              "#fdca26"
             ],
             [
              1,
              "#f0f921"
             ]
            ],
            "type": "heatmapgl"
           }
          ],
          "histogram": [
           {
            "marker": {
             "pattern": {
              "fillmode": "overlay",
              "size": 10,
              "solidity": 0.2
             }
            },
            "type": "histogram"
           }
          ],
          "histogram2d": [
           {
            "colorbar": {
             "outlinewidth": 0,
             "ticks": ""
            },
            "colorscale": [
             [
              0,
              "#0d0887"
             ],
             [
              0.1111111111111111,
              "#46039f"
             ],
             [
              0.2222222222222222,
              "#7201a8"
             ],
             [
              0.3333333333333333,
              "#9c179e"
             ],
             [
              0.4444444444444444,
              "#bd3786"
             ],
             [
              0.5555555555555556,
              "#d8576b"
             ],
             [
              0.6666666666666666,
              "#ed7953"
             ],
             [
              0.7777777777777778,
              "#fb9f3a"
             ],
             [
              0.8888888888888888,
              "#fdca26"
             ],
             [
              1,
              "#f0f921"
             ]
            ],
            "type": "histogram2d"
           }
          ],
          "histogram2dcontour": [
           {
            "colorbar": {
             "outlinewidth": 0,
             "ticks": ""
            },
            "colorscale": [
             [
              0,
              "#0d0887"
             ],
             [
              0.1111111111111111,
              "#46039f"
             ],
             [
              0.2222222222222222,
              "#7201a8"
             ],
             [
              0.3333333333333333,
              "#9c179e"
             ],
             [
              0.4444444444444444,
              "#bd3786"
             ],
             [
              0.5555555555555556,
              "#d8576b"
             ],
             [
              0.6666666666666666,
              "#ed7953"
             ],
             [
              0.7777777777777778,
              "#fb9f3a"
             ],
             [
              0.8888888888888888,
              "#fdca26"
             ],
             [
              1,
              "#f0f921"
             ]
            ],
            "type": "histogram2dcontour"
           }
          ],
          "mesh3d": [
           {
            "colorbar": {
             "outlinewidth": 0,
             "ticks": ""
            },
            "type": "mesh3d"
           }
          ],
          "parcoords": [
           {
            "line": {
             "colorbar": {
              "outlinewidth": 0,
              "ticks": ""
             }
            },
            "type": "parcoords"
           }
          ],
          "pie": [
           {
            "automargin": true,
            "type": "pie"
           }
          ],
          "scatter": [
           {
            "marker": {
             "colorbar": {
              "outlinewidth": 0,
              "ticks": ""
             }
            },
            "type": "scatter"
           }
          ],
          "scatter3d": [
           {
            "line": {
             "colorbar": {
              "outlinewidth": 0,
              "ticks": ""
             }
            },
            "marker": {
             "colorbar": {
              "outlinewidth": 0,
              "ticks": ""
             }
            },
            "type": "scatter3d"
           }
          ],
          "scattercarpet": [
           {
            "marker": {
             "colorbar": {
              "outlinewidth": 0,
              "ticks": ""
             }
            },
            "type": "scattercarpet"
           }
          ],
          "scattergeo": [
           {
            "marker": {
             "colorbar": {
              "outlinewidth": 0,
              "ticks": ""
             }
            },
            "type": "scattergeo"
           }
          ],
          "scattergl": [
           {
            "marker": {
             "colorbar": {
              "outlinewidth": 0,
              "ticks": ""
             }
            },
            "type": "scattergl"
           }
          ],
          "scattermapbox": [
           {
            "marker": {
             "colorbar": {
              "outlinewidth": 0,
              "ticks": ""
             }
            },
            "type": "scattermapbox"
           }
          ],
          "scatterpolar": [
           {
            "marker": {
             "colorbar": {
              "outlinewidth": 0,
              "ticks": ""
             }
            },
            "type": "scatterpolar"
           }
          ],
          "scatterpolargl": [
           {
            "marker": {
             "colorbar": {
              "outlinewidth": 0,
              "ticks": ""
             }
            },
            "type": "scatterpolargl"
           }
          ],
          "scatterternary": [
           {
            "marker": {
             "colorbar": {
              "outlinewidth": 0,
              "ticks": ""
             }
            },
            "type": "scatterternary"
           }
          ],
          "surface": [
           {
            "colorbar": {
             "outlinewidth": 0,
             "ticks": ""
            },
            "colorscale": [
             [
              0,
              "#0d0887"
             ],
             [
              0.1111111111111111,
              "#46039f"
             ],
             [
              0.2222222222222222,
              "#7201a8"
             ],
             [
              0.3333333333333333,
              "#9c179e"
             ],
             [
              0.4444444444444444,
              "#bd3786"
             ],
             [
              0.5555555555555556,
              "#d8576b"
             ],
             [
              0.6666666666666666,
              "#ed7953"
             ],
             [
              0.7777777777777778,
              "#fb9f3a"
             ],
             [
              0.8888888888888888,
              "#fdca26"
             ],
             [
              1,
              "#f0f921"
             ]
            ],
            "type": "surface"
           }
          ],
          "table": [
           {
            "cells": {
             "fill": {
              "color": "#EBF0F8"
             },
             "line": {
              "color": "white"
             }
            },
            "header": {
             "fill": {
              "color": "#C8D4E3"
             },
             "line": {
              "color": "white"
             }
            },
            "type": "table"
           }
          ]
         },
         "layout": {
          "annotationdefaults": {
           "arrowcolor": "#2a3f5f",
           "arrowhead": 0,
           "arrowwidth": 1
          },
          "autotypenumbers": "strict",
          "coloraxis": {
           "colorbar": {
            "outlinewidth": 0,
            "ticks": ""
           }
          },
          "colorscale": {
           "diverging": [
            [
             0,
             "#8e0152"
            ],
            [
             0.1,
             "#c51b7d"
            ],
            [
             0.2,
             "#de77ae"
            ],
            [
             0.3,
             "#f1b6da"
            ],
            [
             0.4,
             "#fde0ef"
            ],
            [
             0.5,
             "#f7f7f7"
            ],
            [
             0.6,
             "#e6f5d0"
            ],
            [
             0.7,
             "#b8e186"
            ],
            [
             0.8,
             "#7fbc41"
            ],
            [
             0.9,
             "#4d9221"
            ],
            [
             1,
             "#276419"
            ]
           ],
           "sequential": [
            [
             0,
             "#0d0887"
            ],
            [
             0.1111111111111111,
             "#46039f"
            ],
            [
             0.2222222222222222,
             "#7201a8"
            ],
            [
             0.3333333333333333,
             "#9c179e"
            ],
            [
             0.4444444444444444,
             "#bd3786"
            ],
            [
             0.5555555555555556,
             "#d8576b"
            ],
            [
             0.6666666666666666,
             "#ed7953"
            ],
            [
             0.7777777777777778,
             "#fb9f3a"
            ],
            [
             0.8888888888888888,
             "#fdca26"
            ],
            [
             1,
             "#f0f921"
            ]
           ],
           "sequentialminus": [
            [
             0,
             "#0d0887"
            ],
            [
             0.1111111111111111,
             "#46039f"
            ],
            [
             0.2222222222222222,
             "#7201a8"
            ],
            [
             0.3333333333333333,
             "#9c179e"
            ],
            [
             0.4444444444444444,
             "#bd3786"
            ],
            [
             0.5555555555555556,
             "#d8576b"
            ],
            [
             0.6666666666666666,
             "#ed7953"
            ],
            [
             0.7777777777777778,
             "#fb9f3a"
            ],
            [
             0.8888888888888888,
             "#fdca26"
            ],
            [
             1,
             "#f0f921"
            ]
           ]
          },
          "colorway": [
           "#636efa",
           "#EF553B",
           "#00cc96",
           "#ab63fa",
           "#FFA15A",
           "#19d3f3",
           "#FF6692",
           "#B6E880",
           "#FF97FF",
           "#FECB52"
          ],
          "font": {
           "color": "#2a3f5f"
          },
          "geo": {
           "bgcolor": "white",
           "lakecolor": "white",
           "landcolor": "#E5ECF6",
           "showlakes": true,
           "showland": true,
           "subunitcolor": "white"
          },
          "hoverlabel": {
           "align": "left"
          },
          "hovermode": "closest",
          "mapbox": {
           "style": "light"
          },
          "paper_bgcolor": "white",
          "plot_bgcolor": "#E5ECF6",
          "polar": {
           "angularaxis": {
            "gridcolor": "white",
            "linecolor": "white",
            "ticks": ""
           },
           "bgcolor": "#E5ECF6",
           "radialaxis": {
            "gridcolor": "white",
            "linecolor": "white",
            "ticks": ""
           }
          },
          "scene": {
           "xaxis": {
            "backgroundcolor": "#E5ECF6",
            "gridcolor": "white",
            "gridwidth": 2,
            "linecolor": "white",
            "showbackground": true,
            "ticks": "",
            "zerolinecolor": "white"
           },
           "yaxis": {
            "backgroundcolor": "#E5ECF6",
            "gridcolor": "white",
            "gridwidth": 2,
            "linecolor": "white",
            "showbackground": true,
            "ticks": "",
            "zerolinecolor": "white"
           },
           "zaxis": {
            "backgroundcolor": "#E5ECF6",
            "gridcolor": "white",
            "gridwidth": 2,
            "linecolor": "white",
            "showbackground": true,
            "ticks": "",
            "zerolinecolor": "white"
           }
          },
          "shapedefaults": {
           "line": {
            "color": "#2a3f5f"
           }
          },
          "ternary": {
           "aaxis": {
            "gridcolor": "white",
            "linecolor": "white",
            "ticks": ""
           },
           "baxis": {
            "gridcolor": "white",
            "linecolor": "white",
            "ticks": ""
           },
           "bgcolor": "#E5ECF6",
           "caxis": {
            "gridcolor": "white",
            "linecolor": "white",
            "ticks": ""
           }
          },
          "title": {
           "x": 0.05
          },
          "xaxis": {
           "automargin": true,
           "gridcolor": "white",
           "linecolor": "white",
           "ticks": "",
           "title": {
            "standoff": 15
           },
           "zerolinecolor": "white",
           "zerolinewidth": 2
          },
          "yaxis": {
           "automargin": true,
           "gridcolor": "white",
           "linecolor": "white",
           "ticks": "",
           "title": {
            "standoff": 15
           },
           "zerolinecolor": "white",
           "zerolinewidth": 2
          }
         }
        },
        "title": {
         "text": "PCA Visualization with Actual Value"
        },
        "xaxis": {
         "anchor": "y",
         "domain": [
          0,
          1
         ],
         "title": {
          "text": "pca0"
         }
        },
        "yaxis": {
         "anchor": "x",
         "domain": [
          0,
          1
         ],
         "title": {
          "text": "pca1"
         }
        }
       }
      },
      "text/html": [
       "<div>                            <div id=\"31334fe3-571c-4295-afaa-818b313a5462\" class=\"plotly-graph-div\" style=\"height:525px; width:100%;\"></div>            <script type=\"text/javascript\">                require([\"plotly\"], function(Plotly) {                    window.PLOTLYENV=window.PLOTLYENV || {};                                    if (document.getElementById(\"31334fe3-571c-4295-afaa-818b313a5462\")) {                    Plotly.newPlot(                        \"31334fe3-571c-4295-afaa-818b313a5462\",                        [{\"customdata\":[[\"31\",\"943\",\"34\",\".493\",\".325\",\".599\",\"30.4\",\"15.8\",\"10.8\",\"1.0\"],[\"33\",\"1118\",\"27\",\".614\",\".397\",\".627\",\"33.9\",\"21.0\",\"11.1\",\"1.5\"],[34.67,1001.0,29.67,0.51,0.27,0.75,28.7,15.53,6.47,2.07],[33.0,942.0,16.5,0.56,0.43,0.66,28.85,15.45,9.15,0.8],[\"3\",\"53\",\"3\",\".333\",\".300\",\".778\",\"17.7\",\"10.0\",\"6.7\",\"0.3\"],[\"35\",\"1077\",\"59\",\".513\",\".378\",\".566\",\"30.8\",\"16.3\",\"7.4\",\"3.0\"],[\"32\",\"981\",\"23\",\".570\",\".294\",\".760\",\"30.7\",\"16.1\",\"8.6\",\"0.8\"],[\"9\",\"268\",\"7\",\".561\",\".520\",\".757\",\"29.8\",\"21.0\",\"9.6\",\"1.0\"],[\"29\",\"796\",\"20\",\".474\",\".360\",\".733\",\"27.4\",\"12.6\",\"4.9\",\"1.0\"],[\"32\",\"1031\",\"17\",\".570\",\".250\",\".774\",\"32.2\",\"17.0\",\"8.8\",\"0.8\"],[\"31\",\"1010\",\"43\",\".441\",\".408\",\".891\",\"32.6\",\"14.6\",\"4.5\",\"3.2\"],[\"29\",\"653\",\"29\",\".459\",\".320\",\".838\",\"22.5\",\"9.2\",\"4.0\",\"1.0\"],[\"36\",\"1263\",\"66\",\".551\",\".412\",\".673\",\"35.1\",\"14.6\",\"6.0\",\"7.6\"],[\"37\",\"918\",\"28\",\".428\",\".338\",\".616\",\"24.8\",\"10.0\",\"3.6\",\"1.2\"],[32.5,888.0,22.5,0.5,0.3,0.74,27.5,13.55,8.65,1.45],[\"27\",\"842\",\"36\",\".442\",\".426\",\".641\",\"31.2\",\"15.0\",\"4.0\",\"2.2\"],[\"35\",\"1093\",\"55\",\".444\",\".291\",\".743\",\"31.2\",\"11.3\",\"6.2\",\"3.2\"],[\"37\",\"1096\",\"26\",\".462\",\".392\",\".773\",\"29.6\",\"14.8\",\"5.4\",\"0.8\"],[35.5,945.5,20.5,0.5,0.41,0.77,26.2,12.2,4.3,1.55],[32.5,748.0,19.5,0.45,0.32,0.58,23.15,8.45,6.25,1.0],[32.33,773.0,26.67,0.47,0.31,0.72,23.47,7.87,5.37,1.43],[37.5,1106.0,49.0,0.46,0.34,0.68,29.45,14.85,5.6,2.75],[32.5,1129.0,60.0,0.42,0.31,0.76,34.8,12.8,4.0,5.85],[32.5,1121.0,42.0,0.45,0.36,0.79,34.6,16.0,3.7,4.05],[\"25\",\"892\",\"40\",\".476\",\".413\",\".649\",\"35.7\",\"23.2\",\"5.7\",\"5.9\"],[\"32\",\"1114\",\"62\",\".455\",\".359\",\".715\",\"34.8\",\"18.1\",\"4.6\",\"6.2\"],[28.0,664.0,25.5,0.6,0.0,0.61,23.35,7.45,6.7,0.4],[\"31\",\"963\",\"24\",\".405\",\".339\",\".763\",\"31.1\",\"13.0\",\"5.8\",\"2.1\"],[\"36\",\"1069\",\"56\",\".356\",\".333\",\".772\",\"29.7\",\"13.5\",\"3.7\",\"1.9\"],[29.0,977.67,27.0,0.45,0.34,0.73,33.33,14.27,3.83,3.2],[\"30\",\"1097\",\"33\",\".491\",\".411\",\".777\",\"36.6\",\"20.3\",\"6.7\",\"1.8\"],[\"36\",\"656\",\"19\",\".478\",\".269\",\".770\",\"18.2\",\"9.8\",\"4.6\",\"0.7\"],[32.0,846.0,16.5,0.59,0.32,0.76,26.2,11.95,8.55,1.35],[\"28\",\"858\",\"34\",\".616\",\".250\",\".720\",\"30.6\",\"16.2\",\"8.6\",\"1.1\"],[\"28\",\"881\",\"26\",\".514\",\".286\",\".672\",\"31.5\",\"12.9\",\"4.4\",\"2.0\"],[33.5,854.5,24.5,0.63,0.0,0.56,25.65,14.35,7.45,0.7],[32.0,983.67,40.33,0.47,0.33,0.72,30.77,13.97,3.27,3.7],[33.0,1018.67,33.0,0.46,0.3,0.73,31.13,13.07,5.97,3.0],[30.5,1007.0,45.0,0.43,0.38,0.78,33.6,17.15,5.85,2.05],[35.33,1043.0,40.67,0.38,0.36,0.78,29.23,13.3,2.27,4.73],[\"31\",\"936\",\"19\",\".458\",\".226\",\".717\",\"30.2\",\"13.1\",\"7.6\",\"1.5\"],[\"14\",\"238\",\"6\",\".426\",\".000\",\".632\",\"17.0\",\"5.9\",\"7.9\",\"1.0\"],[\"34\",\"926\",\"25\",\".468\",\".333\",\".727\",\"27.2\",\"13.6\",\"7.2\",\"0.9\"],[23.0,714.0,21.5,0.45,0.43,0.82,32.35,17.0,5.2,1.15],[\"31\",\"772\",\"22\",\".577\",\".381\",\".670\",\"24.9\",\"17.8\",\"8.8\",\"1.0\"],[31.0,720.33,36.33,0.53,0.31,0.7,22.83,10.33,7.43,0.97],[35.5,1266.0,38.0,0.37,0.3,0.72,35.55,13.65,8.15,1.35],[31.0,815.33,24.0,0.45,0.4,0.78,25.67,13.57,5.83,1.0],[35.0,636.0,3.33,0.62,0.0,0.72,18.8,7.7,5.17,0.2],[33.5,1003.0,46.0,0.46,0.38,0.75,29.85,13.45,3.95,2.75],[31.0,867.0,21.0,0.54,0.13,0.63,27.77,14.03,6.57,1.73],[35.0,1173.0,41.0,0.48,0.4,0.79,33.45,16.1,4.65,2.9],[\"33\",\"987\",\"28\",\".447\",\".336\",\".778\",\"29.9\",\"19.2\",\"3.8\",\"3.6\"],[\"32\",\"1090\",\"25\",\".448\",\".272\",\".722\",\"34.1\",\"16.5\",\"5.4\",\"2.3\"],[\"36\",\"895\",\"20\",\".473\",\".395\",\".755\",\"24.9\",\"10.9\",\"2.5\",\"1.7\"],[33.5,935.0,32.5,0.53,0.27,0.76,27.85,13.2,7.9,1.5],[36.0,1213.5,52.75,0.43,0.38,0.79,33.88,13.82,3.85,4.62],[30.0,981.5,44.0,0.39,0.38,0.82,33.1,15.4,3.45,1.7],[34.75,999.25,31.25,0.46,0.43,0.84,28.75,14.18,2.68,6.38],[\"31\",\"943\",\"27\",\".435\",\".386\",\".785\",\"30.4\",\"13.5\",\"5.5\",\"1.3\"],[21.75,508.25,10.25,0.71,0.0,0.39,21.15,11.27,7.18,0.6],[33.33,726.67,21.67,0.42,0.39,0.75,21.0,9.03,4.1,0.57],[36.0,919.5,46.0,0.48,0.39,0.7,25.35,9.75,6.3,1.5],[32.5,1023.0,40.5,0.43,0.36,0.82,31.6,17.8,4.7,3.1],[32.5,990.75,53.25,0.44,0.35,0.84,30.38,12.42,3.62,2.95],[34.75,989.75,33.75,0.4,0.35,0.71,28.58,13.6,4.53,1.87],[32.0,925.0,18.0,0.52,0.32,0.7,29.0,13.6,8.65,0.85],[\"30\",\"926\",\"46\",\".424\",\".361\",\".780\",\"30.9\",\"12.0\",\"4.6\",\"2.6\"],[\"35\",\"952\",\"45\",\".406\",\".308\",\".625\",\"27.2\",\"11.8\",\"4.9\",\"2.3\"],[33.5,698.75,15.75,0.54,0.23,0.69,21.05,7.58,4.2,0.3],[35.33,1027.0,24.67,0.43,0.44,0.79,28.8,12.33,2.93,1.63],[31.67,955.67,34.67,0.45,0.38,0.7,29.77,13.03,6.43,1.07],[34.25,868.5,56.0,0.47,0.21,0.74,25.45,8.43,4.12,3.35],[32.0,963.25,30.5,0.45,0.44,0.89,30.05,21.6,3.22,3.08],[33.0,1206.5,36.5,0.42,0.35,0.82,36.5,18.45,5.75,2.45],[30.33,932.67,31.0,0.4,0.33,0.75,29.97,13.5,3.83,2.07],[29.25,677.5,15.5,0.37,0.22,0.62,22.78,7.28,4.22,1.0],[31.25,830.25,16.75,0.56,0.26,0.72,26.52,17.1,7.7,2.15],[33.0,1107.5,56.0,0.48,0.34,0.81,33.65,15.2,3.9,3.75],[37.5,763.0,20.5,0.42,0.36,0.62,20.4,5.7,5.1,0.65],[36.0,1018.0,28.5,0.52,0.33,0.63,28.35,13.0,6.6,1.65],[29.0,918.67,24.67,0.43,0.36,0.78,31.67,15.03,6.2,3.3],[33.0,1079.5,81.5,0.42,0.34,0.81,32.7,15.6,3.1,5.9],[31.33,1044.0,42.0,0.42,0.37,0.81,33.3,14.37,3.6,4.1],[32.0,1030.0,44.5,0.42,0.38,0.74,32.2,16.55,7.45,2.45],[34.0,670.67,20.0,0.56,0.3,0.69,18.5,11.3,4.2,0.73],[32.5,810.5,26.5,0.48,0.35,0.61,25.3,8.45,5.3,1.0],[33.75,1087.75,26.75,0.43,0.29,0.74,32.22,16.42,6.5,1.98],[32.75,1090.0,32.25,0.47,0.43,0.88,33.1,16.58,3.6,3.63],[36.0,1060.0,42.0,0.41,0.37,0.8,29.37,17.7,3.33,2.5],[27.0,547.0,22.0,0.53,0.45,0.73,19.9,9.22,4.5,1.42],[26.0,802.0,26.0,0.43,0.3,0.68,30.6,13.4,4.7,1.9],[31.5,1099.5,29.0,0.4,0.37,0.83,34.9,15.9,5.6,1.3],[35.0,925.0,42.33,0.44,0.39,0.81,26.2,9.5,2.97,3.63],[30.5,881.5,38.75,0.49,0.27,0.65,26.85,8.88,4.3,3.28],[34.25,1014.25,25.25,0.48,0.32,0.76,29.7,12.55,5.18,1.48],[32.0,927.0,25.5,0.65,0.46,0.71,29.05,17.2,6.55,2.0]],\"hovertemplate\":\"f_PTS_range=0 < f_pts <= 750<br>pca0=%{x}<br>pca1=%{y}<br>g=%{customdata[0]}<br>mp=%{customdata[1]}<br>stl=%{customdata[2]}<br>fg_pct=%{customdata[3]}<br>fg3_pct=%{customdata[4]}<br>ft_pct=%{customdata[5]}<br>mp_per_g=%{customdata[6]}<br>pts_per_g=%{customdata[7]}<br>trb_per_g=%{customdata[8]}<br>ast_per_g=%{customdata[9]}<extra></extra>\",\"legendgroup\":\"0 < f_pts <= 750\",\"marker\":{\"color\":\"#636efa\",\"symbol\":\"circle\"},\"mode\":\"markers\",\"name\":\"0 < f_pts <= 750\",\"orientation\":\"v\",\"showlegend\":true,\"x\":[-0.044391637100147215,-0.862936835169264,-0.3153087533708733,-0.036454250212776276,4.131518135972492,-0.6768600067283573,-0.2203264497036024,3.1224176743520617,0.6469157770425074,-0.45340172823761066,-0.35990891633292577,1.3151296422820664,-1.5493296248459245,0.07384828767939017,0.21540611390954342,0.42833722533779867,-0.7508543663217173,-0.7595695016085695,-0.05352412956773286,0.8718707431314288,0.7534874592647018,-0.810797660998821,-0.9204733291416324,-0.879695392262697,0.1929983565397421,-0.8507883659731379,1.2644050043885984,-0.13610401130362934,-0.6387365544542114,-0.20540109441031593,-0.7656837078884745,1.3026483093073835,0.41335800588182736,0.35375260172472456,0.24762691498730927,0.3718793983062723,-0.2360865195458924,-0.3986126086176329,-0.3463461366507933,-0.5140711636180313,-0.008686665934457116,3.2641131092446893,0.0369356519870972,1.0305029452095587,0.7587099234130676,0.9983133348270442,-1.5579264281166605,0.5555852064628707,1.3993692793188468,-0.3276779984598328,0.3140855885081986,-1.1230557038815057,-0.24956115819378227,-0.7312653966904957,0.18306910640382143,-0.006610632224518443,-1.3149368089403826,-0.22663594653972982,-0.3074548590327556,-0.04299912952701891,1.9969852812676518,0.9713794382236257,0.0634830218911086,-0.42047053150550157,-0.2716178485765933,-0.26334313914868684,0.04299020698661642,0.03307632601485703,-0.08860997075189611,1.1032390595188097,-0.4360255143133934,-0.10375091936777758,0.3005029627445201,-0.1388560719514246,-1.279153339147409,0.004679374416646833,1.2030187885904546,0.4868785024206804,-0.819083632943213,0.8013210817994741,-0.3946623895781414,0.07133449355076237,-0.692808924088525,-0.5189738269061612,-0.4539324263352118,1.2338871190597092,0.5778040014738778,-0.7210701488490733,-0.7326574675914079,-0.5941003512901161,1.8130386699093182,0.6176804231878217,-0.7764695085851177,0.03842389660844204,0.24312752436429286,-0.37641955723859943,0.032048950528358655],\"xaxis\":\"x\",\"y\":[0.07104629846768007,-1.1570388396578724,-0.4913413247238414,-1.4478078735122313,0.5772831388709687,1.7956345856029818,-1.0097684397278714,0.1466508116979306,-0.5920755420280472,-1.7056840797949149,0.6774765740746631,0.691136628302283,1.802412834822166,-0.3400306783220126,-0.7278891394810023,0.6610090865323459,1.412058251025577,-1.148031024469752,-1.0866446498626836,-0.4876142833261418,0.05872297146487702,0.8257818383294033,1.7637006504821149,0.20957807213269863,0.8469598175194087,1.9787783848361615,0.3380052224566315,-0.8245708385218807,1.5773995583877614,-0.5878392539895043,-0.5174105078564712,-0.22773799879606202,-1.1007555331067138,0.3904766376138492,-0.346087229627492,-0.4441915140344044,0.541544533401848,-0.2383659923910974,0.8450297547365644,0.36342740863768985,-1.1814358290895641,0.1614722678565004,-0.6441082062250186,-0.15484182545628078,-0.38038161467229187,1.0650853747650617,-0.6899158295613472,-0.329762700293933,-1.5174415485447055,0.9511169462219894,-0.7668111657880644,-0.08276589484894906,-0.5623070302255028,-1.1816446198297554,-0.9441347618394139,-0.01976023315764522,0.8156270907583649,0.8630120311024294,-0.29558248485945804,-0.5000275155046189,-0.4385731178309798,-0.2237542377921609,1.2109340700433613,0.39881163305529377,1.634044944959128,-0.08377118242048223,-1.2472309018459993,1.2322455657986273,1.0266600895245288,-0.6404390229353327,-0.994164608996648,0.11306588885846237,2.2915560290266144,-0.26368735480277267,-0.5918578259227418,-0.10052444894779347,-0.5652743180125553,-1.0220889228797065,1.4686606613746973,-0.46507415527348983,-0.6554254470730173,-0.602764091904276,3.7985911819406506,0.4837797508687261,0.7078245918265342,-0.18577932226124366,-0.08697988704335387,-1.0398221132233303,-0.5373815075970583,0.3878118997471551,0.45305613479846774,-0.06922736964211915,-0.8698818021527376,0.9112254814528552,0.7593070109974638,-0.9080502861789482,-0.59052613206545],\"yaxis\":\"y\",\"type\":\"scatter\"},{\"customdata\":[[31.0,981.0,20.0,0.47,0.38,0.77,31.7,17.0,7.65,2.4],[32.5,1147.5,44.0,0.48,0.34,0.81,35.3,18.6,6.1,8.15],[\"32\",\"1057\",\"43\",\".402\",\".294\",\".772\",\"33.0\",\"19.1\",\"5.2\",\"2.8\"],[\"32\",\"1133\",\"54\",\".422\",\".360\",\".861\",\"35.4\",\"27.4\",\"3.9\",\"8.7\"],[\"29\",\"966\",\"39\",\".452\",\".342\",\".849\",\"33.3\",\"16.8\",\"7.3\",\"2.1\"]],\"hovertemplate\":\"f_PTS_range=1500 < f_pts <= 2250<br>pca0=%{x}<br>pca1=%{y}<br>g=%{customdata[0]}<br>mp=%{customdata[1]}<br>stl=%{customdata[2]}<br>fg_pct=%{customdata[3]}<br>fg3_pct=%{customdata[4]}<br>ft_pct=%{customdata[5]}<br>mp_per_g=%{customdata[6]}<br>pts_per_g=%{customdata[7]}<br>trb_per_g=%{customdata[8]}<br>ast_per_g=%{customdata[9]}<extra></extra>\",\"legendgroup\":\"1500 < f_pts <= 2250\",\"marker\":{\"color\":\"#EF553B\",\"symbol\":\"circle\"},\"mode\":\"markers\",\"name\":\"1500 < f_pts <= 2250\",\"orientation\":\"v\",\"showlegend\":true,\"x\":[-0.21980556557379763,-1.004338598907189,-0.5802086886743909,-0.9386535101870617,-0.15310567561042737],\"xaxis\":\"x\",\"y\":[-1.251257178603328,0.2993055050950395,0.49456449176890677,1.2180826683033374,0.46351678405497804],\"yaxis\":\"y\",\"type\":\"scatter\"},{\"customdata\":[[\"38\",\"1218\",\"36\",\".450\",\".397\",\".822\",\"32.1\",\"19.8\",\"2.5\",\"2.3\"],[\"37\",\"1253\",\"43\",\".415\",\".402\",\".876\",\"33.9\",\"14.5\",\"4.2\",\"1.4\"],[\"36\",\"972\",\"69\",\".437\",\".284\",\".706\",\"27.0\",\"8.3\",\"4.7\",\"3.5\"],[\"31\",\"1069\",\"27\",\".427\",\".292\",\".833\",\"34.5\",\"14.0\",\"4.3\",\"3.2\"],[\"37\",\"1137\",\"28\",\".461\",\".381\",\".703\",\"30.7\",\"13.5\",\"5.9\",\"1.6\"],[\"37\",\"1207\",\"40\",\".462\",\".355\",\".935\",\"32.6\",\"14.0\",\"4.5\",\"2.5\"],[\"37\",\"1140\",\"15\",\".492\",\".423\",\".835\",\"30.8\",\"15.6\",\"7.2\",\"0.9\"],[33.5,1057.5,27.5,0.47,0.41,0.71,31.75,12.15,4.9,1.85],[\"37\",\"1248\",\"61\",\".485\",\".404\",\".817\",\"33.7\",\"14.4\",\"4.1\",\"5.1\"],[32.5,1036.0,26.0,0.46,0.39,0.74,31.9,12.05,4.95,3.05],[35.25,1069.75,33.0,0.5,0.43,0.8,30.68,12.85,4.75,2.45],[\"38\",\"1341\",\"34\",\".454\",\".308\",\".665\",\"35.3\",\"22.6\",\"7.6\",\"4.3\"],[\"36\",\"1064\",\"53\",\".479\",\".246\",\".736\",\"29.6\",\"16.7\",\"4.0\",\"4.6\"],[27.0,685.0,20.6,0.43,0.39,0.76,23.72,10.1,3.58,1.6],[\"34\",\"1116\",\"42\",\".507\",\".396\",\".813\",\"32.8\",\"18.1\",\"4.1\",\"4.4\"],[\"30\",\"906\",\"23\",\".541\",\".275\",\".681\",\"30.2\",\"12.9\",\"10.5\",\"0.5\"],[28.5,985.0,54.0,0.51,0.43,0.76,34.95,11.0,4.65,5.05],[\"33\",\"1061\",\"19\",\".566\",\".000\",\".564\",\"32.2\",\"13.4\",\"8.4\",\"0.8\"],[\"32\",\"888\",\"30\",\".415\",\".346\",\".738\",\"27.8\",\"11.5\",\"2.6\",\"1.9\"],[37.5,850.0,30.0,0.43,0.37,0.83,22.8,9.45,2.2,1.4],[\"21\",\"464\",\"17\",\".471\",\".412\",\".522\",\"22.1\",\"9.5\",\"4.0\",\"1.4\"],[33.5,836.0,21.5,0.39,0.39,0.88,25.75,10.65,3.0,1.55],[\"35\",\"999\",\"38\",\".423\",\".353\",\".800\",\"28.5\",\"16.1\",\"3.5\",\"4.1\"],[\"5\",\"139\",\"4\",\".537\",\".478\",\".750\",\"27.8\",\"16.2\",\"3.8\",\"2.6\"],[\"35\",\"764\",\"21\",\".513\",\".396\",\".797\",\"21.8\",\"10.9\",\"5.8\",\"1.1\"],[\"22\",\"768\",\"29\",\".380\",\".348\",\".750\",\"34.9\",\"18.5\",\"5.7\",\"4.0\"],[\"37\",\"997\",\"30\",\".561\",\".413\",\".738\",\"26.9\",\"13.5\",\"9.1\",\"2.0\"],[31.5,608.0,30.0,0.46,0.42,0.71,19.75,8.6,3.3,1.1],[\"34\",\"1072\",\"52\",\".405\",\".307\",\".700\",\"31.5\",\"16.1\",\"4.3\",\"2.3\"],[\"35\",\"1172\",\"20\",\".612\",\".343\",\".733\",\"33.5\",\"20.1\",\"11.6\",\"1.6\"]],\"hovertemplate\":\"f_PTS_range=750 < f_pts <= 1500<br>pca0=%{x}<br>pca1=%{y}<br>g=%{customdata[0]}<br>mp=%{customdata[1]}<br>stl=%{customdata[2]}<br>fg_pct=%{customdata[3]}<br>fg3_pct=%{customdata[4]}<br>ft_pct=%{customdata[5]}<br>mp_per_g=%{customdata[6]}<br>pts_per_g=%{customdata[7]}<br>trb_per_g=%{customdata[8]}<br>ast_per_g=%{customdata[9]}<extra></extra>\",\"legendgroup\":\"750 < f_pts <= 1500\",\"marker\":{\"color\":\"#00cc96\",\"symbol\":\"circle\"},\"mode\":\"markers\",\"name\":\"750 < f_pts <= 1500\",\"orientation\":\"v\",\"showlegend\":true,\"x\":[-1.333070688154945,-1.498067967823509,-0.18673825959525497,-0.6332003567680478,-0.9519262412394814,-1.2820632619460504,-0.9635839113552931,-0.5793879820697115,-1.4781064205007153,-0.47839341637758015,-0.6378878512584009,-1.908855837438368,-0.6149179795099172,1.1669626041416217,-0.8563726105252123,0.13111607818925336,-0.24480277040566437,-0.5941756009748195,0.21406705956070182,0.3919159028411612,2.2028975852109425,0.4591562430198393,-0.30759668216939223,3.7275226641676653,0.7964676842796612,0.7760938921726314,-0.29663997419424476,1.5255970556636016,-0.6520799812751548,-1.1145208149784114],\"xaxis\":\"x\",\"y\":[-0.6869487041463825,-0.19727861825325144,3.056005821834453,-0.9127056267862417,-1.1097563742550223,-0.2939678801054593,-2.266684493918633,-0.8515249622478838,1.4090380323539202,-0.8956295901376707,-0.42109323619591105,-1.3057391381254095,1.3424189606645172,-0.13737280741819996,0.21341241803726888,-0.7483629131205616,1.753411084791659,-1.6296868072027582,-0.03141931041327313,0.07571236714478313,0.33480398219469215,-0.6009049579592081,0.26715924630359456,0.39879013985306394,-0.4263656928818469,0.32975438418228803,-0.47144696669206315,0.9268861474135707,1.2231896026035427,-1.9618240225803758],\"yaxis\":\"y\",\"type\":\"scatter\"}],                        {\"template\":{\"data\":{\"bar\":[{\"error_x\":{\"color\":\"#2a3f5f\"},\"error_y\":{\"color\":\"#2a3f5f\"},\"marker\":{\"line\":{\"color\":\"#E5ECF6\",\"width\":0.5},\"pattern\":{\"fillmode\":\"overlay\",\"size\":10,\"solidity\":0.2}},\"type\":\"bar\"}],\"barpolar\":[{\"marker\":{\"line\":{\"color\":\"#E5ECF6\",\"width\":0.5},\"pattern\":{\"fillmode\":\"overlay\",\"size\":10,\"solidity\":0.2}},\"type\":\"barpolar\"}],\"carpet\":[{\"aaxis\":{\"endlinecolor\":\"#2a3f5f\",\"gridcolor\":\"white\",\"linecolor\":\"white\",\"minorgridcolor\":\"white\",\"startlinecolor\":\"#2a3f5f\"},\"baxis\":{\"endlinecolor\":\"#2a3f5f\",\"gridcolor\":\"white\",\"linecolor\":\"white\",\"minorgridcolor\":\"white\",\"startlinecolor\":\"#2a3f5f\"},\"type\":\"carpet\"}],\"choropleth\":[{\"colorbar\":{\"outlinewidth\":0,\"ticks\":\"\"},\"type\":\"choropleth\"}],\"contour\":[{\"colorbar\":{\"outlinewidth\":0,\"ticks\":\"\"},\"colorscale\":[[0.0,\"#0d0887\"],[0.1111111111111111,\"#46039f\"],[0.2222222222222222,\"#7201a8\"],[0.3333333333333333,\"#9c179e\"],[0.4444444444444444,\"#bd3786\"],[0.5555555555555556,\"#d8576b\"],[0.6666666666666666,\"#ed7953\"],[0.7777777777777778,\"#fb9f3a\"],[0.8888888888888888,\"#fdca26\"],[1.0,\"#f0f921\"]],\"type\":\"contour\"}],\"contourcarpet\":[{\"colorbar\":{\"outlinewidth\":0,\"ticks\":\"\"},\"type\":\"contourcarpet\"}],\"heatmap\":[{\"colorbar\":{\"outlinewidth\":0,\"ticks\":\"\"},\"colorscale\":[[0.0,\"#0d0887\"],[0.1111111111111111,\"#46039f\"],[0.2222222222222222,\"#7201a8\"],[0.3333333333333333,\"#9c179e\"],[0.4444444444444444,\"#bd3786\"],[0.5555555555555556,\"#d8576b\"],[0.6666666666666666,\"#ed7953\"],[0.7777777777777778,\"#fb9f3a\"],[0.8888888888888888,\"#fdca26\"],[1.0,\"#f0f921\"]],\"type\":\"heatmap\"}],\"heatmapgl\":[{\"colorbar\":{\"outlinewidth\":0,\"ticks\":\"\"},\"colorscale\":[[0.0,\"#0d0887\"],[0.1111111111111111,\"#46039f\"],[0.2222222222222222,\"#7201a8\"],[0.3333333333333333,\"#9c179e\"],[0.4444444444444444,\"#bd3786\"],[0.5555555555555556,\"#d8576b\"],[0.6666666666666666,\"#ed7953\"],[0.7777777777777778,\"#fb9f3a\"],[0.8888888888888888,\"#fdca26\"],[1.0,\"#f0f921\"]],\"type\":\"heatmapgl\"}],\"histogram\":[{\"marker\":{\"pattern\":{\"fillmode\":\"overlay\",\"size\":10,\"solidity\":0.2}},\"type\":\"histogram\"}],\"histogram2d\":[{\"colorbar\":{\"outlinewidth\":0,\"ticks\":\"\"},\"colorscale\":[[0.0,\"#0d0887\"],[0.1111111111111111,\"#46039f\"],[0.2222222222222222,\"#7201a8\"],[0.3333333333333333,\"#9c179e\"],[0.4444444444444444,\"#bd3786\"],[0.5555555555555556,\"#d8576b\"],[0.6666666666666666,\"#ed7953\"],[0.7777777777777778,\"#fb9f3a\"],[0.8888888888888888,\"#fdca26\"],[1.0,\"#f0f921\"]],\"type\":\"histogram2d\"}],\"histogram2dcontour\":[{\"colorbar\":{\"outlinewidth\":0,\"ticks\":\"\"},\"colorscale\":[[0.0,\"#0d0887\"],[0.1111111111111111,\"#46039f\"],[0.2222222222222222,\"#7201a8\"],[0.3333333333333333,\"#9c179e\"],[0.4444444444444444,\"#bd3786\"],[0.5555555555555556,\"#d8576b\"],[0.6666666666666666,\"#ed7953\"],[0.7777777777777778,\"#fb9f3a\"],[0.8888888888888888,\"#fdca26\"],[1.0,\"#f0f921\"]],\"type\":\"histogram2dcontour\"}],\"mesh3d\":[{\"colorbar\":{\"outlinewidth\":0,\"ticks\":\"\"},\"type\":\"mesh3d\"}],\"parcoords\":[{\"line\":{\"colorbar\":{\"outlinewidth\":0,\"ticks\":\"\"}},\"type\":\"parcoords\"}],\"pie\":[{\"automargin\":true,\"type\":\"pie\"}],\"scatter\":[{\"marker\":{\"colorbar\":{\"outlinewidth\":0,\"ticks\":\"\"}},\"type\":\"scatter\"}],\"scatter3d\":[{\"line\":{\"colorbar\":{\"outlinewidth\":0,\"ticks\":\"\"}},\"marker\":{\"colorbar\":{\"outlinewidth\":0,\"ticks\":\"\"}},\"type\":\"scatter3d\"}],\"scattercarpet\":[{\"marker\":{\"colorbar\":{\"outlinewidth\":0,\"ticks\":\"\"}},\"type\":\"scattercarpet\"}],\"scattergeo\":[{\"marker\":{\"colorbar\":{\"outlinewidth\":0,\"ticks\":\"\"}},\"type\":\"scattergeo\"}],\"scattergl\":[{\"marker\":{\"colorbar\":{\"outlinewidth\":0,\"ticks\":\"\"}},\"type\":\"scattergl\"}],\"scattermapbox\":[{\"marker\":{\"colorbar\":{\"outlinewidth\":0,\"ticks\":\"\"}},\"type\":\"scattermapbox\"}],\"scatterpolar\":[{\"marker\":{\"colorbar\":{\"outlinewidth\":0,\"ticks\":\"\"}},\"type\":\"scatterpolar\"}],\"scatterpolargl\":[{\"marker\":{\"colorbar\":{\"outlinewidth\":0,\"ticks\":\"\"}},\"type\":\"scatterpolargl\"}],\"scatterternary\":[{\"marker\":{\"colorbar\":{\"outlinewidth\":0,\"ticks\":\"\"}},\"type\":\"scatterternary\"}],\"surface\":[{\"colorbar\":{\"outlinewidth\":0,\"ticks\":\"\"},\"colorscale\":[[0.0,\"#0d0887\"],[0.1111111111111111,\"#46039f\"],[0.2222222222222222,\"#7201a8\"],[0.3333333333333333,\"#9c179e\"],[0.4444444444444444,\"#bd3786\"],[0.5555555555555556,\"#d8576b\"],[0.6666666666666666,\"#ed7953\"],[0.7777777777777778,\"#fb9f3a\"],[0.8888888888888888,\"#fdca26\"],[1.0,\"#f0f921\"]],\"type\":\"surface\"}],\"table\":[{\"cells\":{\"fill\":{\"color\":\"#EBF0F8\"},\"line\":{\"color\":\"white\"}},\"header\":{\"fill\":{\"color\":\"#C8D4E3\"},\"line\":{\"color\":\"white\"}},\"type\":\"table\"}]},\"layout\":{\"annotationdefaults\":{\"arrowcolor\":\"#2a3f5f\",\"arrowhead\":0,\"arrowwidth\":1},\"autotypenumbers\":\"strict\",\"coloraxis\":{\"colorbar\":{\"outlinewidth\":0,\"ticks\":\"\"}},\"colorscale\":{\"diverging\":[[0,\"#8e0152\"],[0.1,\"#c51b7d\"],[0.2,\"#de77ae\"],[0.3,\"#f1b6da\"],[0.4,\"#fde0ef\"],[0.5,\"#f7f7f7\"],[0.6,\"#e6f5d0\"],[0.7,\"#b8e186\"],[0.8,\"#7fbc41\"],[0.9,\"#4d9221\"],[1,\"#276419\"]],\"sequential\":[[0.0,\"#0d0887\"],[0.1111111111111111,\"#46039f\"],[0.2222222222222222,\"#7201a8\"],[0.3333333333333333,\"#9c179e\"],[0.4444444444444444,\"#bd3786\"],[0.5555555555555556,\"#d8576b\"],[0.6666666666666666,\"#ed7953\"],[0.7777777777777778,\"#fb9f3a\"],[0.8888888888888888,\"#fdca26\"],[1.0,\"#f0f921\"]],\"sequentialminus\":[[0.0,\"#0d0887\"],[0.1111111111111111,\"#46039f\"],[0.2222222222222222,\"#7201a8\"],[0.3333333333333333,\"#9c179e\"],[0.4444444444444444,\"#bd3786\"],[0.5555555555555556,\"#d8576b\"],[0.6666666666666666,\"#ed7953\"],[0.7777777777777778,\"#fb9f3a\"],[0.8888888888888888,\"#fdca26\"],[1.0,\"#f0f921\"]]},\"colorway\":[\"#636efa\",\"#EF553B\",\"#00cc96\",\"#ab63fa\",\"#FFA15A\",\"#19d3f3\",\"#FF6692\",\"#B6E880\",\"#FF97FF\",\"#FECB52\"],\"font\":{\"color\":\"#2a3f5f\"},\"geo\":{\"bgcolor\":\"white\",\"lakecolor\":\"white\",\"landcolor\":\"#E5ECF6\",\"showlakes\":true,\"showland\":true,\"subunitcolor\":\"white\"},\"hoverlabel\":{\"align\":\"left\"},\"hovermode\":\"closest\",\"mapbox\":{\"style\":\"light\"},\"paper_bgcolor\":\"white\",\"plot_bgcolor\":\"#E5ECF6\",\"polar\":{\"angularaxis\":{\"gridcolor\":\"white\",\"linecolor\":\"white\",\"ticks\":\"\"},\"bgcolor\":\"#E5ECF6\",\"radialaxis\":{\"gridcolor\":\"white\",\"linecolor\":\"white\",\"ticks\":\"\"}},\"scene\":{\"xaxis\":{\"backgroundcolor\":\"#E5ECF6\",\"gridcolor\":\"white\",\"gridwidth\":2,\"linecolor\":\"white\",\"showbackground\":true,\"ticks\":\"\",\"zerolinecolor\":\"white\"},\"yaxis\":{\"backgroundcolor\":\"#E5ECF6\",\"gridcolor\":\"white\",\"gridwidth\":2,\"linecolor\":\"white\",\"showbackground\":true,\"ticks\":\"\",\"zerolinecolor\":\"white\"},\"zaxis\":{\"backgroundcolor\":\"#E5ECF6\",\"gridcolor\":\"white\",\"gridwidth\":2,\"linecolor\":\"white\",\"showbackground\":true,\"ticks\":\"\",\"zerolinecolor\":\"white\"}},\"shapedefaults\":{\"line\":{\"color\":\"#2a3f5f\"}},\"ternary\":{\"aaxis\":{\"gridcolor\":\"white\",\"linecolor\":\"white\",\"ticks\":\"\"},\"baxis\":{\"gridcolor\":\"white\",\"linecolor\":\"white\",\"ticks\":\"\"},\"bgcolor\":\"#E5ECF6\",\"caxis\":{\"gridcolor\":\"white\",\"linecolor\":\"white\",\"ticks\":\"\"}},\"title\":{\"x\":0.05},\"xaxis\":{\"automargin\":true,\"gridcolor\":\"white\",\"linecolor\":\"white\",\"ticks\":\"\",\"title\":{\"standoff\":15},\"zerolinecolor\":\"white\",\"zerolinewidth\":2},\"yaxis\":{\"automargin\":true,\"gridcolor\":\"white\",\"linecolor\":\"white\",\"ticks\":\"\",\"title\":{\"standoff\":15},\"zerolinecolor\":\"white\",\"zerolinewidth\":2}}},\"xaxis\":{\"anchor\":\"y\",\"domain\":[0.0,1.0],\"title\":{\"text\":\"pca0\"}},\"yaxis\":{\"anchor\":\"x\",\"domain\":[0.0,1.0],\"title\":{\"text\":\"pca1\"}},\"legend\":{\"title\":{\"text\":\"f_PTS_range\"},\"tracegroupgap\":0},\"title\":{\"text\":\"PCA Visualization with Actual Value\"}},                        {\"responsive\": true}                    ).then(function(){\n",
       "                            \n",
       "var gd = document.getElementById('31334fe3-571c-4295-afaa-818b313a5462');\n",
       "var x = new MutationObserver(function (mutations, observer) {{\n",
       "        var display = window.getComputedStyle(gd).display;\n",
       "        if (!display || display === 'none') {{\n",
       "            console.log([gd, 'removed!']);\n",
       "            Plotly.purge(gd);\n",
       "            observer.disconnect();\n",
       "        }}\n",
       "}});\n",
       "\n",
       "// Listen for the removal of the full notebook cells\n",
       "var notebookContainer = gd.closest('#notebook-container');\n",
       "if (notebookContainer) {{\n",
       "    x.observe(notebookContainer, {childList: true});\n",
       "}}\n",
       "\n",
       "// Listen for the clearing of the current output cell\n",
       "var outputEl = gd.closest('.output');\n",
       "if (outputEl) {{\n",
       "    x.observe(outputEl, {childList: true});\n",
       "}}\n",
       "\n",
       "                        })                };                });            </script>        </div>"
      ]
     },
     "metadata": {},
     "output_type": "display_data"
    }
   ],
   "source": [
    "plotly_scatter(dec_basketball, df_all_stats_bucket, x_feat_list)"
   ]
  },
  {
   "cell_type": "code",
   "execution_count": 97,
   "id": "b40d0c41",
   "metadata": {},
   "outputs": [
    {
     "data": {
      "text/plain": [
       "Text(0.5, 1.0, 'Accuracy Rate Across Different Classifier')"
      ]
     },
     "execution_count": 97,
     "metadata": {},
     "output_type": "execute_result"
    },
    {
     "data": {
      "image/png": "[encoded data removed]",
      "text/plain": [
       "<Figure size 432x288 with 2 Axes>"
      ]
     },
     "metadata": {},
     "output_type": "display_data"
    }
   ],
   "source": [
    "dict_acc = {'KNN' : [86/97, 6/30, 0/5],\n",
    "           'Random Forest' : [90/97, 4/30, 1/5],\n",
    "           'Decision Tree' : [76/97, 11/30, 2/5],\n",
    "           'Class' : ['0 - 750 fantasy points', '750 - 1500 fantasy points', '1500 - 2250 fantasy points']}\n",
    "\n",
    "df_acc = pd.DataFrame(dict_acc)\n",
    "df_acc.set_index('Class', inplace=True)\n",
    "sns.heatmap(df_acc, annot=True, fmt=\".2f\")\n",
    "plt.title('Accuracy Rate Across Different Classifier')\n"
   ]
  },
  {
   "cell_type": "code",
   "execution_count": 88,
   "id": "e1fd50a2",
   "metadata": {},
   "outputs": [
    {
     "data": {
      "text/html": [
       "<div>\n",
       "<style scoped>\n",
       "    .dataframe tbody tr th:only-of-type {\n",
       "        vertical-align: middle;\n",
       "    }\n",
       "\n",
       "    .dataframe tbody tr th {\n",
       "        vertical-align: top;\n",
       "    }\n",
       "\n",
       "    .dataframe thead th {\n",
       "        text-align: right;\n",
       "    }\n",
       "</style>\n",
       "<table border=\"1\" class=\"dataframe\">\n",
       "  <thead>\n",
       "    <tr style=\"text-align: right;\">\n",
       "      <th></th>\n",
       "      <th>Player</th>\n",
       "      <th>PTS</th>\n",
       "      <th>REB</th>\n",
       "      <th>AST</th>\n",
       "      <th>BLK</th>\n",
       "      <th>STL</th>\n",
       "      <th>FG%</th>\n",
       "      <th>FT%</th>\n",
       "      <th>3PM</th>\n",
       "      <th>TO</th>\n",
       "      <th>GP</th>\n",
       "      <th>MIN</th>\n",
       "      <th>FTM</th>\n",
       "      <th>2PM</th>\n",
       "      <th>A/TO</th>\n",
       "      <th>PF</th>\n",
       "    </tr>\n",
       "  </thead>\n",
       "  <tbody>\n",
       "    <tr>\n",
       "      <th>0</th>\n",
       "      <td>Trae Young (ATL - PG) DTD</td>\n",
       "      <td>2,155</td>\n",
       "      <td>284</td>\n",
       "      <td>738</td>\n",
       "      <td>7</td>\n",
       "      <td>73</td>\n",
       "      <td>.461</td>\n",
       "      <td>.904</td>\n",
       "      <td>233</td>\n",
       "      <td>303</td>\n",
       "      <td>76</td>\n",
       "      <td>2,652</td>\n",
       "      <td>500</td>\n",
       "      <td>478</td>\n",
       "      <td>2.44</td>\n",
       "      <td>128</td>\n",
       "    </tr>\n",
       "    <tr>\n",
       "      <th>1</th>\n",
       "      <td>DeMar DeRozan (CHI - SF,PF,SG) DTD</td>\n",
       "      <td>2,118</td>\n",
       "      <td>391</td>\n",
       "      <td>374</td>\n",
       "      <td>24</td>\n",
       "      <td>68</td>\n",
       "      <td>.504</td>\n",
       "      <td>.877</td>\n",
       "      <td>50</td>\n",
       "      <td>180</td>\n",
       "      <td>76</td>\n",
       "      <td>2,743</td>\n",
       "      <td>520</td>\n",
       "      <td>724</td>\n",
       "      <td>2.08</td>\n",
       "      <td>178</td>\n",
       "    </tr>\n",
       "    <tr>\n",
       "      <th>2</th>\n",
       "      <td>Joel Embiid (PHI - PF,C) DTD</td>\n",
       "      <td>2,079</td>\n",
       "      <td>795</td>\n",
       "      <td>284</td>\n",
       "      <td>99</td>\n",
       "      <td>77</td>\n",
       "      <td>.499</td>\n",
       "      <td>.814</td>\n",
       "      <td>93</td>\n",
       "      <td>214</td>\n",
       "      <td>68</td>\n",
       "      <td>2,297</td>\n",
       "      <td>654</td>\n",
       "      <td>573</td>\n",
       "      <td>1.33</td>\n",
       "      <td>181</td>\n",
       "    </tr>\n",
       "    <tr>\n",
       "      <th>3</th>\n",
       "      <td>Jayson Tatum (BOS - SF,PF) DTD</td>\n",
       "      <td>2,046</td>\n",
       "      <td>609</td>\n",
       "      <td>334</td>\n",
       "      <td>48</td>\n",
       "      <td>75</td>\n",
       "      <td>.453</td>\n",
       "      <td>.853</td>\n",
       "      <td>230</td>\n",
       "      <td>217</td>\n",
       "      <td>76</td>\n",
       "      <td>2,731</td>\n",
       "      <td>400</td>\n",
       "      <td>478</td>\n",
       "      <td>1.54</td>\n",
       "      <td>174</td>\n",
       "    </tr>\n",
       "    <tr>\n",
       "      <th>4</th>\n",
       "      <td>Nikola Jokic (DEN - PF,C) DTD</td>\n",
       "      <td>2,004</td>\n",
       "      <td>1,018</td>\n",
       "      <td>584</td>\n",
       "      <td>64</td>\n",
       "      <td>108</td>\n",
       "      <td>.583</td>\n",
       "      <td>.810</td>\n",
       "      <td>97</td>\n",
       "      <td>280</td>\n",
       "      <td>74</td>\n",
       "      <td>2,476</td>\n",
       "      <td>379</td>\n",
       "      <td>667</td>\n",
       "      <td>2.09</td>\n",
       "      <td>191</td>\n",
       "    </tr>\n",
       "  </tbody>\n",
       "</table>\n",
       "</div>"
      ],
      "text/plain": [
       "                                Player    PTS    REB  AST BLK  STL   FG%  \\\n",
       "0           Trae Young (ATL - PG) DTD   2,155    284  738   7   73  .461   \n",
       "1  DeMar DeRozan (CHI - SF,PF,SG) DTD   2,118    391  374  24   68  .504   \n",
       "2        Joel Embiid (PHI - PF,C) DTD   2,079    795  284  99   77  .499   \n",
       "3      Jayson Tatum (BOS - SF,PF) DTD   2,046    609  334  48   75  .453   \n",
       "4       Nikola Jokic (DEN - PF,C) DTD   2,004  1,018  584  64  108  .583   \n",
       "\n",
       "    FT%  3PM   TO  GP    MIN  FTM  2PM  A/TO   PF  \n",
       "0  .904  233  303  76  2,652  500  478  2.44  128  \n",
       "1  .877   50  180  76  2,743  520  724  2.08  178  \n",
       "2  .814   93  214  68  2,297  654  573  1.33  181  \n",
       "3  .853  230  217  76  2,731  400  478  1.54  174  \n",
       "4  .810   97  280  74  2,476  379  667  2.09  191  "
      ]
     },
     "execution_count": 88,
     "metadata": {},
     "output_type": "execute_result"
    }
   ],
   "source": [
    "df_nba_stat.head()"
   ]
  },
  {
   "cell_type": "code",
   "execution_count": 96,
   "id": "4b541ce8",
   "metadata": {},
   "outputs": [
    {
     "data": {
      "text/plain": [
       "<matplotlib.legend.Legend at 0x7fa50a70c490>"
      ]
     },
     "execution_count": 96,
     "metadata": {},
     "output_type": "execute_result"
    },
    {
     "data": {
      "image/png": "[encoded data removed]",
      "text/plain": [
       "<Figure size 720x360 with 1 Axes>"
      ]
     },
     "metadata": {},
     "output_type": "display_data"
    }
   ],
   "source": [
    "from collections import Counter\n",
    "\n",
    "dict_prediction_stat = Counter(df_all_stats_bucket['f_PTS_range'])\n",
    "\n",
    "# df_nba_stat['PTS'] = df_nba_stat.apply(lambda row : convertFTS2Int(row['PTS']), axis=1)\n",
    "# df_nba_stat['PTS_range'] = df_nba_stat.apply(lambda row : assignBucket(int(row['PTS']), 750), axis=1)\n",
    "\n",
    "dict_source_stat = Counter(df_nba_stat['PTS_range'])\n",
    "\n",
    "df_count = pd.DataFrame()\n",
    "df_count = df_count.append(dict_prediction_stat, ignore_index=True)\n",
    "df_count = df_count.append(dict_source_stat, ignore_index=True)\n",
    "\n",
    "X = df_count.columns\n",
    "X_axis = np.arange(len(X))\n",
    "plt.bar(X_axis - 0.2, df_count.loc[1,:], 0.4, label = 'All Players Participated')\n",
    "plt.bar(X_axis + 0.2, df_count.loc[0,:], 0.4, label = 'All Players with College Career Stats')\n",
    "plt.xticks(X_axis, X)\n",
    "plt.gcf().set_size_inches(10,5)\n",
    "plt.title('Number of Player Participated in 2021 Season and Player with College Stats')\n",
    "plt.legend()\n",
    "# df_count\n"
   ]
  },
  {
   "cell_type": "markdown",
   "id": "6c26ba7f",
   "metadata": {},
   "source": []
  },
  {
   "cell_type": "markdown",
   "id": "ab4cded8",
   "metadata": {},
   "source": [
    "### Lasso Regression"
   ]
  },
  {
   "cell_type": "code",
   "execution_count": null,
   "id": "c718c144",
   "metadata": {},
   "outputs": [],
   "source": []
  },
  {
   "cell_type": "code",
   "execution_count": null,
   "id": "ae45a90f",
   "metadata": {},
   "outputs": [],
   "source": []
  }
 ],
 "metadata": {
  "kernelspec": {
   "display_name": "Python 3 (ipykernel)",
   "language": "python",
   "name": "python3"
  },
  "language_info": {
   "codemirror_mode": {
    "name": "ipython",
    "version": 3
   },
   "file_extension": ".py",
   "mimetype": "text/x-python",
   "name": "python",
   "nbconvert_exporter": "python",
   "pygments_lexer": "ipython3",
   "version": "3.9.5"
  }
 },
 "nbformat": 4,
 "nbformat_minor": 5
}
